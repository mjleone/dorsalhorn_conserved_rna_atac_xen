{
 "cells": [
  {
   "cell_type": "markdown",
   "id": "b6b5030d-f982-4da9-9672-883e78cc4e1c",
   "metadata": {},
   "source": [
    "# Use conda environment from yml file found in envs titled r4_xenium.yml"
   ]
  },
  {
   "cell_type": "code",
   "execution_count": 4,
   "id": "05079855-52f5-4297-ae31-15c07a85cc2d",
   "metadata": {},
   "outputs": [],
   "source": [
    "library(Seurat)\n",
    "library(SeuratDisk)\n",
    "\n",
    "# change to your path\n",
    "main_path = '/projects/pfenninggroup/spatial/seal/mouse_spinal_cord_xenium_first_run/'"
   ]
  },
  {
   "cell_type": "markdown",
   "id": "5a39f59a-8924-4ec5-b6d0-989c5a14c15b",
   "metadata": {},
   "source": [
    "# SALINE run"
   ]
  },
  {
   "cell_type": "code",
   "execution_count": 1,
   "id": "66ae432f-c11f-481e-a46c-3724226d3c42",
   "metadata": {},
   "outputs": [],
   "source": [
    "saline_data = paste0(main_path, 'output-XETG00176__0010684__SALINE__20231107__233200')"
   ]
  },
  {
   "cell_type": "code",
   "execution_count": 5,
   "id": "c61f8953-0ed4-42d7-9e4a-87dccb49b64d",
   "metadata": {
    "collapsed": true,
    "jupyter": {
     "outputs_hidden": true
    }
   },
   "outputs": [
    {
     "name": "stderr",
     "output_type": "stream",
     "text": [
      "10X data contains more than one type and is being returned as a list containing matrices of each type.\n",
      "\n",
      "Warning message:\n",
      "“Feature names cannot have underscores ('_'), replacing with dashes ('-')”\n",
      "Warning message:\n",
      "“Feature names cannot have underscores ('_'), replacing with dashes ('-')”\n",
      "Warning message:\n",
      "“Feature names cannot have underscores ('_'), replacing with dashes ('-')”\n",
      "Warning message:\n",
      "“Feature names cannot have underscores ('_'), replacing with dashes ('-')”\n",
      "Warning message:\n",
      "“Feature names cannot have underscores ('_'), replacing with dashes ('-')”\n",
      "Warning message:\n",
      "“Feature names cannot have underscores ('_'), replacing with dashes ('-')”\n",
      "Warning message:\n",
      "“Not validating FOV objects”\n",
      "Warning message:\n",
      "“Not validating Centroids objects”\n",
      "Warning message:\n",
      "“Not validating Centroids objects”\n",
      "Warning message:\n",
      "“Not validating FOV objects”\n",
      "Warning message:\n",
      "“Not validating Centroids objects”\n",
      "Warning message:\n",
      "“Not validating FOV objects”\n",
      "Warning message:\n",
      "“Not validating FOV objects”\n",
      "Warning message:\n",
      "“Not validating FOV objects”\n",
      "Warning message:\n",
      "“Not validating Seurat objects”\n"
     ]
    }
   ],
   "source": [
    "# load data full field-of-view and drop empty cells\n",
    "xenium.obj <- LoadXenium(saline_data, fov = \"fov\")\n",
    "xenium.obj <- subset(xenium.obj, subset = nCount_Xenium > 0)"
   ]
  },
  {
   "cell_type": "code",
   "execution_count": 6,
   "id": "b880e447-18a4-488f-b774-a4af18cd5f8a",
   "metadata": {},
   "outputs": [],
   "source": [
    "# set custom labels based on Sathyamurthy et al mouse neurons, with conserved neuron subtype labels \n",
    "\n",
    "top_annotation <- readRDS(\"/projects/pfenninggroup/spatial/seal/mouse_spinal_cord_xenium_first_run/rdas/SALINE_top_annotation.rds\")\n",
    "subtype_annotation <- readRDS(\"/projects/pfenninggroup/spatial/seal/mouse_spinal_cord_xenium_first_run/rdas/SALINE_subtype_annotation.rds\")\n",
    "\n",
    "xenium.obj$top_annotation = top_annotation\n",
    "xenium.obj$subtype_annotation = subtype_annotation"
   ]
  },
  {
   "cell_type": "code",
   "execution_count": 9,
   "id": "623f0c42-fd99-41dc-ae45-82b8291b85aa",
   "metadata": {},
   "outputs": [
    {
     "data": {
      "text/plain": [
       "\n",
       "             Astrocytes             Endothelial               Ependymal \n",
       "                   5962                    5208                     464 \n",
       "               Exc-BNC2                Exc-LMO3                 Exc-MAF \n",
       "                    135                     521                     408 \n",
       "               Exc-MAFA          Exc-NMU & TAC3               Exc-NMUR2 \n",
       "                    142                     371                     611 \n",
       "                Exc-NTS               Exc-SKOR2               Exc-SNTB1 \n",
       "                    403                     404                     129 \n",
       "           Inh-CACNA2D3               Inh-MEF2C                 Inh-NPY \n",
       "                    142                     237                     237 \n",
       "              Inh-NXPH1                Inh-PDYN      Inh-SORCS1 & PDZD2 \n",
       "                    174                     354                     438 \n",
       "          Leptomeninges               Microglia Mid and Ventral Neurons \n",
       "                   6127                    2226                    4708 \n",
       "       Oligodendrocytes                    OPCs               Pericytes \n",
       "                  13845                    1554                    1540 \n",
       "          Schwann Cells               Unlabeled \n",
       "                   3154                     126 "
      ]
     },
     "metadata": {},
     "output_type": "display_data"
    }
   ],
   "source": [
    "table(xenium.obj$subtype_annotation)"
   ]
  },
  {
   "cell_type": "markdown",
   "id": "3090898b-77e9-4f9d-a2a2-9120d8485061",
   "metadata": {},
   "source": [
    "# NAIVE BRUSH 5896 run\n",
    "\n",
    "Note: several cells are labeled unknown, and are likely to be oligodendrocytes. Since glia were not the focus of the study, they were labeled conservatively."
   ]
  },
  {
   "cell_type": "code",
   "execution_count": 12,
   "id": "1775e491-3250-4e81-be37-15914f48a0fb",
   "metadata": {},
   "outputs": [],
   "source": [
    "naive_brush_data = paste0(main_path, 'output-XETG00176__0010684__NAIVE_BRUSH_5896__20231107__233200')"
   ]
  },
  {
   "cell_type": "code",
   "execution_count": 11,
   "id": "1bf7003b-7860-42f7-9793-6c40c39578b2",
   "metadata": {
    "collapsed": true,
    "jupyter": {
     "outputs_hidden": true
    }
   },
   "outputs": [
    {
     "name": "stderr",
     "output_type": "stream",
     "text": [
      "10X data contains more than one type and is being returned as a list containing matrices of each type.\n",
      "\n",
      "Warning message:\n",
      "“Feature names cannot have underscores ('_'), replacing with dashes ('-')”\n",
      "Warning message:\n",
      "“Feature names cannot have underscores ('_'), replacing with dashes ('-')”\n",
      "Warning message:\n",
      "“Feature names cannot have underscores ('_'), replacing with dashes ('-')”\n",
      "Warning message:\n",
      "“Feature names cannot have underscores ('_'), replacing with dashes ('-')”\n",
      "Warning message:\n",
      "“Feature names cannot have underscores ('_'), replacing with dashes ('-')”\n",
      "Warning message:\n",
      "“Feature names cannot have underscores ('_'), replacing with dashes ('-')”\n",
      "Warning message:\n",
      "“Not validating FOV objects”\n",
      "Warning message:\n",
      "“Not validating Centroids objects”\n",
      "Warning message:\n",
      "“Not validating Centroids objects”\n",
      "Warning message:\n",
      "“Not validating FOV objects”\n",
      "Warning message:\n",
      "“Not validating Centroids objects”\n",
      "Warning message:\n",
      "“Not validating FOV objects”\n",
      "Warning message:\n",
      "“Not validating FOV objects”\n",
      "Warning message:\n",
      "“Not validating FOV objects”\n",
      "Warning message:\n",
      "“Not validating Seurat objects”\n"
     ]
    }
   ],
   "source": [
    "# load data full field-of-view and drop empty cells\n",
    "xenium.obj <- LoadXenium(naive_brush_data, fov = \"fov\")\n",
    "xenium.obj <- subset(xenium.obj, subset = nCount_Xenium > 0)"
   ]
  },
  {
   "cell_type": "code",
   "execution_count": null,
   "id": "e5b0608a-1d58-4b40-b1c1-89fbb9340ca9",
   "metadata": {},
   "outputs": [],
   "source": [
    "# set custom labels based on Sathyamurthy et al mouse neurons, with conserved neuron subtype labels \n",
    "\n",
    "top_annotation <- readRDS(\"/projects/pfenninggroup/spatial/seal/mouse_spinal_cord_xenium_first_run/rdas/NAIVE_BRUSH_top_annotation.rds\")\n",
    "subtype_annotation <- readRDS(\"/projects/pfenninggroup/spatial/seal/mouse_spinal_cord_xenium_first_run/rdas/NAIVE_BRUSH_subtype_annotation.rds\")\n",
    "\n",
    "xenium.obj$top_annotation = top_annotation\n",
    "xenium.obj$subtype_annotation = subtype_annotation"
   ]
  }
 ],
 "metadata": {
  "kernelspec": {
   "display_name": "R",
   "language": "R",
   "name": "ir"
  },
  "language_info": {
   "codemirror_mode": "r",
   "file_extension": ".r",
   "mimetype": "text/x-r-source",
   "name": "R",
   "pygments_lexer": "r",
   "version": "4.3.1"
  }
 },
 "nbformat": 4,
 "nbformat_minor": 5
}
