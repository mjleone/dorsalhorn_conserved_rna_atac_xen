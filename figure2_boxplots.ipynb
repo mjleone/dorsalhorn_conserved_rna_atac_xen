{
 "cells": [
  {
   "cell_type": "markdown",
   "id": "bdfd3511-71cb-455b-b076-c8d355056b80",
   "metadata": {},
   "source": [
    "# box plots generated in main figure 2 based on macaque cell counts - RNAscope"
   ]
  },
  {
   "cell_type": "code",
   "execution_count": 1,
   "id": "9c77453f-8539-4b3f-a39f-a1d57426ddbf",
   "metadata": {
    "collapsed": true,
    "jupyter": {
     "outputs_hidden": true
    },
    "tags": []
   },
   "outputs": [
    {
     "name": "stderr",
     "output_type": "stream",
     "text": [
      "Warning message:\n",
      "“package ‘here’ was built under R version 4.1.3”\n",
      "here() starts at /projects/pfenninggroup/singleCell/Macaque_SealDorsalHorn_snATAC-seq\n",
      "\n",
      "Loading required package: ggplot2\n",
      "\n",
      "Warning message:\n",
      "“package ‘ggplot2’ was built under R version 4.1.3”\n",
      "\n",
      "Attaching package: ‘rstatix’\n",
      "\n",
      "\n",
      "The following object is masked from ‘package:stats’:\n",
      "\n",
      "    filter\n",
      "\n",
      "\n"
     ]
    }
   ],
   "source": [
    "library(pzfx)\n",
    "library(here)\n",
    "library(\"stringr\")\n",
    "library(ggpubr)\n",
    "library(rstatix)\n",
    "library(grid)"
   ]
  },
  {
   "cell_type": "code",
   "execution_count": 2,
   "id": "07b930b4-c288-4914-a0fc-1397a2b65fb2",
   "metadata": {
    "tags": []
   },
   "outputs": [
    {
     "data": {
      "text/html": [
       "<style>\n",
       ".list-inline {list-style: none; margin:0; padding: 0}\n",
       ".list-inline>li {display: inline-block}\n",
       ".list-inline>li:not(:last-child)::after {content: \"\\00b7\"; padding: 0 .5ex}\n",
       "</style>\n",
       "<ol class=list-inline><li>'GLUT1'</li><li>'GLUT2'</li><li>'GLUT3'</li><li>'GLUT4'</li><li>'GLUT5'</li><li>'GLUT6'</li><li>'GLUT7'</li><li>'GLUT8'</li><li>'GLUT9'</li><li>'GLUT10'</li><li>'GLUT11'</li><li>'GABA1'</li><li>'GABA2'</li><li>'GABA3'</li><li>'GABA4'</li><li>'GABA5'</li><li>'GLUT1 Pie Chart'</li><li>'GLUT2 Pie Chart'</li><li>'GLUT3 Pie Chart'</li><li>'GLUT4 Pie Chart'</li><li>'GLUT5 Pie Chart'</li><li>'GLUT6 Pie Chart'</li><li>'GLUT7 Pie Chart'</li><li>'GLUT8 Pie Chart'</li><li>'GLUT9 Pie Chart'</li><li>'GLUT10 Pie Chart'</li><li>'GLUT11 Pie Chart'</li><li>'GABA1 Pie Chart'</li><li>'GABA2 Pie Chart'</li><li>'GABA3 Pie Chart'</li><li>'GABA4 Pie Chart'</li><li>'GABA5 Pie Chart'</li></ol>\n"
      ],
      "text/latex": [
       "\\begin{enumerate*}\n",
       "\\item 'GLUT1'\n",
       "\\item 'GLUT2'\n",
       "\\item 'GLUT3'\n",
       "\\item 'GLUT4'\n",
       "\\item 'GLUT5'\n",
       "\\item 'GLUT6'\n",
       "\\item 'GLUT7'\n",
       "\\item 'GLUT8'\n",
       "\\item 'GLUT9'\n",
       "\\item 'GLUT10'\n",
       "\\item 'GLUT11'\n",
       "\\item 'GABA1'\n",
       "\\item 'GABA2'\n",
       "\\item 'GABA3'\n",
       "\\item 'GABA4'\n",
       "\\item 'GABA5'\n",
       "\\item 'GLUT1 Pie Chart'\n",
       "\\item 'GLUT2 Pie Chart'\n",
       "\\item 'GLUT3 Pie Chart'\n",
       "\\item 'GLUT4 Pie Chart'\n",
       "\\item 'GLUT5 Pie Chart'\n",
       "\\item 'GLUT6 Pie Chart'\n",
       "\\item 'GLUT7 Pie Chart'\n",
       "\\item 'GLUT8 Pie Chart'\n",
       "\\item 'GLUT9 Pie Chart'\n",
       "\\item 'GLUT10 Pie Chart'\n",
       "\\item 'GLUT11 Pie Chart'\n",
       "\\item 'GABA1 Pie Chart'\n",
       "\\item 'GABA2 Pie Chart'\n",
       "\\item 'GABA3 Pie Chart'\n",
       "\\item 'GABA4 Pie Chart'\n",
       "\\item 'GABA5 Pie Chart'\n",
       "\\end{enumerate*}\n"
      ],
      "text/markdown": [
       "1. 'GLUT1'\n",
       "2. 'GLUT2'\n",
       "3. 'GLUT3'\n",
       "4. 'GLUT4'\n",
       "5. 'GLUT5'\n",
       "6. 'GLUT6'\n",
       "7. 'GLUT7'\n",
       "8. 'GLUT8'\n",
       "9. 'GLUT9'\n",
       "10. 'GLUT10'\n",
       "11. 'GLUT11'\n",
       "12. 'GABA1'\n",
       "13. 'GABA2'\n",
       "14. 'GABA3'\n",
       "15. 'GABA4'\n",
       "16. 'GABA5'\n",
       "17. 'GLUT1 Pie Chart'\n",
       "18. 'GLUT2 Pie Chart'\n",
       "19. 'GLUT3 Pie Chart'\n",
       "20. 'GLUT4 Pie Chart'\n",
       "21. 'GLUT5 Pie Chart'\n",
       "22. 'GLUT6 Pie Chart'\n",
       "23. 'GLUT7 Pie Chart'\n",
       "24. 'GLUT8 Pie Chart'\n",
       "25. 'GLUT9 Pie Chart'\n",
       "26. 'GLUT10 Pie Chart'\n",
       "27. 'GLUT11 Pie Chart'\n",
       "28. 'GABA1 Pie Chart'\n",
       "29. 'GABA2 Pie Chart'\n",
       "30. 'GABA3 Pie Chart'\n",
       "31. 'GABA4 Pie Chart'\n",
       "32. 'GABA5 Pie Chart'\n",
       "\n",
       "\n"
      ],
      "text/plain": [
       " [1] \"GLUT1\"            \"GLUT2\"            \"GLUT3\"            \"GLUT4\"           \n",
       " [5] \"GLUT5\"            \"GLUT6\"            \"GLUT7\"            \"GLUT8\"           \n",
       " [9] \"GLUT9\"            \"GLUT10\"           \"GLUT11\"           \"GABA1\"           \n",
       "[13] \"GABA2\"            \"GABA3\"            \"GABA4\"            \"GABA5\"           \n",
       "[17] \"GLUT1 Pie Chart\"  \"GLUT2 Pie Chart\"  \"GLUT3 Pie Chart\"  \"GLUT4 Pie Chart\" \n",
       "[21] \"GLUT5 Pie Chart\"  \"GLUT6 Pie Chart\"  \"GLUT7 Pie Chart\"  \"GLUT8 Pie Chart\" \n",
       "[25] \"GLUT9 Pie Chart\"  \"GLUT10 Pie Chart\" \"GLUT11 Pie Chart\" \"GABA1 Pie Chart\" \n",
       "[29] \"GABA2 Pie Chart\"  \"GABA3 Pie Chart\"  \"GABA4 Pie Chart\"  \"GABA5 Pie Chart\" "
      ]
     },
     "metadata": {},
     "output_type": "display_data"
    }
   ],
   "source": [
    "path = here(\"data/tidy_data/tables/cell_counts_per_animal.pzfx\")\n",
    "pzfx_tables(path)"
   ]
  },
  {
   "cell_type": "code",
   "execution_count": 5,
   "id": "0f5d810b-cdf3-4f2a-942a-8c213ec04c4e",
   "metadata": {
    "tags": []
   },
   "outputs": [],
   "source": [
    "# create table with all cell types and laminar data\n",
    "for (ii in 1:length(pzfx_tables(path))){\n",
    "    \n",
    "    # ignore pie chart data\n",
    "    if (!grepl( 'Pie Chart', pzfx_tables(path)[ii])){\n",
    "    \n",
    "    df <- read_pzfx(path, table=ii)\n",
    "    df['celltype'] <- pzfx_tables(path)[ii]\n",
    "    \n",
    "    if (ii == 1){\n",
    "        dfs <- df\n",
    "    } else {\n",
    "        dfs <- rbind(dfs,df)\n",
    "        #print(head(df))\n",
    "    }\n",
    "        \n",
    "    }\n",
    "}\n",
    "dfs['I_II'] <- dfs['I-II']\n",
    "dfs['III_V'] <- dfs['III-V']\n",
    "dfs['celltype'] = as.factor(dfs$celltype)"
   ]
  },
  {
   "cell_type": "code",
   "execution_count": 6,
   "id": "0510d12d-c036-4421-8b1b-f210d5462344",
   "metadata": {},
   "outputs": [],
   "source": [
    "\n",
    "\n",
    "dfs1 <- dfs\n",
    "dfs1['counts'] = dfs['I_II']\n",
    "dfs1['lamina'] = 'I_II'\n",
    "dfs1['celltype_lamina'] = paste0(dfs1$celltype,dfs1$lamina)\n",
    "dfs1 = dfs1[c('celltype_lamina','celltype','counts','lamina')]\n",
    "dfs1 = dfs1[order(dfs1$celltype_lamina),]\n",
    "\n",
    "dfs2 <- dfs\n",
    "dfs2['counts'] = dfs['III_V']\n",
    "dfs2['lamina'] = 'III_V'\n",
    "dfs2['celltype_lamina'] = paste0(dfs2$celltype,dfs2$lamina)\n",
    "dfs2 = dfs2[c('celltype_lamina','celltype','counts','lamina')]\n",
    "\n",
    "\n",
    "dfs_bylamina = rbind(dfs1,dfs2)\n",
    "dfs_bylamina = dfs_bylamina[order(dfs_bylamina$celltype_lamina),]\n",
    "\n",
    "### change lamina name\n",
    "dfs_bylamina[dfs_bylamina == \"I_II\"] <- \"I-II\"\n",
    "dfs_bylamina[dfs_bylamina == \"III_V\"] <- \"III-V\"\n",
    "\n",
    "laminar_gaba = dfs_bylamina[str_detect(dfs_bylamina$celltype,'GABA'),]\n",
    "laminar_glut = dfs_bylamina[str_detect(dfs_bylamina$celltype,'GLUT'),]\n"
   ]
  },
  {
   "cell_type": "code",
   "execution_count": 5,
   "id": "942b96c8-1903-432d-a259-7486def2cec5",
   "metadata": {
    "collapsed": true,
    "jupyter": {
     "outputs_hidden": true
    },
    "tags": []
   },
   "outputs": [
    {
     "data": {
      "text/html": [
       "<table class=\"dataframe\">\n",
       "<caption>A data.frame: 60 × 4</caption>\n",
       "<thead>\n",
       "\t<tr><th></th><th scope=col>celltype_lamina</th><th scope=col>celltype</th><th scope=col>counts</th><th scope=col>lamina</th></tr>\n",
       "\t<tr><th></th><th scope=col>&lt;chr&gt;</th><th scope=col>&lt;fct&gt;</th><th scope=col>&lt;dbl&gt;</th><th scope=col>&lt;chr&gt;</th></tr>\n",
       "</thead>\n",
       "<tbody>\n",
       "\t<tr><th scope=row>66</th><td>GABA1I_II </td><td>GABA1</td><td> 1</td><td>I-II </td></tr>\n",
       "\t<tr><th scope=row>67</th><td>GABA1I_II </td><td>GABA1</td><td> 4</td><td>I-II </td></tr>\n",
       "\t<tr><th scope=row>68</th><td>GABA1I_II </td><td>GABA1</td><td> 0</td><td>I-II </td></tr>\n",
       "\t<tr><th scope=row>69</th><td>GABA1I_II </td><td>GABA1</td><td> 2</td><td>I-II </td></tr>\n",
       "\t<tr><th scope=row>70</th><td>GABA1I_II </td><td>GABA1</td><td> 5</td><td>I-II </td></tr>\n",
       "\t<tr><th scope=row>71</th><td>GABA1I_II </td><td>GABA1</td><td> 3</td><td>I-II </td></tr>\n",
       "\t<tr><th scope=row>661</th><td>GABA1III_V</td><td>GABA1</td><td>18</td><td>III-V</td></tr>\n",
       "\t<tr><th scope=row>671</th><td>GABA1III_V</td><td>GABA1</td><td>38</td><td>III-V</td></tr>\n",
       "\t<tr><th scope=row>681</th><td>GABA1III_V</td><td>GABA1</td><td>25</td><td>III-V</td></tr>\n",
       "\t<tr><th scope=row>691</th><td>GABA1III_V</td><td>GABA1</td><td>36</td><td>III-V</td></tr>\n",
       "\t<tr><th scope=row>701</th><td>GABA1III_V</td><td>GABA1</td><td>20</td><td>III-V</td></tr>\n",
       "\t<tr><th scope=row>711</th><td>GABA1III_V</td><td>GABA1</td><td>33</td><td>III-V</td></tr>\n",
       "\t<tr><th scope=row>72</th><td>GABA2I_II </td><td>GABA2</td><td> 0</td><td>I-II </td></tr>\n",
       "\t<tr><th scope=row>73</th><td>GABA2I_II </td><td>GABA2</td><td> 0</td><td>I-II </td></tr>\n",
       "\t<tr><th scope=row>74</th><td>GABA2I_II </td><td>GABA2</td><td> 4</td><td>I-II </td></tr>\n",
       "\t<tr><th scope=row>75</th><td>GABA2I_II </td><td>GABA2</td><td> 0</td><td>I-II </td></tr>\n",
       "\t<tr><th scope=row>76</th><td>GABA2I_II </td><td>GABA2</td><td> 4</td><td>I-II </td></tr>\n",
       "\t<tr><th scope=row>77</th><td>GABA2I_II </td><td>GABA2</td><td> 1</td><td>I-II </td></tr>\n",
       "\t<tr><th scope=row>721</th><td>GABA2III_V</td><td>GABA2</td><td>13</td><td>III-V</td></tr>\n",
       "\t<tr><th scope=row>731</th><td>GABA2III_V</td><td>GABA2</td><td>12</td><td>III-V</td></tr>\n",
       "\t<tr><th scope=row>741</th><td>GABA2III_V</td><td>GABA2</td><td>13</td><td>III-V</td></tr>\n",
       "\t<tr><th scope=row>751</th><td>GABA2III_V</td><td>GABA2</td><td>14</td><td>III-V</td></tr>\n",
       "\t<tr><th scope=row>761</th><td>GABA2III_V</td><td>GABA2</td><td>10</td><td>III-V</td></tr>\n",
       "\t<tr><th scope=row>771</th><td>GABA2III_V</td><td>GABA2</td><td> 8</td><td>III-V</td></tr>\n",
       "\t<tr><th scope=row>78</th><td>GABA3I_II </td><td>GABA3</td><td>14</td><td>I-II </td></tr>\n",
       "\t<tr><th scope=row>79</th><td>GABA3I_II </td><td>GABA3</td><td>23</td><td>I-II </td></tr>\n",
       "\t<tr><th scope=row>80</th><td>GABA3I_II </td><td>GABA3</td><td>18</td><td>I-II </td></tr>\n",
       "\t<tr><th scope=row>81</th><td>GABA3I_II </td><td>GABA3</td><td>32</td><td>I-II </td></tr>\n",
       "\t<tr><th scope=row>82</th><td>GABA3I_II </td><td>GABA3</td><td>33</td><td>I-II </td></tr>\n",
       "\t<tr><th scope=row>83</th><td>GABA3I_II </td><td>GABA3</td><td>25</td><td>I-II </td></tr>\n",
       "\t<tr><th scope=row>781</th><td>GABA3III_V</td><td>GABA3</td><td>61</td><td>III-V</td></tr>\n",
       "\t<tr><th scope=row>791</th><td>GABA3III_V</td><td>GABA3</td><td>59</td><td>III-V</td></tr>\n",
       "\t<tr><th scope=row>801</th><td>GABA3III_V</td><td>GABA3</td><td>46</td><td>III-V</td></tr>\n",
       "\t<tr><th scope=row>811</th><td>GABA3III_V</td><td>GABA3</td><td>79</td><td>III-V</td></tr>\n",
       "\t<tr><th scope=row>821</th><td>GABA3III_V</td><td>GABA3</td><td>62</td><td>III-V</td></tr>\n",
       "\t<tr><th scope=row>831</th><td>GABA3III_V</td><td>GABA3</td><td>52</td><td>III-V</td></tr>\n",
       "\t<tr><th scope=row>84</th><td>GABA4I_II </td><td>GABA4</td><td>10</td><td>I-II </td></tr>\n",
       "\t<tr><th scope=row>85</th><td>GABA4I_II </td><td>GABA4</td><td>13</td><td>I-II </td></tr>\n",
       "\t<tr><th scope=row>86</th><td>GABA4I_II </td><td>GABA4</td><td>11</td><td>I-II </td></tr>\n",
       "\t<tr><th scope=row>87</th><td>GABA4I_II </td><td>GABA4</td><td>23</td><td>I-II </td></tr>\n",
       "\t<tr><th scope=row>88</th><td>GABA4I_II </td><td>GABA4</td><td>14</td><td>I-II </td></tr>\n",
       "\t<tr><th scope=row>89</th><td>GABA4I_II </td><td>GABA4</td><td>10</td><td>I-II </td></tr>\n",
       "\t<tr><th scope=row>841</th><td>GABA4III_V</td><td>GABA4</td><td> 4</td><td>III-V</td></tr>\n",
       "\t<tr><th scope=row>851</th><td>GABA4III_V</td><td>GABA4</td><td> 4</td><td>III-V</td></tr>\n",
       "\t<tr><th scope=row>861</th><td>GABA4III_V</td><td>GABA4</td><td> 2</td><td>III-V</td></tr>\n",
       "\t<tr><th scope=row>871</th><td>GABA4III_V</td><td>GABA4</td><td> 9</td><td>III-V</td></tr>\n",
       "\t<tr><th scope=row>881</th><td>GABA4III_V</td><td>GABA4</td><td> 4</td><td>III-V</td></tr>\n",
       "\t<tr><th scope=row>891</th><td>GABA4III_V</td><td>GABA4</td><td> 2</td><td>III-V</td></tr>\n",
       "\t<tr><th scope=row>90</th><td>GABA5I_II </td><td>GABA5</td><td>58</td><td>I-II </td></tr>\n",
       "\t<tr><th scope=row>91</th><td>GABA5I_II </td><td>GABA5</td><td>43</td><td>I-II </td></tr>\n",
       "\t<tr><th scope=row>92</th><td>GABA5I_II </td><td>GABA5</td><td>37</td><td>I-II </td></tr>\n",
       "\t<tr><th scope=row>93</th><td>GABA5I_II </td><td>GABA5</td><td>48</td><td>I-II </td></tr>\n",
       "\t<tr><th scope=row>94</th><td>GABA5I_II </td><td>GABA5</td><td>38</td><td>I-II </td></tr>\n",
       "\t<tr><th scope=row>95</th><td>GABA5I_II </td><td>GABA5</td><td>30</td><td>I-II </td></tr>\n",
       "\t<tr><th scope=row>901</th><td>GABA5III_V</td><td>GABA5</td><td>52</td><td>III-V</td></tr>\n",
       "\t<tr><th scope=row>911</th><td>GABA5III_V</td><td>GABA5</td><td>12</td><td>III-V</td></tr>\n",
       "\t<tr><th scope=row>921</th><td>GABA5III_V</td><td>GABA5</td><td>21</td><td>III-V</td></tr>\n",
       "\t<tr><th scope=row>931</th><td>GABA5III_V</td><td>GABA5</td><td> 8</td><td>III-V</td></tr>\n",
       "\t<tr><th scope=row>941</th><td>GABA5III_V</td><td>GABA5</td><td>30</td><td>III-V</td></tr>\n",
       "\t<tr><th scope=row>951</th><td>GABA5III_V</td><td>GABA5</td><td>49</td><td>III-V</td></tr>\n",
       "</tbody>\n",
       "</table>\n"
      ],
      "text/latex": [
       "A data.frame: 60 × 4\n",
       "\\begin{tabular}{r|llll}\n",
       "  & celltype\\_lamina & celltype & counts & lamina\\\\\n",
       "  & <chr> & <fct> & <dbl> & <chr>\\\\\n",
       "\\hline\n",
       "\t66 & GABA1I\\_II  & GABA1 &  1 & I-II \\\\\n",
       "\t67 & GABA1I\\_II  & GABA1 &  4 & I-II \\\\\n",
       "\t68 & GABA1I\\_II  & GABA1 &  0 & I-II \\\\\n",
       "\t69 & GABA1I\\_II  & GABA1 &  2 & I-II \\\\\n",
       "\t70 & GABA1I\\_II  & GABA1 &  5 & I-II \\\\\n",
       "\t71 & GABA1I\\_II  & GABA1 &  3 & I-II \\\\\n",
       "\t661 & GABA1III\\_V & GABA1 & 18 & III-V\\\\\n",
       "\t671 & GABA1III\\_V & GABA1 & 38 & III-V\\\\\n",
       "\t681 & GABA1III\\_V & GABA1 & 25 & III-V\\\\\n",
       "\t691 & GABA1III\\_V & GABA1 & 36 & III-V\\\\\n",
       "\t701 & GABA1III\\_V & GABA1 & 20 & III-V\\\\\n",
       "\t711 & GABA1III\\_V & GABA1 & 33 & III-V\\\\\n",
       "\t72 & GABA2I\\_II  & GABA2 &  0 & I-II \\\\\n",
       "\t73 & GABA2I\\_II  & GABA2 &  0 & I-II \\\\\n",
       "\t74 & GABA2I\\_II  & GABA2 &  4 & I-II \\\\\n",
       "\t75 & GABA2I\\_II  & GABA2 &  0 & I-II \\\\\n",
       "\t76 & GABA2I\\_II  & GABA2 &  4 & I-II \\\\\n",
       "\t77 & GABA2I\\_II  & GABA2 &  1 & I-II \\\\\n",
       "\t721 & GABA2III\\_V & GABA2 & 13 & III-V\\\\\n",
       "\t731 & GABA2III\\_V & GABA2 & 12 & III-V\\\\\n",
       "\t741 & GABA2III\\_V & GABA2 & 13 & III-V\\\\\n",
       "\t751 & GABA2III\\_V & GABA2 & 14 & III-V\\\\\n",
       "\t761 & GABA2III\\_V & GABA2 & 10 & III-V\\\\\n",
       "\t771 & GABA2III\\_V & GABA2 &  8 & III-V\\\\\n",
       "\t78 & GABA3I\\_II  & GABA3 & 14 & I-II \\\\\n",
       "\t79 & GABA3I\\_II  & GABA3 & 23 & I-II \\\\\n",
       "\t80 & GABA3I\\_II  & GABA3 & 18 & I-II \\\\\n",
       "\t81 & GABA3I\\_II  & GABA3 & 32 & I-II \\\\\n",
       "\t82 & GABA3I\\_II  & GABA3 & 33 & I-II \\\\\n",
       "\t83 & GABA3I\\_II  & GABA3 & 25 & I-II \\\\\n",
       "\t781 & GABA3III\\_V & GABA3 & 61 & III-V\\\\\n",
       "\t791 & GABA3III\\_V & GABA3 & 59 & III-V\\\\\n",
       "\t801 & GABA3III\\_V & GABA3 & 46 & III-V\\\\\n",
       "\t811 & GABA3III\\_V & GABA3 & 79 & III-V\\\\\n",
       "\t821 & GABA3III\\_V & GABA3 & 62 & III-V\\\\\n",
       "\t831 & GABA3III\\_V & GABA3 & 52 & III-V\\\\\n",
       "\t84 & GABA4I\\_II  & GABA4 & 10 & I-II \\\\\n",
       "\t85 & GABA4I\\_II  & GABA4 & 13 & I-II \\\\\n",
       "\t86 & GABA4I\\_II  & GABA4 & 11 & I-II \\\\\n",
       "\t87 & GABA4I\\_II  & GABA4 & 23 & I-II \\\\\n",
       "\t88 & GABA4I\\_II  & GABA4 & 14 & I-II \\\\\n",
       "\t89 & GABA4I\\_II  & GABA4 & 10 & I-II \\\\\n",
       "\t841 & GABA4III\\_V & GABA4 &  4 & III-V\\\\\n",
       "\t851 & GABA4III\\_V & GABA4 &  4 & III-V\\\\\n",
       "\t861 & GABA4III\\_V & GABA4 &  2 & III-V\\\\\n",
       "\t871 & GABA4III\\_V & GABA4 &  9 & III-V\\\\\n",
       "\t881 & GABA4III\\_V & GABA4 &  4 & III-V\\\\\n",
       "\t891 & GABA4III\\_V & GABA4 &  2 & III-V\\\\\n",
       "\t90 & GABA5I\\_II  & GABA5 & 58 & I-II \\\\\n",
       "\t91 & GABA5I\\_II  & GABA5 & 43 & I-II \\\\\n",
       "\t92 & GABA5I\\_II  & GABA5 & 37 & I-II \\\\\n",
       "\t93 & GABA5I\\_II  & GABA5 & 48 & I-II \\\\\n",
       "\t94 & GABA5I\\_II  & GABA5 & 38 & I-II \\\\\n",
       "\t95 & GABA5I\\_II  & GABA5 & 30 & I-II \\\\\n",
       "\t901 & GABA5III\\_V & GABA5 & 52 & III-V\\\\\n",
       "\t911 & GABA5III\\_V & GABA5 & 12 & III-V\\\\\n",
       "\t921 & GABA5III\\_V & GABA5 & 21 & III-V\\\\\n",
       "\t931 & GABA5III\\_V & GABA5 &  8 & III-V\\\\\n",
       "\t941 & GABA5III\\_V & GABA5 & 30 & III-V\\\\\n",
       "\t951 & GABA5III\\_V & GABA5 & 49 & III-V\\\\\n",
       "\\end{tabular}\n"
      ],
      "text/markdown": [
       "\n",
       "A data.frame: 60 × 4\n",
       "\n",
       "| <!--/--> | celltype_lamina &lt;chr&gt; | celltype &lt;fct&gt; | counts &lt;dbl&gt; | lamina &lt;chr&gt; |\n",
       "|---|---|---|---|---|\n",
       "| 66 | GABA1I_II  | GABA1 |  1 | I-II  |\n",
       "| 67 | GABA1I_II  | GABA1 |  4 | I-II  |\n",
       "| 68 | GABA1I_II  | GABA1 |  0 | I-II  |\n",
       "| 69 | GABA1I_II  | GABA1 |  2 | I-II  |\n",
       "| 70 | GABA1I_II  | GABA1 |  5 | I-II  |\n",
       "| 71 | GABA1I_II  | GABA1 |  3 | I-II  |\n",
       "| 661 | GABA1III_V | GABA1 | 18 | III-V |\n",
       "| 671 | GABA1III_V | GABA1 | 38 | III-V |\n",
       "| 681 | GABA1III_V | GABA1 | 25 | III-V |\n",
       "| 691 | GABA1III_V | GABA1 | 36 | III-V |\n",
       "| 701 | GABA1III_V | GABA1 | 20 | III-V |\n",
       "| 711 | GABA1III_V | GABA1 | 33 | III-V |\n",
       "| 72 | GABA2I_II  | GABA2 |  0 | I-II  |\n",
       "| 73 | GABA2I_II  | GABA2 |  0 | I-II  |\n",
       "| 74 | GABA2I_II  | GABA2 |  4 | I-II  |\n",
       "| 75 | GABA2I_II  | GABA2 |  0 | I-II  |\n",
       "| 76 | GABA2I_II  | GABA2 |  4 | I-II  |\n",
       "| 77 | GABA2I_II  | GABA2 |  1 | I-II  |\n",
       "| 721 | GABA2III_V | GABA2 | 13 | III-V |\n",
       "| 731 | GABA2III_V | GABA2 | 12 | III-V |\n",
       "| 741 | GABA2III_V | GABA2 | 13 | III-V |\n",
       "| 751 | GABA2III_V | GABA2 | 14 | III-V |\n",
       "| 761 | GABA2III_V | GABA2 | 10 | III-V |\n",
       "| 771 | GABA2III_V | GABA2 |  8 | III-V |\n",
       "| 78 | GABA3I_II  | GABA3 | 14 | I-II  |\n",
       "| 79 | GABA3I_II  | GABA3 | 23 | I-II  |\n",
       "| 80 | GABA3I_II  | GABA3 | 18 | I-II  |\n",
       "| 81 | GABA3I_II  | GABA3 | 32 | I-II  |\n",
       "| 82 | GABA3I_II  | GABA3 | 33 | I-II  |\n",
       "| 83 | GABA3I_II  | GABA3 | 25 | I-II  |\n",
       "| 781 | GABA3III_V | GABA3 | 61 | III-V |\n",
       "| 791 | GABA3III_V | GABA3 | 59 | III-V |\n",
       "| 801 | GABA3III_V | GABA3 | 46 | III-V |\n",
       "| 811 | GABA3III_V | GABA3 | 79 | III-V |\n",
       "| 821 | GABA3III_V | GABA3 | 62 | III-V |\n",
       "| 831 | GABA3III_V | GABA3 | 52 | III-V |\n",
       "| 84 | GABA4I_II  | GABA4 | 10 | I-II  |\n",
       "| 85 | GABA4I_II  | GABA4 | 13 | I-II  |\n",
       "| 86 | GABA4I_II  | GABA4 | 11 | I-II  |\n",
       "| 87 | GABA4I_II  | GABA4 | 23 | I-II  |\n",
       "| 88 | GABA4I_II  | GABA4 | 14 | I-II  |\n",
       "| 89 | GABA4I_II  | GABA4 | 10 | I-II  |\n",
       "| 841 | GABA4III_V | GABA4 |  4 | III-V |\n",
       "| 851 | GABA4III_V | GABA4 |  4 | III-V |\n",
       "| 861 | GABA4III_V | GABA4 |  2 | III-V |\n",
       "| 871 | GABA4III_V | GABA4 |  9 | III-V |\n",
       "| 881 | GABA4III_V | GABA4 |  4 | III-V |\n",
       "| 891 | GABA4III_V | GABA4 |  2 | III-V |\n",
       "| 90 | GABA5I_II  | GABA5 | 58 | I-II  |\n",
       "| 91 | GABA5I_II  | GABA5 | 43 | I-II  |\n",
       "| 92 | GABA5I_II  | GABA5 | 37 | I-II  |\n",
       "| 93 | GABA5I_II  | GABA5 | 48 | I-II  |\n",
       "| 94 | GABA5I_II  | GABA5 | 38 | I-II  |\n",
       "| 95 | GABA5I_II  | GABA5 | 30 | I-II  |\n",
       "| 901 | GABA5III_V | GABA5 | 52 | III-V |\n",
       "| 911 | GABA5III_V | GABA5 | 12 | III-V |\n",
       "| 921 | GABA5III_V | GABA5 | 21 | III-V |\n",
       "| 931 | GABA5III_V | GABA5 |  8 | III-V |\n",
       "| 941 | GABA5III_V | GABA5 | 30 | III-V |\n",
       "| 951 | GABA5III_V | GABA5 | 49 | III-V |\n",
       "\n"
      ],
      "text/plain": [
       "    celltype_lamina celltype counts lamina\n",
       "66  GABA1I_II       GABA1     1     I-II  \n",
       "67  GABA1I_II       GABA1     4     I-II  \n",
       "68  GABA1I_II       GABA1     0     I-II  \n",
       "69  GABA1I_II       GABA1     2     I-II  \n",
       "70  GABA1I_II       GABA1     5     I-II  \n",
       "71  GABA1I_II       GABA1     3     I-II  \n",
       "661 GABA1III_V      GABA1    18     III-V \n",
       "671 GABA1III_V      GABA1    38     III-V \n",
       "681 GABA1III_V      GABA1    25     III-V \n",
       "691 GABA1III_V      GABA1    36     III-V \n",
       "701 GABA1III_V      GABA1    20     III-V \n",
       "711 GABA1III_V      GABA1    33     III-V \n",
       "72  GABA2I_II       GABA2     0     I-II  \n",
       "73  GABA2I_II       GABA2     0     I-II  \n",
       "74  GABA2I_II       GABA2     4     I-II  \n",
       "75  GABA2I_II       GABA2     0     I-II  \n",
       "76  GABA2I_II       GABA2     4     I-II  \n",
       "77  GABA2I_II       GABA2     1     I-II  \n",
       "721 GABA2III_V      GABA2    13     III-V \n",
       "731 GABA2III_V      GABA2    12     III-V \n",
       "741 GABA2III_V      GABA2    13     III-V \n",
       "751 GABA2III_V      GABA2    14     III-V \n",
       "761 GABA2III_V      GABA2    10     III-V \n",
       "771 GABA2III_V      GABA2     8     III-V \n",
       "78  GABA3I_II       GABA3    14     I-II  \n",
       "79  GABA3I_II       GABA3    23     I-II  \n",
       "80  GABA3I_II       GABA3    18     I-II  \n",
       "81  GABA3I_II       GABA3    32     I-II  \n",
       "82  GABA3I_II       GABA3    33     I-II  \n",
       "83  GABA3I_II       GABA3    25     I-II  \n",
       "781 GABA3III_V      GABA3    61     III-V \n",
       "791 GABA3III_V      GABA3    59     III-V \n",
       "801 GABA3III_V      GABA3    46     III-V \n",
       "811 GABA3III_V      GABA3    79     III-V \n",
       "821 GABA3III_V      GABA3    62     III-V \n",
       "831 GABA3III_V      GABA3    52     III-V \n",
       "84  GABA4I_II       GABA4    10     I-II  \n",
       "85  GABA4I_II       GABA4    13     I-II  \n",
       "86  GABA4I_II       GABA4    11     I-II  \n",
       "87  GABA4I_II       GABA4    23     I-II  \n",
       "88  GABA4I_II       GABA4    14     I-II  \n",
       "89  GABA4I_II       GABA4    10     I-II  \n",
       "841 GABA4III_V      GABA4     4     III-V \n",
       "851 GABA4III_V      GABA4     4     III-V \n",
       "861 GABA4III_V      GABA4     2     III-V \n",
       "871 GABA4III_V      GABA4     9     III-V \n",
       "881 GABA4III_V      GABA4     4     III-V \n",
       "891 GABA4III_V      GABA4     2     III-V \n",
       "90  GABA5I_II       GABA5    58     I-II  \n",
       "91  GABA5I_II       GABA5    43     I-II  \n",
       "92  GABA5I_II       GABA5    37     I-II  \n",
       "93  GABA5I_II       GABA5    48     I-II  \n",
       "94  GABA5I_II       GABA5    38     I-II  \n",
       "95  GABA5I_II       GABA5    30     I-II  \n",
       "901 GABA5III_V      GABA5    52     III-V \n",
       "911 GABA5III_V      GABA5    12     III-V \n",
       "921 GABA5III_V      GABA5    21     III-V \n",
       "931 GABA5III_V      GABA5     8     III-V \n",
       "941 GABA5III_V      GABA5    30     III-V \n",
       "951 GABA5III_V      GABA5    49     III-V "
      ]
     },
     "metadata": {},
     "output_type": "display_data"
    }
   ],
   "source": [
    "laminar_gaba"
   ]
  },
  {
   "cell_type": "code",
   "execution_count": 66,
   "id": "9517b400-1926-4ca7-8535-e9f99a608fe0",
   "metadata": {
    "tags": []
   },
   "outputs": [
    {
     "data": {
      "text/html": [
       "<strong>png:</strong> 2"
      ],
      "text/latex": [
       "\\textbf{png:} 2"
      ],
      "text/markdown": [
       "**png:** 2"
      ],
      "text/plain": [
       "png \n",
       "  2 "
      ]
     },
     "metadata": {},
     "output_type": "display_data"
    },
    {
     "data": {
      "image/png": "[encoded data removed]",
      "text/plain": [
       "plot without title"
      ]
     },
     "metadata": {
      "image/png": {
       "height": 480,
       "width": 1200
      }
     },
     "output_type": "display_data"
    }
   ],
   "source": [
    "## ggpubr way\n",
    "#\"npg\", \"aaas\", \"lancet\", \"jco\", \"ucscgb\", \"uchicago\", \"simpsons\" and \"rickandmorty\"\n",
    "options(repr.plot.width=20, repr.plot.height=8)\n",
    "laminar_gaba_rest <- laminar_gaba[laminar_gaba$celltype != 'GABA3',]\n",
    "\n",
    "gaba_ordered = c('CACNA2D3', 'SORCS1 &\\nPDZD2', 'MEF2C &\\nNXPH1','PDYN')\n",
    "\n",
    "p <- ggboxplot(laminar_gaba_rest, x = \"celltype\", y = \"counts\", size = 0.5,\n",
    "          color = \"lamina\", palette = get_palette(c(\"#228B22\", \"#500050\"),2),\n",
    "          add = \"jitter\") +\n",
    "theme(text = element_text(size=10),\n",
    "  axis.text.x = element_text(angle = 0,vjust = 1, hjust=.5), axis.title=element_text(size=12,face=\"bold\"),\n",
    "  # Hide panel borders and remove grid lines\n",
    "  panel.border = element_blank(),\n",
    "  panel.grid.major = element_blank(),\n",
    "  panel.grid.minor = element_blank(),\n",
    "  # Change axis line\n",
    "  axis.line = element_line(colour = \"black\"),\n",
    "     legend.position = 'none', legend.text = element_text(size=12)  ) +\n",
    "    xlab(\"Cell Type\") + ylab(\"Cell Counts\") + \n",
    "scale_x_discrete(labels = gaba_ordered)\n",
    "\n",
    "# stat.test <- laminar_gaba %>%\n",
    "#   group_by(celltype) %>%\n",
    "#   wilcox_test(counts ~ lamina) %>%\n",
    "# #  adjust_pvalue(method = \"bonferroni\") %>%\n",
    "# #  add_significance(\"p.adj\")\n",
    "#  add_significance(\"p\")\n",
    "# stat.test\n",
    "# stat.test <- stat.test %>%\n",
    "#   add_xy_position(x = \"celltype\", dodge = 0.8)\n",
    "\n",
    "\n",
    "\n",
    "pdf(here(paste0(\"figures/exploratory/arokiaraj_paper/gaba_\",Sys.Date(),\".pdf\")), width=4, height=2.5)\n",
    "print(p)\n",
    "dev.off()\n",
    "\n",
    "pstat <- p + stat_compare_means(aes(group = lamina),label = \"p.signif\", size = 5)\n",
    "print(pstat)"
   ]
  },
  {
   "cell_type": "code",
   "execution_count": 73,
   "id": "fa36a670-e472-4fa7-92df-320fe5c7818f",
   "metadata": {
    "tags": []
   },
   "outputs": [
    {
     "name": "stderr",
     "output_type": "stream",
     "text": [
      "Warning message:\n",
      "“\u001b[1m\u001b[22mDuplicated aesthetics after name standardisation: \u001b[32msize\u001b[39m”\n"
     ]
    },
    {
     "data": {
      "text/html": [
       "<strong>png:</strong> 2"
      ],
      "text/latex": [
       "\\textbf{png:} 2"
      ],
      "text/markdown": [
       "**png:** 2"
      ],
      "text/plain": [
       "png \n",
       "  2 "
      ]
     },
     "metadata": {},
     "output_type": "display_data"
    },
    {
     "data": {
      "image/png": "[encoded data removed]",
      "text/plain": [
       "plot without title"
      ]
     },
     "metadata": {
      "image/png": {
       "height": 480,
       "width": 1200
      }
     },
     "output_type": "display_data"
    }
   ],
   "source": [
    "\n",
    "options(repr.plot.width=20, repr.plot.height=8)\n",
    "laminar_glut_rest <- laminar_glut[laminar_glut$celltype != 'GLUT7' & laminar_glut$celltype != 'GLUT2',]\n",
    "\n",
    "glut_ordered = c('GLUT1','GLUT3','GLUT4','GLUT5','GLUT6','GLUT8','GLUT9','GLUT10','GLUT11')\n",
    "new_cell_nicknames = c('BNC2','NMU', 'TAC3','LMO3', 'SKOR2', 'MAFA', \n",
    "                  'NTS', 'SNTB1', 'PBX3')\n",
    "names(new_cell_nicknames) = glut_ordered\n",
    "\n",
    "#glut_ordered = c('GLUT1','GLUT2','GLUT3','GLUT4','GLUT5','GLUT6','GLUT7','GLUT8','GLUT9','GLUT10','GLUT11')\n",
    "laminar_glut_rest$celltype = factor(laminar_glut_rest$celltype, levels = glut_ordered)\n",
    "\n",
    "p <- ggboxplot(laminar_glut_rest, x = \"celltype\", y = \"counts\", size = 0.5,\n",
    "          color = \"lamina\", palette = get_palette(c(\"#228B22\", \"#500050\"),2),\n",
    "          add = \"jitter\", lwd=.75) +\n",
    "theme(text = element_text(size=10),\n",
    "  axis.text.x = element_text(angle = 0,vjust = 1, hjust= 0.5), axis.title=element_text(size=12,face=\"bold\"),\n",
    "  # Hide panel borders and remove grid lines\n",
    "  panel.border = element_blank(),\n",
    "  panel.grid.major = element_blank(),\n",
    "  panel.grid.minor = element_blank(),\n",
    "  # Change axis line\n",
    "  axis.line = element_line(colour = \"black\"),\n",
    "     legend.position = 'none', legend.text = element_text(size=10)  ) +\n",
    "    xlab(\"Cell Type\") + ylab(\"Cell Counts\") +\n",
    "    scale_x_discrete(labels = new_cell_nicknames)\n",
    "\n",
    "pstat <- p #+ stat_compare_means(aes(group = lamina),label = \"p.signif\", size = 5)\n",
    "\n",
    "pdf(here(paste0(\"figures/exploratory/arokiaraj_paper/glut_rest_\",Sys.Date(),\".pdf\")), width=7.5, height=2.5)\n",
    "print(pstat)\n",
    "dev.off()\n",
    "\n",
    "pstat <- p + stat_compare_means(aes(group = lamina),label = \"p.signif\", size = 5)\n",
    "print(pstat)"
   ]
  },
  {
   "cell_type": "code",
   "execution_count": 19,
   "id": "33063daa-2d4a-48e6-926f-4ec34953213e",
   "metadata": {},
   "outputs": [
    {
     "data": {
      "text/html": [
       "<strong>png:</strong> 2"
      ],
      "text/latex": [
       "\\textbf{png:} 2"
      ],
      "text/markdown": [
       "**png:** 2"
      ],
      "text/plain": [
       "png \n",
       "  2 "
      ]
     },
     "metadata": {},
     "output_type": "display_data"
    },
    {
     "data": {
      "image/png": "[encoded data removed]",
      "text/plain": [
       "plot without title"
      ]
     },
     "metadata": {
      "image/png": {
       "height": 480,
       "width": 1200
      }
     },
     "output_type": "display_data"
    }
   ],
   "source": [
    "# Just legend\n",
    "\n",
    "ptmp <- ggboxplot(laminar_glut, x = \"celltype\", y = \"counts\",\n",
    "          color = \"lamina\", palette = get_palette(c(\"#228B22\", \"#500050\"),2),\n",
    "          add = \"jitter\", lwd=.75) +\n",
    "theme(text = element_text(size=12),\n",
    "     legend.position = c(.5,.5), legend.text = element_text(size=12)  ) +\n",
    "    xlab(\"Cell Type\") + ylab(\"Cell Counts\")\n",
    "\n",
    "leg <- get_legend(ptmp)\n",
    "\n",
    "# Convert to a ggplot and print\n",
    "pdf(here(paste0(\"figures/exploratory/arokiaraj_paper/lamina_just_legend_\",Sys.Date(),\".pdf\")), width=7.5, height=4)\n",
    "as_ggplot(leg)\n",
    "dev.off()\n",
    "\n",
    "as_ggplot(leg)"
   ]
  },
  {
   "cell_type": "code",
   "execution_count": 69,
   "id": "72cc1a21-72f2-49e7-8f92-7f435fcb00fc",
   "metadata": {},
   "outputs": [
    {
     "data": {
      "text/html": [
       "<strong>png:</strong> 2"
      ],
      "text/latex": [
       "\\textbf{png:} 2"
      ],
      "text/markdown": [
       "**png:** 2"
      ],
      "text/plain": [
       "png \n",
       "  2 "
      ]
     },
     "metadata": {},
     "output_type": "display_data"
    },
    {
     "data": {
      "image/png": "[encoded data removed]",
      "text/plain": [
       "plot without title"
      ]
     },
     "metadata": {
      "image/png": {
       "height": 360,
       "width": 240
      }
     },
     "output_type": "display_data"
    }
   ],
   "source": [
    "laminar_gaba3 <- laminar_gaba[laminar_gaba$celltype == 'GABA3',]\n",
    "\n",
    "p <- ggboxplot(laminar_gaba3, x = \"celltype\", y = \"counts\", size = 0.5,\n",
    "          color = \"lamina\", palette=get_palette(c(\"#228B22\", \"#500050\"),2),\n",
    "          add = \"jitter\") +\n",
    "theme(text = element_text(size=10),\n",
    "  axis.text.x = element_text(angle = 0,vjust = 1, hjust=.5), axis.title.x=element_blank(),\n",
    "  # Hide panel borders and remove grid lines\n",
    "  panel.border = element_blank(),\n",
    "  panel.grid.major = element_blank(),\n",
    "  panel.grid.minor = element_blank(),\n",
    "  # Change axis line\n",
    "  axis.line = element_line(colour = \"black\"),\n",
    "     legend.position = \"none\", legend.text = element_text(size=10)) +\n",
    "    scale_x_discrete(labels = c('NPY'))\n",
    "\n",
    "pstat <- p + stat_compare_means(aes(group = lamina),label = \"p.signif\", size = 9)\n",
    "\n",
    "pdf(here(paste0(\"figures/exploratory/arokiaraj_paper/gaba3_\",Sys.Date(),\".pdf\")), width=1.5, height=2)\n",
    "print(pstat)\n",
    "dev.off()\n",
    "\n",
    "print(pstat)"
   ]
  },
  {
   "cell_type": "code",
   "execution_count": 70,
   "id": "5ab9680f-13e8-4a29-bfbd-a16be5fd17a2",
   "metadata": {},
   "outputs": [
    {
     "data": {
      "text/html": [
       "<strong>png:</strong> 2"
      ],
      "text/latex": [
       "\\textbf{png:} 2"
      ],
      "text/markdown": [
       "**png:** 2"
      ],
      "text/plain": [
       "png \n",
       "  2 "
      ]
     },
     "metadata": {},
     "output_type": "display_data"
    }
   ],
   "source": [
    "laminar_glut7 <- laminar_glut[laminar_glut$celltype == 'GLUT7',]\n",
    "\n",
    "p <- ggboxplot(laminar_glut7, x = \"celltype\", y = \"counts\", size = 0.5,\n",
    "          color = \"lamina\", palette=get_palette(c(\"#228B22\", \"#500050\"),2),\n",
    "          add = \"jitter\") +\n",
    "theme(text = element_text(size=10),\n",
    "  axis.text.x = element_text(angle = 0,vjust = 1, hjust=.5), axis.title.x=element_blank(),\n",
    "  # Hide panel borders and remove grid lines\n",
    "  panel.border = element_blank(),\n",
    "  panel.grid.major = element_blank(),\n",
    "  panel.grid.minor = element_blank(),\n",
    "  # Change axis line\n",
    "  axis.line = element_line(colour = \"black\"),\n",
    "     legend.position = \"none\", legend.text = element_text(size=10)) +\n",
    "scale_x_discrete(labels = c('MAF'))\n",
    "\n",
    "pstat <- p + stat_compare_means(aes(group = lamina),label = \"p.signif\", size = 9)\n",
    "\n",
    "pdf(here(paste0(\"figures/exploratory/arokiaraj_paper/glut7_\",Sys.Date(),\".pdf\")), width=1.5, height=2)\n",
    "print(pstat)\n",
    "dev.off()"
   ]
  },
  {
   "cell_type": "code",
   "execution_count": 72,
   "id": "9d7e5a33-4769-4df5-b575-0325451c54bd",
   "metadata": {},
   "outputs": [
    {
     "data": {
      "text/html": [
       "<strong>png:</strong> 2"
      ],
      "text/latex": [
       "\\textbf{png:} 2"
      ],
      "text/markdown": [
       "**png:** 2"
      ],
      "text/plain": [
       "png \n",
       "  2 "
      ]
     },
     "metadata": {},
     "output_type": "display_data"
    }
   ],
   "source": [
    "my_colors = c(\"#228B22\", \"#500050\")\n",
    "\n",
    "options(repr.plot.width=4, repr.plot.height=6)\n",
    "\n",
    "laminar_glut2 <- laminar_glut[laminar_glut$celltype == 'GLUT2',]\n",
    "\n",
    "p <- ggboxplot(laminar_glut2, x = \"celltype\", y = \"counts\", size = .5,\n",
    "          color = \"lamina\", palette=get_palette(my_colors,2),\n",
    "          add = \"jitter\") +\n",
    "theme(text = element_text(size=10),\n",
    "  axis.text.x = element_text(angle = 0,vjust = 1, hjust=.5), axis.title.x=element_blank(),\n",
    "  # Hide panel borders and remove grid lines\n",
    "  panel.border = element_blank(),\n",
    "  panel.grid.major = element_blank(),\n",
    "  panel.grid.minor = element_blank(),\n",
    "  # Change axis line\n",
    "  axis.line = element_line(colour = \"black\"),\n",
    "      legend.position = \"none\", legend.text = element_text(size=10)) +\n",
    "scale_x_discrete(labels = c('NMUR2'))\n",
    "\n",
    "pstat <- p #+ stat_compare_means(aes(group = lamina), label = \"p.signif\")\n",
    "\n",
    "pdf(here(paste0(\"figures/exploratory/arokiaraj_paper/glut2_\",Sys.Date(),\".pdf\")), width=1.5, height=2)\n",
    "print(pstat)\n",
    "dev.off()\n",
    "#ggpar(p, legend = \"bottom\")"
   ]
  },
  {
   "cell_type": "code",
   "execution_count": null,
   "id": "4388e8af-faa4-4a83-ad00-d9a0a63354d8",
   "metadata": {},
   "outputs": [],
   "source": []
  }
 ],
 "metadata": {
  "kernelspec": {
   "display_name": "R",
   "language": "R",
   "name": "ir"
  },
  "language_info": {
   "codemirror_mode": "r",
   "file_extension": ".r",
   "mimetype": "text/x-r-source",
   "name": "R",
   "pygments_lexer": "r",
   "version": "4.1.2"
  }
 },
 "nbformat": 4,
 "nbformat_minor": 5
}
