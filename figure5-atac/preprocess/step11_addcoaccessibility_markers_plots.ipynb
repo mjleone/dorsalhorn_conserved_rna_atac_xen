{
 "cells": [
  {
   "cell_type": "code",
   "execution_count": 1,
   "id": "31397172",
   "metadata": {},
   "outputs": [
    {
     "name": "stderr",
     "output_type": "stream",
     "text": [
      "── \u001b[1mAttaching packages\u001b[22m ─────────────────────────────────────── tidyverse 1.3.2 ──\n",
      "\u001b[32m✔\u001b[39m \u001b[34mtibble \u001b[39m 3.2.1      \u001b[32m✔\u001b[39m \u001b[34mpurrr  \u001b[39m 1.0.1 \n",
      "\u001b[32m✔\u001b[39m \u001b[34mtidyr  \u001b[39m 1.2.1      \u001b[32m✔\u001b[39m \u001b[34mdplyr  \u001b[39m 1.0.10\n",
      "\u001b[32m✔\u001b[39m \u001b[34mreadr  \u001b[39m 2.1.3      \u001b[32m✔\u001b[39m \u001b[34mforcats\u001b[39m 0.5.2 \n",
      "── \u001b[1mConflicts\u001b[22m ────────────────────────────────────────── tidyverse_conflicts() ──\n",
      "\u001b[31m✖\u001b[39m \u001b[34mdplyr\u001b[39m::\u001b[32marrange()\u001b[39m          masks \u001b[34mplyr\u001b[39m::arrange()\n",
      "\u001b[31m✖\u001b[39m \u001b[34mdplyr\u001b[39m::\u001b[32mbetween()\u001b[39m          masks \u001b[34mdata.table\u001b[39m::between()\n",
      "\u001b[31m✖\u001b[39m \u001b[34mdplyr\u001b[39m::\u001b[32mcollapse()\u001b[39m         masks \u001b[34mIRanges\u001b[39m::collapse()\n",
      "\u001b[31m✖\u001b[39m \u001b[34mdplyr\u001b[39m::\u001b[32mcombine()\u001b[39m          masks \u001b[34mBiobase\u001b[39m::combine(), \u001b[34mBiocGenerics\u001b[39m::combine(), \u001b[34mgridExtra\u001b[39m::combine()\n",
      "\u001b[31m✖\u001b[39m \u001b[34mpurrr\u001b[39m::\u001b[32mcompact()\u001b[39m          masks \u001b[34mplyr\u001b[39m::compact()\n",
      "\u001b[31m✖\u001b[39m \u001b[34mdplyr\u001b[39m::\u001b[32mcount()\u001b[39m            masks \u001b[34mmatrixStats\u001b[39m::count(), \u001b[34mplyr\u001b[39m::count()\n",
      "\u001b[31m✖\u001b[39m \u001b[34mdplyr\u001b[39m::\u001b[32mdesc()\u001b[39m             masks \u001b[34mIRanges\u001b[39m::desc(), \u001b[34mplyr\u001b[39m::desc()\n",
      "\u001b[31m✖\u001b[39m \u001b[34mtidyr\u001b[39m::\u001b[32mexpand()\u001b[39m           masks \u001b[34mMatrix\u001b[39m::expand(), \u001b[34mS4Vectors\u001b[39m::expand()\n",
      "\u001b[31m✖\u001b[39m \u001b[34mtidyr\u001b[39m::\u001b[32mextract()\u001b[39m          masks \u001b[34mmagrittr\u001b[39m::extract()\n",
      "\u001b[31m✖\u001b[39m \u001b[34mdplyr\u001b[39m::\u001b[32mfailwith()\u001b[39m         masks \u001b[34mplyr\u001b[39m::failwith()\n",
      "\u001b[31m✖\u001b[39m \u001b[34mdplyr\u001b[39m::\u001b[32mfilter()\u001b[39m           masks \u001b[34mstats\u001b[39m::filter()\n",
      "\u001b[31m✖\u001b[39m \u001b[34mdplyr\u001b[39m::\u001b[32mfirst()\u001b[39m            masks \u001b[34mS4Vectors\u001b[39m::first(), \u001b[34mdata.table\u001b[39m::first()\n",
      "\u001b[31m✖\u001b[39m \u001b[34mdplyr\u001b[39m::\u001b[32mid()\u001b[39m               masks \u001b[34mplyr\u001b[39m::id()\n",
      "\u001b[31m✖\u001b[39m \u001b[34mdplyr\u001b[39m::\u001b[32mlag()\u001b[39m              masks \u001b[34mstats\u001b[39m::lag()\n",
      "\u001b[31m✖\u001b[39m \u001b[34mdplyr\u001b[39m::\u001b[32mlast()\u001b[39m             masks \u001b[34mdata.table\u001b[39m::last()\n",
      "\u001b[31m✖\u001b[39m \u001b[34mdplyr\u001b[39m::\u001b[32mmutate()\u001b[39m           masks \u001b[34mplyr\u001b[39m::mutate()\n",
      "\u001b[31m✖\u001b[39m \u001b[34mtidyr\u001b[39m::\u001b[32mpack()\u001b[39m             masks \u001b[34mMatrix\u001b[39m::pack()\n",
      "\u001b[31m✖\u001b[39m \u001b[34mBiocGenerics\u001b[39m::\u001b[32mPosition()\u001b[39m  masks \u001b[34mggplot2\u001b[39m::Position(), \u001b[34mbase\u001b[39m::Position()\n",
      "\u001b[31m✖\u001b[39m \u001b[34mpurrr\u001b[39m::\u001b[32mreduce()\u001b[39m           masks \u001b[34mGenomicRanges\u001b[39m::reduce(), \u001b[34mIRanges\u001b[39m::reduce()\n",
      "\u001b[31m✖\u001b[39m \u001b[34mdplyr\u001b[39m::\u001b[32mrename()\u001b[39m           masks \u001b[34mS4Vectors\u001b[39m::rename(), \u001b[34mplyr\u001b[39m::rename()\n",
      "\u001b[31m✖\u001b[39m \u001b[34mpurrr\u001b[39m::\u001b[32mset_names()\u001b[39m        masks \u001b[34mmagrittr\u001b[39m::set_names()\n",
      "\u001b[31m✖\u001b[39m \u001b[34mdplyr\u001b[39m::\u001b[32mslice()\u001b[39m            masks \u001b[34mIRanges\u001b[39m::slice()\n",
      "\u001b[31m✖\u001b[39m \u001b[34mGenomicRanges\u001b[39m::\u001b[32msubtract()\u001b[39m masks \u001b[34mmagrittr\u001b[39m::subtract()\n",
      "\u001b[31m✖\u001b[39m \u001b[34mdplyr\u001b[39m::\u001b[32msummarise()\u001b[39m        masks \u001b[34mplyr\u001b[39m::summarise()\n",
      "\u001b[31m✖\u001b[39m \u001b[34mdplyr\u001b[39m::\u001b[32msummarize()\u001b[39m        masks \u001b[34mplyr\u001b[39m::summarize()\n",
      "\u001b[31m✖\u001b[39m \u001b[34mpurrr\u001b[39m::\u001b[32mtranspose()\u001b[39m        masks \u001b[34mdata.table\u001b[39m::transpose()\n",
      "\u001b[31m✖\u001b[39m \u001b[34mtidyr\u001b[39m::\u001b[32munpack()\u001b[39m           masks \u001b[34mMatrix\u001b[39m::unpack()\n"
     ]
    }
   ],
   "source": [
    "suppressMessages(library(ArchR))\n",
    "library(parallel)\n",
    "ss <- function(x, pattern, slot = 1, ...) { sapply(strsplit(x = x, split = pattern, ...), '[', slot) }\n",
    "options(stringsAsFactors = F)\n",
    "options(repr.plot.width=18, repr.plot.height=13)\n",
    "suppressMessages(library(Seurat))\n",
    "suppressMessages(library(SingleCellExperiment))\n",
    "library(tidyverse)"
   ]
  },
  {
   "cell_type": "code",
   "execution_count": 2,
   "id": "0de89b45",
   "metadata": {},
   "outputs": [
    {
     "name": "stderr",
     "output_type": "stream",
     "text": [
      "Setting default number of Parallel threads to 8.\n",
      "\n",
      "Setting default genome to Mm10.\n",
      "\n"
     ]
    }
   ],
   "source": [
    "##################################\n",
    "### set Arrow File parameters ####\n",
    "addArchRThreads(threads = 8)\n",
    "\n",
    "##################################\n",
    "### load mm ArchR genome ###\n",
    "addArchRGenome('mm10')"
   ]
  },
  {
   "cell_type": "code",
   "execution_count": 4,
   "id": "d3d30306",
   "metadata": {},
   "outputs": [
    {
     "name": "stderr",
     "output_type": "stream",
     "text": [
      "Successfully loaded ArchRProject!\n",
      "\n"
     ]
    }
   ],
   "source": [
    "PROJDIR='../../../data/tidy_data/ArchRProjects'\n",
    "proj = loadArchRProject(file.path(PROJDIR,'Mouse_DorsalHorn_scATAC'), showLogo = FALSE)"
   ]
  },
  {
   "cell_type": "code",
   "execution_count": 11,
   "id": "d79cf608",
   "metadata": {
    "scrolled": true
   },
   "outputs": [
    {
     "name": "stderr",
     "output_type": "stream",
     "text": [
      "ArchR logging to : ArchRLogs/ArchR-addCoAccessibility-75895074caeb-Date-2023-05-17_Time-10-27-54.log\n",
      "If there is an issue, please report to github with logFile!\n",
      "\n",
      "2023-05-17 10:27:54 : Computing KNN, 0.004 mins elapsed.\n",
      "\n",
      "2023-05-17 10:28:06 : Identifying Non-Overlapping KNN pairs, 0.191 mins elapsed.\n",
      "\n",
      "2023-05-17 10:28:08 : Identified 499 Groupings!, 0.238 mins elapsed.\n",
      "\n",
      "2023-05-17 10:29:25 : Computing Co-Accessibility chr1 (1 of 20), 1.51 mins elapsed.\n",
      "\n",
      "2023-05-17 10:30:17 : Computing Co-Accessibility chr2 (2 of 20), 2.381 mins elapsed.\n",
      "\n",
      "2023-05-17 10:31:18 : Computing Co-Accessibility chr3 (3 of 20), 3.404 mins elapsed.\n",
      "\n",
      "2023-05-17 10:32:02 : Computing Co-Accessibility chr4 (4 of 20), 4.129 mins elapsed.\n",
      "\n",
      "2023-05-17 10:32:49 : Computing Co-Accessibility chr5 (5 of 20), 4.92 mins elapsed.\n",
      "\n",
      "2023-05-17 10:33:40 : Computing Co-Accessibility chr6 (6 of 20), 5.768 mins elapsed.\n",
      "\n",
      "2023-05-17 10:34:28 : Computing Co-Accessibility chr7 (7 of 20), 6.573 mins elapsed.\n",
      "\n",
      "2023-05-17 10:35:14 : Computing Co-Accessibility chr8 (8 of 20), 7.325 mins elapsed.\n",
      "\n",
      "2023-05-17 10:35:55 : Computing Co-Accessibility chr9 (9 of 20), 8.019 mins elapsed.\n",
      "\n",
      "2023-05-17 10:36:36 : Computing Co-Accessibility chr10 (10 of 20), 8.695 mins elapsed.\n",
      "\n",
      "2023-05-17 10:37:10 : Computing Co-Accessibility chr11 (11 of 20), 9.272 mins elapsed.\n",
      "\n",
      "2023-05-17 10:38:05 : Computing Co-Accessibility chr12 (12 of 20), 10.178 mins elapsed.\n",
      "\n",
      "2023-05-17 10:38:46 : Computing Co-Accessibility chr13 (13 of 20), 10.859 mins elapsed.\n",
      "\n",
      "2023-05-17 10:39:21 : Computing Co-Accessibility chr14 (14 of 20), 11.457 mins elapsed.\n",
      "\n",
      "2023-05-17 10:39:55 : Computing Co-Accessibility chr15 (15 of 20), 12.017 mins elapsed.\n",
      "\n",
      "2023-05-17 10:40:35 : Computing Co-Accessibility chr16 (16 of 20), 12.689 mins elapsed.\n",
      "\n",
      "2023-05-17 10:41:13 : Computing Co-Accessibility chr17 (17 of 20), 13.318 mins elapsed.\n",
      "\n",
      "2023-05-17 10:41:52 : Computing Co-Accessibility chr18 (18 of 20), 13.968 mins elapsed.\n",
      "\n",
      "2023-05-17 10:42:23 : Computing Co-Accessibility chr19 (19 of 20), 14.478 mins elapsed.\n",
      "\n",
      "2023-05-17 10:42:59 : Computing Co-Accessibility chrX (20 of 20), 15.086 mins elapsed.\n",
      "\n",
      "ArchR logging successful to : ArchRLogs/ArchR-addCoAccessibility-75895074caeb-Date-2023-05-17_Time-10-27-54.log\n",
      "\n"
     ]
    }
   ],
   "source": [
    "proj <- addCoAccessibility(proj, reducedDims = \"HarmonyI200\")"
   ]
  },
  {
   "cell_type": "code",
   "execution_count": 12,
   "id": "5e75d69c",
   "metadata": {},
   "outputs": [],
   "source": [
    "cA <- getCoAccessibility(\n",
    "    ArchRProj = proj,\n",
    "    corCutOff = 0.5,\n",
    "    resolution = 1,\n",
    "    returnLoops = TRUE\n",
    ")"
   ]
  },
  {
   "cell_type": "code",
   "execution_count": 17,
   "id": "edaba643",
   "metadata": {},
   "outputs": [
    {
     "data": {
      "text/plain": [
       "GRanges object with 796530 ranges and 9 metadata columns:\n",
       "           seqnames              ranges strand | correlation Variability1\n",
       "              <Rle>           <IRanges>  <Rle> |   <numeric>    <numeric>\n",
       "       [1]     chr1     3119973-3121521      * |    0.512595  4.70858e-04\n",
       "       [2]     chr1     3204989-3210385      * |    0.514264  2.25951e-04\n",
       "       [3]     chr1     3204989-3249033      * |    0.553567  2.25951e-04\n",
       "       [4]     chr1     3210385-3254941      * |    0.501705  3.17829e-04\n",
       "       [5]     chr1     3250206-3264480      * |    0.655213  7.34794e-05\n",
       "       ...      ...                 ...    ... .         ...          ...\n",
       "  [796526]     chrX 169698594-169699182      * |    0.543994  1.35305e-04\n",
       "  [796527]     chrX 169698594-169712412      * |    0.849097  1.35305e-04\n",
       "  [796528]     chrX 169699182-169712412      * |    0.512948  9.49211e-05\n",
       "  [796529]     chrX 169717902-169795046      * |    0.630827  7.72972e-05\n",
       "  [796530]     chrX 169882476-169915957      * |    0.652792  2.74016e-04\n",
       "           Variability2     TStat         Pval          FDR VarQuantile1\n",
       "              <numeric> <numeric>    <numeric>    <numeric>    <numeric>\n",
       "       [1]  8.31073e-04   13.3090  8.77221e-35  1.94370e-33    0.6364256\n",
       "       [2]  3.17829e-04   13.3679  4.90452e-35  1.09923e-33    0.4477049\n",
       "       [3]  9.43984e-05   14.8185  2.08136e-41  6.14961e-40    0.4477049\n",
       "       [4]  1.95272e-04   12.9298  3.60778e-33  7.41854e-32    0.5455938\n",
       "       [5]  4.44962e-04   19.3356  1.59412e-62  1.00029e-60    0.0901755\n",
       "       ...          ...       ...          ...          ...          ...\n",
       "  [796526]  9.49211e-05   14.4532  8.88313e-40  2.45198e-38     0.266810\n",
       "  [796527]  6.13854e-04   35.8350 7.41076e-140 2.99258e-137     0.266810\n",
       "  [796528]  6.13854e-04   13.3215  7.75784e-35  1.72325e-33     0.151783\n",
       "  [796529]  5.27851e-04   18.1246  9.82629e-57  5.11534e-55     0.100917\n",
       "  [796530]  7.83741e-05   19.2110  6.32831e-62  3.89684e-60     0.505265\n",
       "           VarQuantile2     value\n",
       "              <numeric> <numeric>\n",
       "       [1]     0.739271  0.512595\n",
       "       [2]     0.545594  0.514264\n",
       "       [3]     0.150249  0.553567\n",
       "       [4]     0.399414  0.501705\n",
       "       [5]     0.624449  0.655213\n",
       "       ...          ...       ...\n",
       "  [796526]     0.151783  0.543994\n",
       "  [796527]     0.687663  0.849097\n",
       "  [796528]     0.687663  0.512948\n",
       "  [796529]     0.659587  0.630827\n",
       "  [796530]     0.103878  0.652792\n",
       "  -------\n",
       "  seqinfo: 20 sequences from an unspecified genome; no seqlengths"
      ]
     },
     "metadata": {},
     "output_type": "display_data"
    }
   ],
   "source": [
    "cA[[1]]"
   ]
  },
  {
   "cell_type": "code",
   "execution_count": null,
   "id": "9bf3b00d",
   "metadata": {},
   "outputs": [
    {
     "name": "stderr",
     "output_type": "stream",
     "text": [
      "Saving ArchRProject...\n",
      "\n"
     ]
    }
   ],
   "source": [
    "proj = saveArchRProject(proj)"
   ]
  }
 ],
 "metadata": {
  "kernelspec": {
   "display_name": "R [conda env:ArchR_Env]",
   "language": "R",
   "name": "conda-env-ArchR_Env-r"
  },
  "language_info": {
   "codemirror_mode": "r",
   "file_extension": ".r",
   "mimetype": "text/x-r-source",
   "name": "R",
   "pygments_lexer": "r",
   "version": "4.2.2"
  }
 },
 "nbformat": 4,
 "nbformat_minor": 5
}
