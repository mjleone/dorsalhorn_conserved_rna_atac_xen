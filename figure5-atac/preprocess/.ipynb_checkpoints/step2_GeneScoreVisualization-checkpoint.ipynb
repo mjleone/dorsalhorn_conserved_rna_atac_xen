{
 "cells": [
  {
   "cell_type": "markdown",
   "metadata": {
    "tags": []
   },
   "source": [
    "- ask BaDoi if mm10 is correct genome\n",
    "- ask about liftoff file: rheMac10_liftoff_GRCh38.p13_ArchR_annotations.rda"
   ]
  },
  {
   "cell_type": "code",
   "execution_count": 1,
   "metadata": {
    "jupyter": {
     "outputs_hidden": true
    },
    "tags": []
   },
   "outputs": [],
   "source": [
    "suppressMessages(library(ArchR))\n",
    "library(parallel)\n",
    "ss <- function(x, pattern, slot = 1, ...) { sapply(strsplit(x = x, split = pattern, ...), '[', slot) }\n",
    "options(stringsAsFactors = F)\n",
    "options(repr.plot.width=11, repr.plot.height=8.5)"
   ]
  },
  {
   "cell_type": "code",
   "execution_count": null,
   "metadata": {},
   "outputs": [],
   "source": []
  },
  {
   "cell_type": "code",
   "execution_count": 2,
   "metadata": {},
   "outputs": [
    {
     "name": "stderr",
     "output_type": "stream",
     "text": [
      "Setting default number of Parallel threads to 8.\n",
      "\n",
      "Setting default genome to Mm10.\n",
      "\n"
     ]
    }
   ],
   "source": [
    "##################################\n",
    "### set Arrow File parameters ####\n",
    "addArchRThreads(threads = round(parallel::detectCores()*1/4))\n",
    "\n",
    "# ##################################\n",
    "# ### load rheMac10 ArchR genome ###\n",
    "# GENOMEDIR='/home/bnphan/resources/genomes/rheMac10'\n",
    "# load(file.path(GENOMEDIR,'rheMac10_liftoff_GRCh38.p13_ArchR_annotations.rda'))\n",
    "\n",
    "addArchRGenome(\"mm10\")"
   ]
  },
  {
   "cell_type": "code",
   "execution_count": 3,
   "metadata": {
    "jupyter": {
     "outputs_hidden": true
    },
    "scrolled": false,
    "tags": []
   },
   "outputs": [
    {
     "name": "stderr",
     "output_type": "stream",
     "text": [
      "Successfully loaded ArchRProject!\n",
      "\n",
      "\n",
      "                                                   / |\n",
      "                                                 /    \\\n",
      "            .                                  /      |.\n",
      "            \\\\\\                              /        |.\n",
      "              \\\\\\                          /           `|.\n",
      "                \\\\\\                      /              |.\n",
      "                  \\                    /                |\\\n",
      "                  \\\\#####\\           /                  ||\n",
      "                ==###########>      /                   ||\n",
      "                 \\\\##==......\\    /                     ||\n",
      "            ______ =       =|__ /__                     ||      \\\\\\\n",
      "        ,--' ,----`-,__ ___/'  --,-`-===================##========>\n",
      "       \\               '        ##_______ _____ ,--,__,=##,__   ///\n",
      "        ,    __==    ___,-,__,--'#'  ==='      `-'    | ##,-/\n",
      "        -,____,---'       \\\\####\\\\________________,--\\\\_##,/\n",
      "           ___      .______        ______  __    __  .______      \n",
      "          /   \\     |   _  \\      /      ||  |  |  | |   _  \\     \n",
      "         /  ^  \\    |  |_)  |    |  ,----'|  |__|  | |  |_)  |    \n",
      "        /  /_\\  \\   |      /     |  |     |   __   | |      /     \n",
      "       /  _____  \\  |  |\\  \\\\___ |  `----.|  |  |  | |  |\\  \\\\___.\n",
      "      /__/     \\__\\ | _| `._____| \\______||__|  |__| | _| `._____|\n",
      "    \n",
      "\n"
     ]
    }
   ],
   "source": [
    "PROJDIR='../../../data/tidy_data/ArchRProjects'\n",
    "ARCHDIR=file.path(PROJDIR,'Mouse_DorsalHorn_scATAC')\n",
    "proj = loadArchRProject(ARCHDIR)"
   ]
  },
  {
   "cell_type": "code",
   "execution_count": 7,
   "metadata": {},
   "outputs": [
    {
     "data": {
      "text/plain": [
       "DataFrame with 6 rows and 24 columns\n",
       "                                                  Sample TSSEnrichment\n",
       "                                             <character>     <numeric>\n",
       "Mouse_DH_SEA2253A58#CGACAAAAAAAAAAAG Mouse_DH_SEA2253A58        14.994\n",
       "Mouse_DH_SEA2253A58#CAGTAAAAAAAAAAAT Mouse_DH_SEA2253A58        22.800\n",
       "Mouse_DH_SEA2253A58#CTGCAAAAAAAAAAAA Mouse_DH_SEA2253A58        21.583\n",
       "Mouse_DH_SEA2253A58#GTGTAAAAAAAAAAAA Mouse_DH_SEA2253A58        22.169\n",
       "Mouse_DH_SEA2253A58#GGGTAAAAAAAAAAAC Mouse_DH_SEA2253A58        19.802\n",
       "Mouse_DH_SEA2253A58#TTGGAAAAAAAAAAAC Mouse_DH_SEA2253A58        20.646\n",
       "                                     ReadsInTSS ReadsInPromoter\n",
       "                                      <numeric>       <numeric>\n",
       "Mouse_DH_SEA2253A58#CGACAAAAAAAAAAAG       9268           32448\n",
       "Mouse_DH_SEA2253A58#CAGTAAAAAAAAAAAT      14496           48252\n",
       "Mouse_DH_SEA2253A58#CTGCAAAAAAAAAAAA      14442           47003\n",
       "Mouse_DH_SEA2253A58#GTGTAAAAAAAAAAAA      14095           47225\n",
       "Mouse_DH_SEA2253A58#GGGTAAAAAAAAAAAC      12110           40594\n",
       "Mouse_DH_SEA2253A58#TTGGAAAAAAAAAAAC      12626           42748\n",
       "                                     ReadsInBlacklist PromoterRatio    PassQC\n",
       "                                            <numeric>     <numeric> <numeric>\n",
       "Mouse_DH_SEA2253A58#CGACAAAAAAAAAAAG             4805      0.162559         1\n",
       "Mouse_DH_SEA2253A58#CAGTAAAAAAAAAAAT             5193      0.241768         1\n",
       "Mouse_DH_SEA2253A58#CTGCAAAAAAAAAAAA             5402      0.235562         1\n",
       "Mouse_DH_SEA2253A58#GTGTAAAAAAAAAAAA             5220      0.238969         1\n",
       "Mouse_DH_SEA2253A58#GGGTAAAAAAAAAAAC             5063      0.205602         1\n",
       "Mouse_DH_SEA2253A58#TTGGAAAAAAAAAAAC             5507      0.217041         1\n",
       "                                     NucleosomeRatio nMultiFrags nMonoFrags\n",
       "                                           <numeric>   <numeric>  <numeric>\n",
       "Mouse_DH_SEA2253A58#CGACAAAAAAAAAAAG        0.817559        7109      54911\n",
       "Mouse_DH_SEA2253A58#CAGTAAAAAAAAAAAT        0.712516        6045      58271\n",
       "Mouse_DH_SEA2253A58#CTGCAAAAAAAAAAAA        0.747220        6294      57101\n",
       "Mouse_DH_SEA2253A58#GTGTAAAAAAAAAAAA        0.696659        7280      58238\n",
       "Mouse_DH_SEA2253A58#GGGTAAAAAAAAAAAC        0.824061        7367      54121\n",
       "Mouse_DH_SEA2253A58#TTGGAAAAAAAAAAAC        0.777599        6409      55400\n",
       "                                        nFrags  nDiFrags DoubletScore\n",
       "                                     <numeric> <numeric>    <numeric>\n",
       "Mouse_DH_SEA2253A58#CGACAAAAAAAAAAAG     99804     37784     0.000000\n",
       "Mouse_DH_SEA2253A58#CAGTAAAAAAAAAAAT     99790     35474     0.000000\n",
       "Mouse_DH_SEA2253A58#CTGCAAAAAAAAAAAA     99768     36373     0.000000\n",
       "Mouse_DH_SEA2253A58#GTGTAAAAAAAAAAAA     98810     33292     0.703254\n",
       "Mouse_DH_SEA2253A58#GGGTAAAAAAAAAAAC     98720     37232     0.000000\n",
       "Mouse_DH_SEA2253A58#TTGGAAAAAAAAAAAC     98479     36670     0.000000\n",
       "                                     DoubletEnrichment BlacklistRatio\n",
       "                                             <numeric>      <numeric>\n",
       "Mouse_DH_SEA2253A58#CGACAAAAAAAAAAAG          0.866667      0.0240722\n",
       "Mouse_DH_SEA2253A58#CAGTAAAAAAAAAAAT          1.233333      0.0260196\n",
       "Mouse_DH_SEA2253A58#CTGCAAAAAAAAAAAA          1.183333      0.0270728\n",
       "Mouse_DH_SEA2253A58#GTGTAAAAAAAAAAAA          1.666667      0.0264143\n",
       "Mouse_DH_SEA2253A58#GGGTAAAAAAAAAAAC          0.866667      0.0256432\n",
       "Mouse_DH_SEA2253A58#TTGGAAAAAAAAAAAC          0.566667      0.0279603\n",
       "                                       Sample_ID Date.nuclei.prep\n",
       "                                     <character>      <character>\n",
       "Mouse_DH_SEA2253A58#CGACAAAAAAAAAAAG  SEA2253A58       2022-02-15\n",
       "Mouse_DH_SEA2253A58#CAGTAAAAAAAAAAAT  SEA2253A58       2022-02-15\n",
       "Mouse_DH_SEA2253A58#CTGCAAAAAAAAAAAA  SEA2253A58       2022-02-15\n",
       "Mouse_DH_SEA2253A58#GTGTAAAAAAAAAAAA  SEA2253A58       2022-02-15\n",
       "Mouse_DH_SEA2253A58#GGGTAAAAAAAAAAAC  SEA2253A58       2022-02-15\n",
       "Mouse_DH_SEA2253A58#TTGGAAAAAAAAAAAC  SEA2253A58       2022-02-15\n",
       "                                     Biological.rep       Age         Sex\n",
       "                                        <character> <numeric> <character>\n",
       "Mouse_DH_SEA2253A58#CGACAAAAAAAAAAAG     Mouse01-10  0.134247    F/M pool\n",
       "Mouse_DH_SEA2253A58#CAGTAAAAAAAAAAAT     Mouse01-10  0.134247    F/M pool\n",
       "Mouse_DH_SEA2253A58#CTGCAAAAAAAAAAAA     Mouse01-10  0.134247    F/M pool\n",
       "Mouse_DH_SEA2253A58#GTGTAAAAAAAAAAAA     Mouse01-10  0.134247    F/M pool\n",
       "Mouse_DH_SEA2253A58#GGGTAAAAAAAAAAAC     Mouse01-10  0.134247    F/M pool\n",
       "Mouse_DH_SEA2253A58#TTGGAAAAAAAAAAAC     Mouse01-10  0.134247    F/M pool\n",
       "                                         Species      Region ClustersI200\n",
       "                                     <character> <character>  <character>\n",
       "Mouse_DH_SEA2253A58#CGACAAAAAAAAAAAG       Mouse  DorsalHorn          C10\n",
       "Mouse_DH_SEA2253A58#CAGTAAAAAAAAAAAT       Mouse  DorsalHorn          C10\n",
       "Mouse_DH_SEA2253A58#CTGCAAAAAAAAAAAA       Mouse  DorsalHorn          C10\n",
       "Mouse_DH_SEA2253A58#GTGTAAAAAAAAAAAA       Mouse  DorsalHorn          C10\n",
       "Mouse_DH_SEA2253A58#GGGTAAAAAAAAAAAC       Mouse  DorsalHorn          C10\n",
       "Mouse_DH_SEA2253A58#TTGGAAAAAAAAAAAC       Mouse  DorsalHorn          C10\n",
       "                                     ClustersH200\n",
       "                                      <character>\n",
       "Mouse_DH_SEA2253A58#CGACAAAAAAAAAAAG          C10\n",
       "Mouse_DH_SEA2253A58#CAGTAAAAAAAAAAAT          C10\n",
       "Mouse_DH_SEA2253A58#CTGCAAAAAAAAAAAA          C10\n",
       "Mouse_DH_SEA2253A58#GTGTAAAAAAAAAAAA          C10\n",
       "Mouse_DH_SEA2253A58#GGGTAAAAAAAAAAAC          C10\n",
       "Mouse_DH_SEA2253A58#TTGGAAAAAAAAAAAC          C10"
      ]
     },
     "metadata": {},
     "output_type": "display_data"
    }
   ],
   "source": [
    "head(getCellColData(proj))\n"
   ]
  },
  {
   "cell_type": "code",
   "execution_count": 6,
   "metadata": {},
   "outputs": [
    {
     "name": "stderr",
     "output_type": "stream",
     "text": [
      "ArchR logging to : ArchRLogs/ArchR-plotEmbedding-1822c3ad02d37-Date-2022-08-15_Time-16-08-07.log\n",
      "If there is an issue, please report to github with logFile!\n",
      "\n",
      "Getting UMAP Embedding\n",
      "\n",
      "ColorBy = cellColData\n",
      "\n"
     ]
    },
    {
     "ename": "ERROR",
     "evalue": "Error in value[[3L]](cond): select Not Found in Colnames of cellColData:\n\u001b[1m\u001b[33mError\u001b[39m in \u001b[1m\u001b[1m`dplyr::mutate()`:\u001b[22m\n\u001b[1m\u001b[22m\u001b[33m!\u001b[39m Problem while computing `tmpNewCol123 = eval(parse(text =\n  select[x]))`.\n\u001b[1mCaused by error:\u001b[22m\n\u001b[33m!\u001b[39m object 'ClustersH200_ATAC' not found\n\n",
     "output_type": "error",
     "traceback": [
      "Error in value[[3L]](cond): select Not Found in Colnames of cellColData:\n\u001b[1m\u001b[33mError\u001b[39m in \u001b[1m\u001b[1m`dplyr::mutate()`:\u001b[22m\n\u001b[1m\u001b[22m\u001b[33m!\u001b[39m Problem while computing `tmpNewCol123 = eval(parse(text =\n  select[x]))`.\n\u001b[1mCaused by error:\u001b[22m\n\u001b[33m!\u001b[39m object 'ClustersH200_ATAC' not found\n\nTraceback:\n",
      "1. plotEmbedding(ArchRProj = proj, colorBy = \"cellColData\", name = \"ClustersH200_ATAC\", \n .     embedding = \"UMAPH200\")",
      "2. lapply(seq_along(name), function(x) {\n .     colorParams <- list()\n .     colorParams$color <- as.vector(getCellColData(ArchRProj, \n .         select = name[x], drop = FALSE)[rownames(df), 1])\n .     colorParams$discrete <- .isDiscrete(colorParams$color)\n .     colorParams$continuousSet <- \"solarExtra\"\n .     colorParams$discreteSet <- \"stallion\"\n .     colorParams$title <- paste(plotParams$title, \" colored by\\ncolData : \", \n .         name[x])\n .     if (!is.null(continuousSet)) {\n .         colorParams$continuousSet <- continuousSet\n .     }\n .     if (!is.null(discreteSet)) {\n .         colorParams$discreteSet <- discreteSet\n .     }\n .     if (x == 1) {\n .         .logThis(colorParams, name = \"ColorParams 1\", logFile = logFile)\n .     }\n .     if (!is.null(imputeWeights)) {\n .         if (getArchRVerbose()) \n .             message(\"Imputing Matrix\")\n .         colorMat <- matrix(colorParams$color, nrow = 1)\n .         colnames(colorMat) <- rownames(df)\n .         colorMat <- imputeMatrix(mat = colorMat, imputeWeights = imputeWeights, \n .             logFile = logFile)\n .         colorParams$color <- as.vector(colorMat)\n .     }\n .     colorParams\n . })",
      "3. FUN(X[[i]], ...)",
      "4. as.vector(getCellColData(ArchRProj, select = name[x], drop = FALSE)[rownames(df), \n .     1])",
      "5. getCellColData(ArchRProj, select = name[x], drop = FALSE)",
      "6. lapply(seq_along(select), function(x) {\n .     tryCatch({\n .         data.frame(dplyr::mutate(ccd, tmpNewCol123 = eval(parse(text = select[x])))[, \n .             \"tmpNewCol123\"], stringsAsFactors = FALSE)\n .     }, error = function(x) {\n .         stop(\"select Not Found in Colnames of cellColData:\\n\", \n .             x)\n .     })\n . }) %>% Reduce(\"cbind\", .) %>% {\n .     data.frame(., stringsAsFactors = FALSE)\n . }",
      "7. Reduce(\"cbind\", .)",
      "8. lapply(seq_along(select), function(x) {\n .     tryCatch({\n .         data.frame(dplyr::mutate(ccd, tmpNewCol123 = eval(parse(text = select[x])))[, \n .             \"tmpNewCol123\"], stringsAsFactors = FALSE)\n .     }, error = function(x) {\n .         stop(\"select Not Found in Colnames of cellColData:\\n\", \n .             x)\n .     })\n . })",
      "9. FUN(X[[i]], ...)",
      "10. tryCatch({\n  .     data.frame(dplyr::mutate(ccd, tmpNewCol123 = eval(parse(text = select[x])))[, \n  .         \"tmpNewCol123\"], stringsAsFactors = FALSE)\n  . }, error = function(x) {\n  .     stop(\"select Not Found in Colnames of cellColData:\\n\", x)\n  . })",
      "11. tryCatchList(expr, classes, parentenv, handlers)",
      "12. tryCatchOne(expr, names, parentenv, handlers[[1L]])",
      "13. value[[3L]](cond)",
      "14. stop(\"select Not Found in Colnames of cellColData:\\n\", x)"
     ]
    }
   ],
   "source": [
    "p1 <- plotEmbedding(ArchRProj = proj, colorBy = \"cellColData\", \n",
    "                    name = \"ClustersH200_ATAC\", embedding = \"UMAPH200\")"
   ]
  },
  {
   "cell_type": "code",
   "execution_count": 4,
   "metadata": {
    "jupyter": {
     "outputs_hidden": true
    },
    "tags": []
   },
   "outputs": [
    {
     "ename": "ERROR",
     "evalue": "Error in validObject(r): invalid class “dgTMatrix” object: lengths of slots i and j must match\n",
     "output_type": "error",
     "traceback": [
      "Error in validObject(r): invalid class “dgTMatrix” object: lengths of slots i and j must match\nTraceback:\n",
      "1. confusionMatrix(paste0(proj$ClustersH200_ATAC), paste0(proj$Sample))",
      "2. Matrix::sparseMatrix(i = match(i, ui), j = match(j, uj), x = rep(1, \n .     length(i)), dims = c(length(ui), length(uj)))",
      "3. validObject(r)",
      "4. stop(msg, \": \", errors, domain = NA)"
     ]
    }
   ],
   "source": [
    "# plot the confusion matrix of cell types by subjects\n",
    "cM <- confusionMatrix(paste0(proj$ClustersH200_ATAC), paste0(proj$Sample))\n",
    "cM <- cM / Matrix::colSums(cM)\n",
    "p <- pheatmap::pheatmap(\n",
    "  mat = as.matrix(cM), \n",
    "  color = paletteContinuous(\"whiteBlue\"), \n",
    "  border_color = \"black\")\n",
    "p"
   ]
  },
  {
   "cell_type": "code",
   "execution_count": null,
   "metadata": {},
   "outputs": [],
   "source": []
  }
 ],
 "metadata": {
  "kernelspec": {
   "display_name": "R 4.0.5",
   "language": "R",
   "name": "r4"
  },
  "language_info": {
   "codemirror_mode": "r",
   "file_extension": ".r",
   "mimetype": "text/x-r-source",
   "name": "R",
   "pygments_lexer": "r",
   "version": "4.0.5"
  }
 },
 "nbformat": 4,
 "nbformat_minor": 5
}
