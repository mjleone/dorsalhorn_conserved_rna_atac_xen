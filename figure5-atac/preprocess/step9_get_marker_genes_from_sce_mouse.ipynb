{
 "cells": [
  {
   "cell_type": "code",
   "execution_count": 5,
   "id": "869f1f66-381c-48f3-9242-e22ca2ad8a56",
   "metadata": {
    "collapsed": true,
    "jupyter": {
     "outputs_hidden": true
    },
    "tags": []
   },
   "outputs": [
    {
     "name": "stderr",
     "output_type": "stream",
     "text": [
      "Validating h5Seurat file\n",
      "\n",
      "Initializing RNA with data\n",
      "\n",
      "Adding counts for RNA\n",
      "\n",
      "Adding scale.data for RNA\n",
      "\n",
      "Adding feature-level metadata for RNA\n",
      "\n",
      "Adding variable feature information for RNA\n",
      "\n",
      "Adding miscellaneous information for RNA\n",
      "\n",
      "Adding reduction pca\n",
      "\n",
      "Adding cell embeddings for pca\n",
      "\n",
      "Adding feature loadings for pca\n",
      "\n",
      "Adding miscellaneous information for pca\n",
      "\n",
      "Adding reduction umap\n",
      "\n",
      "Adding cell embeddings for umap\n",
      "\n",
      "Adding miscellaneous information for umap\n",
      "\n",
      "Adding command information\n",
      "\n",
      "Adding cell-level metadata\n",
      "\n",
      "Adding miscellaneous information\n",
      "\n",
      "Adding tool-specific results\n",
      "\n"
     ]
    },
    {
     "data": {
      "text/plain": [
       "class: SingleCellExperiment \n",
       "dim: 15157 3617 \n",
       "metadata(0):\n",
       "assays(2): counts logcounts\n",
       "rownames(15157): XKR4 SOX17 ... TMLHE SPATA31E1\n",
       "rowData names(0):\n",
       "colnames(3617): SRR6040902_GTAGCTGGGGCN SRR6040902_CTTTTTGCCTGG ...\n",
       "  SRR6498362_CAATTACTCGTG SRR6498362_ATGTTGGGGGAG\n",
       "colData names(18): ClusterID ClusterName ... corrected_RM_cell_type\n",
       "  ident\n",
       "reducedDimNames(2): PCA UMAP\n",
       "mainExpName: RNA\n",
       "altExpNames(0):"
      ]
     },
     "metadata": {},
     "output_type": "display_data"
    }
   ],
   "source": [
    "# get \n",
    "library(SingleCellExperiment)\n",
    "library(tidyverse)\n",
    "library(here)\n",
    "library(scater)\n",
    "library(scran)\n",
    "library(Seurat)\n",
    "library(SeuratDisk)\n",
    "\n",
    "\n",
    "#sce_rm = readRDS(here('data/tidy_data/rdas/full_integrated_macaque_dorsal_hornv3.sce.rds'))\n",
    "#head(colData(sce_rm))\n",
    "sce_mm <- as.SingleCellExperiment(LoadH5Seurat(here('data/tidy_data/rdas/mm_with_rm_labels.v2.h5seurat')))\n",
    "sce_mm"
   ]
  },
  {
   "cell_type": "code",
   "execution_count": 16,
   "id": "9b647c78-aa29-4713-b0c6-a83e34c66590",
   "metadata": {},
   "outputs": [
    {
     "data": {
      "text/html": [
       "'/projects/pfenninggroup/singleCell/Macaque_SealDorsalHorn_snATAC-seq/data/tidy_data/rdas/mm_with_rm_labels.v2.h5seurat'"
      ],
      "text/latex": [
       "'/projects/pfenninggroup/singleCell/Macaque\\_SealDorsalHorn\\_snATAC-seq/data/tidy\\_data/rdas/mm\\_with\\_rm\\_labels.v2.h5seurat'"
      ],
      "text/markdown": [
       "'/projects/pfenninggroup/singleCell/Macaque_SealDorsalHorn_snATAC-seq/data/tidy_data/rdas/mm_with_rm_labels.v2.h5seurat'"
      ],
      "text/plain": [
       "[1] \"/projects/pfenninggroup/singleCell/Macaque_SealDorsalHorn_snATAC-seq/data/tidy_data/rdas/mm_with_rm_labels.v2.h5seurat\""
      ]
     },
     "metadata": {},
     "output_type": "display_data"
    }
   ],
   "source": [
    "here('data/tidy_data/rdas/mm_with_rm_labels.v2.h5seurat')"
   ]
  },
  {
   "cell_type": "code",
   "execution_count": 15,
   "id": "6b45e697-c87b-4431-add7-3a8fb568e9bb",
   "metadata": {
    "collapsed": true,
    "jupyter": {
     "outputs_hidden": true
    },
    "tags": []
   },
   "outputs": [
    {
     "name": "stderr",
     "output_type": "stream",
     "text": [
      "Validating h5Seurat file\n",
      "\n",
      "Initializing MAGIC_RNA with data\n",
      "\n",
      "Adding miscellaneous information for MAGIC_RNA\n",
      "\n",
      "Initializing MAGIC_SCT with data\n",
      "\n",
      "Adding miscellaneous information for MAGIC_SCT\n",
      "\n",
      "Initializing RNA with data\n",
      "\n",
      "Adding counts for RNA\n",
      "\n",
      "Adding miscellaneous information for RNA\n",
      "\n",
      "Initializing SCT with data\n",
      "\n",
      "Adding counts for SCT\n",
      "\n",
      "Adding scale.data for SCT\n",
      "\n",
      "Adding variable feature information for SCT\n",
      "\n",
      "Adding miscellaneous information for SCT\n",
      "\n",
      "Initializing integrated with data\n",
      "\n",
      "Adding scale.data for integrated\n",
      "\n",
      "Adding variable feature information for integrated\n",
      "\n",
      "Adding miscellaneous information for integrated\n",
      "\n",
      "Adding reduction pca\n",
      "\n",
      "Adding cell embeddings for pca\n",
      "\n",
      "Adding feature loadings for pca\n",
      "\n",
      "Adding miscellaneous information for pca\n",
      "\n",
      "Adding reduction umap\n",
      "\n",
      "Adding cell embeddings for umap\n",
      "\n",
      "Adding miscellaneous information for umap\n",
      "\n",
      "Adding command information\n",
      "\n",
      "Adding cell-level metadata\n",
      "\n",
      "Adding miscellaneous information\n",
      "\n",
      "Adding tool-specific results\n",
      "\n",
      "Adding data that was not associated with an assay\n",
      "\n",
      "Warning message:\n",
      "“Adding a command log without an assay associated with it”\n",
      "Warning message:\n",
      "“Adding a command log without an assay associated with it”\n",
      "Warning message:\n",
      "“Adding a command log without an assay associated with it”\n"
     ]
    },
    {
     "data": {
      "text/plain": [
       "class: SingleCellExperiment \n",
       "dim: 27985 12021 \n",
       "metadata(0):\n",
       "assays(1): logcounts\n",
       "rownames(27985): Xkr4 Gm1992 ... Vmn2r122 CAAA01147332.1\n",
       "rowData names(0):\n",
       "colnames(12021): SRR6040902_GTAGCTGGGGCN SRR6040902_CTTTTTGCCTGG ...\n",
       "  SRR8956045_GACTGTAT SRR8956045_GCAACTCC\n",
       "colData names(12): nCount_RNA nFeature_RNA ... percent.rb ident\n",
       "reducedDimNames(0):\n",
       "mainExpName: MAGIC_RNA\n",
       "altExpNames(4): MAGIC_SCT RNA SCT integrated"
      ]
     },
     "metadata": {},
     "output_type": "display_data"
    }
   ],
   "source": [
    "sce_russ <- as.SingleCellExperiment(LoadH5Seurat(here('data/tidy_data/rdas/Russ_et_al_dorsal_horn_neurons.h5seurat')))\n",
    "sce_russ"
   ]
  },
  {
   "cell_type": "code",
   "execution_count": 9,
   "id": "380ff45b-e9d2-4f69-8e12-7967bda8fc87",
   "metadata": {},
   "outputs": [],
   "source": [
    "try_markers <- scran::findMarkers(\n",
    "  sce_mm, groups = sce_mm$corrected_RM_cell_type, \n",
    "  pval.type = \"some\", direction = \"up\"\n",
    ")"
   ]
  },
  {
   "cell_type": "code",
   "execution_count": 14,
   "id": "d49c234e-3dac-4e45-b41e-05f891d6798b",
   "metadata": {},
   "outputs": [
    {
     "data": {
      "text/plain": [
       "class: SingleCellExperiment \n",
       "dim: 15157 3617 \n",
       "metadata(0):\n",
       "assays(2): counts logcounts\n",
       "rownames(15157): XKR4 SOX17 ... TMLHE SPATA31E1\n",
       "rowData names(0):\n",
       "colnames(3617): SRR6040902_GTAGCTGGGGCN SRR6040902_CTTTTTGCCTGG ...\n",
       "  SRR6498362_CAATTACTCGTG SRR6498362_ATGTTGGGGGAG\n",
       "colData names(18): ClusterID ClusterName ... corrected_RM_cell_type\n",
       "  ident\n",
       "reducedDimNames(2): PCA UMAP\n",
       "mainExpName: RNA\n",
       "altExpNames(0):"
      ]
     },
     "metadata": {},
     "output_type": "display_data"
    }
   ],
   "source": [
    "sce_mm"
   ]
  },
  {
   "cell_type": "code",
   "execution_count": 8,
   "id": "a6d678d4-0fe8-4a95-9298-ca53fe422933",
   "metadata": {},
   "outputs": [
    {
     "name": "stdout",
     "output_type": "stream",
     "text": [
      "[1] 33005\n",
      "[1] 54894\n"
     ]
    }
   ],
   "source": [
    "# get genes that have non-zero expression (logcounts > 0)\n",
    "genes_any_expression = rownames(sce_mm[rowSums(logcounts(sce_mm)) > 0,] )\n",
    "print(length(genes_any_expression))\n",
    "print(length(rownames(sce_rm)))\n",
    "\n",
    "df_background <- data.frame(genes_any_expression)\n",
    "filename = here( paste('data/tidy_data/celltype_specific_enhancers/tables/gene-based-ldsc/','all_expressed_genes.csv', sep='') )\n",
    "\n",
    "write.table(df_background, filename, row.names=FALSE, col.names=FALSE)"
   ]
  },
  {
   "cell_type": "code",
   "execution_count": 5,
   "id": "2b8ed20e-1d75-4d6b-9014-1d8f8864f3fd",
   "metadata": {
    "collapsed": true,
    "jupyter": {
     "outputs_hidden": true,
     "source_hidden": true
    },
    "tags": []
   },
   "outputs": [
    {
     "data": {
      "text/html": [
       "<table class=\"dataframe\">\n",
       "<caption>A data.frame: 4 × 2</caption>\n",
       "<thead>\n",
       "\t<tr><th scope=col>biomart</th><th scope=col>version</th></tr>\n",
       "\t<tr><th scope=col>&lt;chr&gt;</th><th scope=col>&lt;chr&gt;</th></tr>\n",
       "</thead>\n",
       "<tbody>\n",
       "\t<tr><td>ENSEMBL_MART_ENSEMBL</td><td>Ensembl Genes 109     </td></tr>\n",
       "\t<tr><td>ENSEMBL_MART_MOUSE  </td><td>Mouse strains 109     </td></tr>\n",
       "\t<tr><td>ENSEMBL_MART_SNP    </td><td>Ensembl Variation 109 </td></tr>\n",
       "\t<tr><td>ENSEMBL_MART_FUNCGEN</td><td>Ensembl Regulation 109</td></tr>\n",
       "</tbody>\n",
       "</table>\n"
      ],
      "text/latex": [
       "A data.frame: 4 × 2\n",
       "\\begin{tabular}{ll}\n",
       " biomart & version\\\\\n",
       " <chr> & <chr>\\\\\n",
       "\\hline\n",
       "\t ENSEMBL\\_MART\\_ENSEMBL & Ensembl Genes 109     \\\\\n",
       "\t ENSEMBL\\_MART\\_MOUSE   & Mouse strains 109     \\\\\n",
       "\t ENSEMBL\\_MART\\_SNP     & Ensembl Variation 109 \\\\\n",
       "\t ENSEMBL\\_MART\\_FUNCGEN & Ensembl Regulation 109\\\\\n",
       "\\end{tabular}\n"
      ],
      "text/markdown": [
       "\n",
       "A data.frame: 4 × 2\n",
       "\n",
       "| biomart &lt;chr&gt; | version &lt;chr&gt; |\n",
       "|---|---|\n",
       "| ENSEMBL_MART_ENSEMBL | Ensembl Genes 109      |\n",
       "| ENSEMBL_MART_MOUSE   | Mouse strains 109      |\n",
       "| ENSEMBL_MART_SNP     | Ensembl Variation 109  |\n",
       "| ENSEMBL_MART_FUNCGEN | Ensembl Regulation 109 |\n",
       "\n"
      ],
      "text/plain": [
       "  biomart              version               \n",
       "1 ENSEMBL_MART_ENSEMBL Ensembl Genes 109     \n",
       "2 ENSEMBL_MART_MOUSE   Mouse strains 109     \n",
       "3 ENSEMBL_MART_SNP     Ensembl Variation 109 \n",
       "4 ENSEMBL_MART_FUNCGEN Ensembl Regulation 109"
      ]
     },
     "metadata": {},
     "output_type": "display_data"
    },
    {
     "name": "stderr",
     "output_type": "stream",
     "text": [
      "Ensembl site unresponsive, trying useast mirror\n",
      "\n",
      "Ensembl site unresponsive, trying useast mirror\n",
      "\n"
     ]
    },
    {
     "ename": "ERROR",
     "evalue": "Error in getBM(attributes = c(\"external_gene_name\", \"ensembl_gene_id\"), : object 'genes' not found\n",
     "output_type": "error",
     "traceback": [
      "Error in getBM(attributes = c(\"external_gene_name\", \"ensembl_gene_id\"), : object 'genes' not found\nTraceback:\n",
      "1. getBM(attributes = c(\"external_gene_name\", \"ensembl_gene_id\"), \n .     filters = \"external_gene_name\", values = genes, mart = ensembl)"
     ]
    }
   ],
   "source": [
    "# library(\"biomaRt\") \n",
    "# listMarts()\n",
    "# ensembl <- useMart(\"ensembl\")\n",
    "# datasets <- listDatasets(ensembl)\n",
    "# ensembl = useDataset(\"hsapiens_gene_ensembl\",mart=ensembl)\n",
    "# #ensembl = useDataset(\"mmulatta_gene_ensembl\", mart=ensembl)\n",
    "# options(max.print=1000000)\n",
    "\n",
    "# y = getBM(attributes=c('external_gene_name','ensembl_gene_id'), filters = 'external_gene_name', values = genes, mart = ensembl)\n",
    "\n",
    "# library(\"biomaRt\") \n",
    "# listMarts()\n",
    "# ensembl <- useMart(\"ensembl\")\n",
    "# datasets <- listDatasets(ensembl)\n",
    "# ensembl = useDataset(\"hsapiens_gene_ensembl\",mart=ensembl)\n",
    "# #ensembl = useDataset(\"mmulatta_gene_ensembl\", mart=ensembl)\n",
    "# options(max.print=1000000)\n",
    "\n",
    "# # with ensembl\n",
    "# for (ii in 1:length(try_markers) ){\n",
    "    \n",
    "#     celltype = names(try_markers[ii])\n",
    "#     x = try_markers[[ii]][try_markers[[ii]]$p.value < 0.05,]\n",
    "#     #genes = noquote(rownames(x))\n",
    "#     genes = rownames(x)\n",
    "    \n",
    "#     print(celltype)\n",
    "#     print('')\n",
    "    \n",
    "#     ### ensembl stuff\n",
    "#     ensembl_df = getBM(attributes=c('external_gene_name','ensembl_gene_id'), filters = 'external_gene_name', values = genes, mart = ensembl)\n",
    "#     ensembl_ids = noquote(ensembl_df$ensembl_gene_id)\n",
    "    \n",
    "#     filename = here( paste('data/tidy_data/celltype_specific_enhancers/tables/gene-based-ldsc/',celltype,'.csv', sep='') )\n",
    "\n",
    "#     #df <- data.frame(genes)\n",
    "#     df <- data.frame(ensembl_ids)\n",
    "#     #write.csv(df, filename, row.names=FALSE, col.names=FALSE)\n",
    "#     write.table(df, filename, row.names=FALSE, col.names=FALSE)\n",
    "    \n",
    "# }"
   ]
  },
  {
   "cell_type": "code",
   "execution_count": 10,
   "id": "2b6a0b09-2a68-42af-9cc3-5d316d92cbed",
   "metadata": {
    "collapsed": true,
    "jupyter": {
     "outputs_hidden": true
    },
    "tags": []
   },
   "outputs": [
    {
     "name": "stdout",
     "output_type": "stream",
     "text": [
      "[1] \"GLUT1\"\n",
      "[1] \"\"\n",
      "[1] \"GLUT2\"\n",
      "[1] \"\"\n",
      "[1] \"GLUT3\"\n",
      "[1] \"\"\n",
      "[1] \"GLUT4\"\n",
      "[1] \"\"\n",
      "[1] \"GLUT5\"\n",
      "[1] \"\"\n",
      "[1] \"GLUT6\"\n",
      "[1] \"\"\n",
      "[1] \"GLUT7\"\n",
      "[1] \"\"\n",
      "[1] \"GLUT8\"\n",
      "[1] \"\"\n",
      "[1] \"GLUT9\"\n",
      "[1] \"\"\n",
      "[1] \"GLUT10\"\n",
      "[1] \"\"\n",
      "[1] \"GLUT11\"\n",
      "[1] \"\"\n",
      "[1] \"GABA1\"\n",
      "[1] \"\"\n",
      "[1] \"GABA2_1\"\n",
      "[1] \"\"\n",
      "[1] \"GABA2_2\"\n",
      "[1] \"\"\n",
      "[1] \"GABA3\"\n",
      "[1] \"\"\n",
      "[1] \"GABA4_1\"\n",
      "[1] \"\"\n",
      "[1] \"GABA4_2\"\n",
      "[1] \"\"\n",
      "[1] \"GABA5\"\n",
      "[1] \"\"\n",
      "[1] \"midVen\"\n",
      "[1] \"\"\n",
      "[1] \"Astrocyte1\"\n",
      "[1] \"\"\n",
      "[1] \"Astrocyte2\"\n",
      "[1] \"\"\n",
      "[1] \"Ependymal\"\n",
      "[1] \"\"\n",
      "[1] \"Meninges\"\n",
      "[1] \"\"\n",
      "[1] \"Microglia\"\n",
      "[1] \"\"\n",
      "[1] \"Oligo1\"\n",
      "[1] \"\"\n",
      "[1] \"Oligo2\"\n",
      "[1] \"\"\n",
      "[1] \"OPC\"\n",
      "[1] \"\"\n",
      "[1] \"Schwann\"\n",
      "[1] \"\"\n"
     ]
    }
   ],
   "source": [
    "# save cell type specific marker genes - without ensembl\n",
    "for (ii in 1:length(try_markers) ){\n",
    "    \n",
    "    celltype = names(try_markers[ii])\n",
    "    x = try_markers[[ii]][try_markers[[ii]]$p.value < 0.05,]\n",
    "    genes = rownames(x)#noquote(rownames(x))\n",
    "    \n",
    "    celltype = gsub(\" \", \"\", celltype)\n",
    "    if (celltype == 'Ependymalcells'){\n",
    "        celltype = 'Ependymal'\n",
    "        }\n",
    "    print(celltype)\n",
    "    print('')\n",
    "    \n",
    "    filename = here( paste('data/tidy_data/celltype_specific_enhancers/tables/gene-based-ldsc/',celltype,'.csv', sep='') )\n",
    "\n",
    "    df_foregrounds <- data.frame(genes)\n",
    "    #write.csv(df, filename, row.names=FALSE, col.names=FALSE)\n",
    "    write.table(df_foregrounds, filename, row.names=FALSE, col.names=FALSE)\n",
    "    \n",
    "}"
   ]
  },
  {
   "cell_type": "code",
   "execution_count": 6,
   "id": "bc2d8c2d-79c4-4749-a7a7-af446c8f29fe",
   "metadata": {
    "collapsed": true,
    "jupyter": {
     "outputs_hidden": true,
     "source_hidden": true
    },
    "tags": []
   },
   "outputs": [
    {
     "name": "stdout",
     "output_type": "stream",
     "text": [
      "[1] \"GLUT1\"\n",
      "[1] \"\"\n",
      "[1] \"GLUT2\"\n",
      "[1] \"\"\n",
      "[1] \"GLUT3\"\n",
      "[1] \"\"\n",
      "[1] \"GLUT4\"\n",
      "[1] \"\"\n",
      "[1] \"GLUT5\"\n",
      "[1] \"\"\n",
      "[1] \"GLUT6\"\n",
      "[1] \"\"\n",
      "[1] \"GLUT7\"\n",
      "[1] \"\"\n",
      "[1] \"GLUT8\"\n",
      "[1] \"\"\n",
      "[1] \"GLUT9\"\n",
      "[1] \"\"\n",
      "[1] \"GLUT10\"\n",
      "[1] \"\"\n",
      "[1] \"GLUT11\"\n",
      "[1] \"\"\n",
      "[1] \"GABA1\"\n",
      "[1] \"\"\n",
      "[1] \"GABA2_1\"\n",
      "[1] \"\"\n",
      "[1] \"GABA2_2\"\n",
      "[1] \"\"\n",
      "[1] \"GABA3\"\n",
      "[1] \"\"\n",
      "[1] \"GABA4_1\"\n",
      "[1] \"\"\n",
      "[1] \"GABA4_2\"\n",
      "[1] \"\"\n",
      "[1] \"GABA5\"\n",
      "[1] \"\"\n",
      "[1] \"midVen\"\n",
      "[1] \"\"\n",
      "[1] \"Astrocyte1\"\n",
      "[1] \"\"\n",
      "[1] \"Astrocyte2\"\n",
      "[1] \"\"\n",
      "[1] \"Ependymalcells\"\n",
      "[1] \"\"\n",
      "[1] \"Meninges\"\n",
      "[1] \"\"\n",
      "[1] \"Microglia\"\n",
      "[1] \"\"\n",
      "[1] \"Oligo1\"\n",
      "[1] \"\"\n",
      "[1] \"Oligo2\"\n",
      "[1] \"\"\n",
      "[1] \"OPC\"\n",
      "[1] \"\"\n",
      "[1] \"Schwann\"\n",
      "[1] \"\"\n"
     ]
    }
   ],
   "source": [
    "# # without ensembl\n",
    "# for (ii in 1:length(try_markers) ){\n",
    "    \n",
    "#     celltype = names(try_markers[ii])\n",
    "#     x = try_markers[[ii]][try_markers[[ii]]$p.value < 0.05,]\n",
    "#     genes = noquote(rownames(x))\n",
    "    \n",
    "#     celltype = gsub(\" \", \"\", celltype)\n",
    "#     if celltype == 'Ependymalcells'{\n",
    "#         celltype = 'Ependymal'\n",
    "#         }\n",
    "#     print(celltype)\n",
    "#     print('')\n",
    "    \n",
    "#     #filename = here( paste('data/tidy_data/celltype_specific_enhancers/tables/gene-based-ldsc/',celltype,'.csv', sep='') )\n",
    "\n",
    "#     #df <- data.frame(genes)\n",
    "#     #write.csv(df, filename, row.names=FALSE, col.names=FALSE)\n",
    "#     #write.table(df, filename, row.names=FALSE, col.names=FALSE)\n",
    "    \n",
    "# }"
   ]
  }
 ],
 "metadata": {
  "kernelspec": {
   "display_name": "R",
   "language": "R",
   "name": "ir"
  },
  "language_info": {
   "codemirror_mode": "r",
   "file_extension": ".r",
   "mimetype": "text/x-r-source",
   "name": "R",
   "pygments_lexer": "r",
   "version": "4.1.2"
  }
 },
 "nbformat": 4,
 "nbformat_minor": 5
}
