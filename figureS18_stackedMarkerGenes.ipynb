{
 "cells": [
  {
   "cell_type": "code",
   "execution_count": 12,
   "id": "9a66cc1c-515f-4a33-961c-d4d773a42164",
   "metadata": {
    "tags": []
   },
   "outputs": [],
   "source": [
    "# condact r4\n",
    "# install.packages(\"ggupset\")\n",
    "library(ggplot2)\n",
    "library(tidyverse, warn.conflicts = FALSE)\n",
    "library(ggupset)\n",
    "library(here)\n",
    "\n",
    "macaque_ordered_types = c('GLUT1','GLUT2','GLUT3','GLUT4','GLUT5','GLUT6','GLUT7','GLUT8','GLUT9','GLUT10','GLUT11',\n",
    "                          'GABA1','GABA2_1','GABA2_2','GABA3','GABA4_2','GABA4_1','GABA5')\n",
    "new_cell_names = c('Exc-BNC2/HMGA2','Exc-NMUR2/PREX2', 'Exc-NMU/TAC3', 'Exc-TAC3/COL5A2/PLCH1','Exc-LMO3/TRPC3', 'Exc-SKOR2/NELL2', 'Exc-MAF/ADARB2', 'Exc-MAFA/BNC2', \n",
    "                  'Exc-NTS/TSHZ2', 'Exc-SNTB1/TRH/DACH1', 'Exc-PBX3/SLIT2', \n",
    "                  'Inh-CACNA2D3/TCF4', 'Inh-SORCS1/SDK1', 'Inh-PDZD2/SGCD', 'Inh-NPY/ZIC1', 'Inh-MEF2C/RORB','Inh-NXPH1/SDK2','Inh-PDYN/PTPRK')\n",
    "\n",
    "names(new_cell_names) = macaque_ordered_types\n",
    "new_cell_nicknames = c('Exc-BNC2','Exc-NMUR2', 'Exc-NMU', 'Exc-TAC3','Exc-LMO3', 'Exc-SKOR2', 'Exc-MAF', 'Exc-MAFA', \n",
    "                  'Exc-NTS', 'Exc-SNTB1', 'Exc-PBX3', 'Inh-CACNA2D3', 'Inh-SORCS1', 'Inh-PDZD2', 'Inh-NPY', 'Inh-MEF2C','Inh-NXPH1','Inh-PDYN')\n",
    "names(new_cell_nicknames) = macaque_ordered_types"
   ]
  },
  {
   "cell_type": "code",
   "execution_count": 2,
   "id": "503809e0-b041-4eba-bd9a-002c24285efa",
   "metadata": {},
   "outputs": [],
   "source": [
    "genelist_path = here('data/tidy_data/celltype_specific_enhancers/tables/gene-based-ldsc-mouse/')\n",
    "\n",
    "genelists <- list()\n",
    "filenames = list.files(path = genelist_path,pattern = \"\\\\.csv$\")\n",
    "for (ii in 1:length(filenames)){\n",
    "    filename = filenames[ii]\n",
    "    df <- read.csv(  paste0(genelist_path, filename),header = FALSE  )\n",
    "    genelist = df[,1]\n",
    "    \n",
    "    genelists[[ii]] = genelist\n",
    "    \n",
    "    \n",
    "    }\n",
    "allgenes = unique(Reduce(c,genelists))"
   ]
  },
  {
   "cell_type": "code",
   "execution_count": 3,
   "id": "f455c989-c723-4f4e-9c0f-c86abed660f9",
   "metadata": {},
   "outputs": [
    {
     "data": {
      "text/html": [
       "11276"
      ],
      "text/latex": [
       "11276"
      ],
      "text/markdown": [
       "11276"
      ],
      "text/plain": [
       "[1] 11276"
      ]
     },
     "metadata": {},
     "output_type": "display_data"
    }
   ],
   "source": [
    "length(allgenes)"
   ]
  },
  {
   "cell_type": "code",
   "execution_count": 3,
   "id": "177ed3ff-5ca0-4a90-a527-672330593e39",
   "metadata": {},
   "outputs": [],
   "source": [
    "## go through genes and find which cell types match\n",
    "\n",
    "which_celltype_list <- list()\n",
    "\n",
    "for (gene_dex in 1:length(allgenes) ){\n",
    "    \n",
    "    gene = allgenes[gene_dex]\n",
    "    \n",
    "    which_celltypes <- list()\n",
    "    which_dex = 1\n",
    "    for (ii in 1:length(filenames)){\n",
    "        \n",
    "        filename = filenames[ii]\n",
    "        celltype = sub('.csv', '', filename)\n",
    "    \n",
    "        genelist = genelists[[ii]]\n",
    "        \n",
    "        if (gene %in% genelist){\n",
    "            which_celltypes[[which_dex]] =celltype\n",
    "            which_dex = which_dex + 1\n",
    "\n",
    "        }\n",
    "    }\n",
    "    \n",
    "    which_celltype_list[[gene_dex]] <- unlist(which_celltypes)   \n",
    "}"
   ]
  },
  {
   "cell_type": "code",
   "execution_count": 4,
   "id": "7aae6f13-9b0d-4349-baca-8be3ff0b6a63",
   "metadata": {},
   "outputs": [],
   "source": [
    "which_neuron_list <- list()\n",
    "\n",
    "\n",
    "keep_genes <- list()\n",
    "keep_gene_dex = 1\n",
    "for (gene_dex in 1:length(allgenes) ){\n",
    "    \n",
    "    gene = allgenes[gene_dex]\n",
    "    \n",
    "    which_neurons <- list()\n",
    "    which_dex = 1\n",
    "    for (ii in 1:length(filenames)){\n",
    "        \n",
    "        filename = filenames[ii]\n",
    "        celltype = sub('.csv', '', filename)\n",
    "    \n",
    "        genelist = genelists[[ii]]\n",
    "        \n",
    "        if (gene %in% genelist){\n",
    "            \n",
    "            # are they neurons of interest\n",
    "            if (grepl('GABA',celltype) || grepl('GLUT', celltype)){\n",
    "                which_neurons[[which_dex]] = celltype\n",
    "                which_dex = which_dex + 1\n",
    "                \n",
    "                }\n",
    "\n",
    "        }\n",
    "    }\n",
    "    if (length(which_neurons) > 0){\n",
    "        keep_genes[keep_gene_dex] = gene\n",
    "        which_neuron_list[[keep_gene_dex]] <- unlist(which_neurons) \n",
    "        keep_gene_dex = keep_gene_dex + 1\n",
    "        \n",
    "        }\n",
    "  \n",
    "}"
   ]
  },
  {
   "cell_type": "code",
   "execution_count": null,
   "id": "a1d7e608-1bd3-4ece-9ccd-faf4e41a72e6",
   "metadata": {},
   "outputs": [],
   "source": []
  },
  {
   "cell_type": "code",
   "execution_count": 76,
   "id": "95ea4396-3263-4b66-a89e-bf4bc2475f0b",
   "metadata": {
    "tags": []
   },
   "outputs": [],
   "source": [
    "upset_df <- data.frame(unlist(allgenes))\n",
    "upset_df$celltypes <- which_celltype_list\n",
    "colnames(upset_df) <- c('gene', 'celltypes')"
   ]
  },
  {
   "cell_type": "code",
   "execution_count": 120,
   "id": "24f9c670-4f4a-49f4-973c-337b9dd99ebc",
   "metadata": {},
   "outputs": [
    {
     "data": {
      "text/html": [
       "<ol>\n",
       "</ol>\n"
      ],
      "text/latex": [
       "\\begin{enumerate}\n",
       "\\end{enumerate}\n"
      ],
      "text/markdown": [
       "\n",
       "\n"
      ],
      "text/plain": [
       "list()"
      ]
     },
     "metadata": {},
     "output_type": "display_data"
    }
   ],
   "source": [
    "which_neurons"
   ]
  },
  {
   "cell_type": "code",
   "execution_count": 119,
   "id": "3ac92260-b939-4ae8-9e74-e2db3ef4aa0f",
   "metadata": {},
   "outputs": [
    {
     "data": {
      "text/html": [],
      "text/latex": [],
      "text/markdown": [],
      "text/plain": [
       "logical(0)"
      ]
     },
     "metadata": {},
     "output_type": "display_data"
    }
   ],
   "source": [
    "which_neuron_list[1:5] == NULL"
   ]
  },
  {
   "cell_type": "code",
   "execution_count": 45,
   "id": "07624c33-23a0-4941-9eb2-4f4bad2e1002",
   "metadata": {},
   "outputs": [],
   "source": [
    "upset_df_neurons <- data.frame(unlist(keep_genes))\n",
    "upset_df_neurons$celltypes <- which_neuron_list\n",
    "colnames(upset_df_neurons) <- c('gene', 'celltypes')"
   ]
  },
  {
   "cell_type": "code",
   "execution_count": 78,
   "id": "6db0aa03-fea2-4266-ab84-a45628760ef2",
   "metadata": {},
   "outputs": [
    {
     "data": {
      "text/html": [
       "<table class=\"dataframe\">\n",
       "<caption>A data.frame: 6 × 2</caption>\n",
       "<thead>\n",
       "\t<tr><th></th><th scope=col>gene</th><th scope=col>celltypes</th></tr>\n",
       "\t<tr><th></th><th scope=col>&lt;chr&gt;</th><th scope=col>&lt;list&gt;</th></tr>\n",
       "</thead>\n",
       "<tbody>\n",
       "\t<tr><th scope=row>1</th><td>ITGB4  </td><td>Astrocyte1, Astrocyte2, Ependymal , Meninges  , Schwann   </td></tr>\n",
       "\t<tr><th scope=row>2</th><td>SLC14A1</td><td>Astrocyte1, Astrocyte2</td></tr>\n",
       "\t<tr><th scope=row>3</th><td>MYBPC1 </td><td>Astrocyte1, Astrocyte2</td></tr>\n",
       "\t<tr><th scope=row>4</th><td>GRAMD2B</td><td>Astrocyte1, Astrocyte2, Meninges  , Microglia , Oligo1    , OPC       </td></tr>\n",
       "\t<tr><th scope=row>5</th><td>ALDH1A1</td><td>Astrocyte1, Astrocyte2, Schwann   </td></tr>\n",
       "\t<tr><th scope=row>6</th><td>SPARCL1</td><td>Astrocyte1, Astrocyte2, Ependymal , GABA1     , Meninges  , OPC       </td></tr>\n",
       "</tbody>\n",
       "</table>\n"
      ],
      "text/latex": [
       "A data.frame: 6 × 2\n",
       "\\begin{tabular}{r|ll}\n",
       "  & gene & celltypes\\\\\n",
       "  & <chr> & <list>\\\\\n",
       "\\hline\n",
       "\t1 & ITGB4   & Astrocyte1, Astrocyte2, Ependymal , Meninges  , Schwann   \\\\\n",
       "\t2 & SLC14A1 & Astrocyte1, Astrocyte2\\\\\n",
       "\t3 & MYBPC1  & Astrocyte1, Astrocyte2\\\\\n",
       "\t4 & GRAMD2B & Astrocyte1, Astrocyte2, Meninges  , Microglia , Oligo1    , OPC       \\\\\n",
       "\t5 & ALDH1A1 & Astrocyte1, Astrocyte2, Schwann   \\\\\n",
       "\t6 & SPARCL1 & Astrocyte1, Astrocyte2, Ependymal , GABA1     , Meninges  , OPC       \\\\\n",
       "\\end{tabular}\n"
      ],
      "text/markdown": [
       "\n",
       "A data.frame: 6 × 2\n",
       "\n",
       "| <!--/--> | gene &lt;chr&gt; | celltypes &lt;list&gt; |\n",
       "|---|---|---|\n",
       "| 1 | ITGB4   | Astrocyte1, Astrocyte2, Ependymal , Meninges  , Schwann    |\n",
       "| 2 | SLC14A1 | Astrocyte1, Astrocyte2 |\n",
       "| 3 | MYBPC1  | Astrocyte1, Astrocyte2 |\n",
       "| 4 | GRAMD2B | Astrocyte1, Astrocyte2, Meninges  , Microglia , Oligo1    , OPC        |\n",
       "| 5 | ALDH1A1 | Astrocyte1, Astrocyte2, Schwann    |\n",
       "| 6 | SPARCL1 | Astrocyte1, Astrocyte2, Ependymal , GABA1     , Meninges  , OPC        |\n",
       "\n"
      ],
      "text/plain": [
       "  gene   \n",
       "1 ITGB4  \n",
       "2 SLC14A1\n",
       "3 MYBPC1 \n",
       "4 GRAMD2B\n",
       "5 ALDH1A1\n",
       "6 SPARCL1\n",
       "  celltypes                                                             \n",
       "1 Astrocyte1, Astrocyte2, Ependymal , Meninges  , Schwann               \n",
       "2 Astrocyte1, Astrocyte2                                                \n",
       "3 Astrocyte1, Astrocyte2                                                \n",
       "4 Astrocyte1, Astrocyte2, Meninges  , Microglia , Oligo1    , OPC       \n",
       "5 Astrocyte1, Astrocyte2, Schwann                                       \n",
       "6 Astrocyte1, Astrocyte2, Ependymal , GABA1     , Meninges  , OPC       "
      ]
     },
     "metadata": {},
     "output_type": "display_data"
    }
   ],
   "source": [
    "head(upset_df)"
   ]
  },
  {
   "cell_type": "code",
   "execution_count": 102,
   "id": "5b3d50ce-ba43-4ba8-a4e7-e6be004e1d18",
   "metadata": {},
   "outputs": [],
   "source": [
    "upset_df_test = upset_df[1:500,]"
   ]
  },
  {
   "cell_type": "code",
   "execution_count": 5,
   "id": "0f933139-6ee2-46a4-a4f4-854670af2437",
   "metadata": {
    "tags": []
   },
   "outputs": [],
   "source": [
    "### for each neuron, get total genes and genes shared\n",
    "\n",
    "# loop through cells\n",
    "unique_gene_counts = list()\n",
    "\n",
    "gene_counts = list()\n",
    "for (ii in 1:length(filenames)){\n",
    "    unique_gene_counts[[ii]] = -1\n",
    "    gene_counts[[ii]] = -1\n",
    "    \n",
    "    filename = filenames[ii]\n",
    "    celltype = sub('.csv', '', filename)\n",
    "    \n",
    "    names(unique_gene_counts)[ii] = celltype\n",
    "    names(gene_counts)[ii] = celltype\n",
    "    \n",
    "    # it's a neuron of interest - only then look for other genes\n",
    "    if (grepl('GABA',celltype) || grepl('GLUT', celltype)){\n",
    "        \n",
    "        genelist = genelists[[ii]]\n",
    "        unique_gene_counts[[ii]] = 0\n",
    "        gene_counts[[ii]] = length(genelist)\n",
    "    \n",
    "    # look for every gene in other lists\n",
    "    for (gene in genelist){\n",
    "        \n",
    "        gene_solo = TRUE\n",
    "        for (jj in 1:length(filenames)){\n",
    "            filename = filenames[jj]\n",
    "            celltype2 = sub('.csv', '', filename)\n",
    "\n",
    "            # a different neuron\n",
    "            if (  (jj != ii) && (grepl('GABA',celltype2) || grepl('GLUT', celltype2))   ){\n",
    "                \n",
    "                other_genelist = genelists[[jj]]\n",
    "                if (gene %in% other_genelist){\n",
    "                    \n",
    "                    gene_solo = FALSE\n",
    "                    break\n",
    "                    \n",
    "                    }\n",
    "                \n",
    "            }\n",
    "        }\n",
    "        \n",
    "        ###\n",
    "        if (gene_solo == TRUE){\n",
    "            unique_gene_counts[[ii]] = unique_gene_counts[[ii]] + 1\n",
    "        \n",
    "            }\n",
    "    }\n",
    "        \n",
    "        \n",
    "        \n",
    "        \n",
    "    }\n",
    "    \n",
    "}"
   ]
  },
  {
   "cell_type": "code",
   "execution_count": 6,
   "id": "0815bfe1-c2d7-4a91-af40-0314b27d5684",
   "metadata": {},
   "outputs": [
    {
     "data": {
      "text/html": [
       "<dl>\n",
       "\t<dt>$Astrocyte1</dt>\n",
       "\t\t<dd>-1</dd>\n",
       "\t<dt>$Astrocyte2</dt>\n",
       "\t\t<dd>-1</dd>\n",
       "\t<dt>$Ependymal</dt>\n",
       "\t\t<dd>-1</dd>\n",
       "\t<dt>$GABA1</dt>\n",
       "\t\t<dd>150</dd>\n",
       "\t<dt>$GABA2_1</dt>\n",
       "\t\t<dd>68</dd>\n",
       "\t<dt>$GABA2_2</dt>\n",
       "\t\t<dd>47</dd>\n",
       "\t<dt>$GABA3</dt>\n",
       "\t\t<dd>75</dd>\n",
       "\t<dt>$GABA4_1</dt>\n",
       "\t\t<dd>109</dd>\n",
       "\t<dt>$GABA4_2</dt>\n",
       "\t\t<dd>60</dd>\n",
       "\t<dt>$GABA5</dt>\n",
       "\t\t<dd>126</dd>\n",
       "\t<dt>$GLUT1</dt>\n",
       "\t\t<dd>92</dd>\n",
       "\t<dt>$GLUT10</dt>\n",
       "\t\t<dd>16</dd>\n",
       "\t<dt>$GLUT11</dt>\n",
       "\t\t<dd>114</dd>\n",
       "\t<dt>$GLUT2</dt>\n",
       "\t\t<dd>144</dd>\n",
       "\t<dt>$GLUT3</dt>\n",
       "\t\t<dd>96</dd>\n",
       "\t<dt>$GLUT4</dt>\n",
       "\t\t<dd>19</dd>\n",
       "\t<dt>$GLUT5</dt>\n",
       "\t\t<dd>145</dd>\n",
       "\t<dt>$GLUT6</dt>\n",
       "\t\t<dd>51</dd>\n",
       "\t<dt>$GLUT7</dt>\n",
       "\t\t<dd>139</dd>\n",
       "\t<dt>$GLUT8</dt>\n",
       "\t\t<dd>32</dd>\n",
       "\t<dt>$GLUT9</dt>\n",
       "\t\t<dd>51</dd>\n",
       "\t<dt>$Meninges</dt>\n",
       "\t\t<dd>-1</dd>\n",
       "\t<dt>$Microglia</dt>\n",
       "\t\t<dd>-1</dd>\n",
       "\t<dt>$midVen</dt>\n",
       "\t\t<dd>-1</dd>\n",
       "\t<dt>$Oligo1</dt>\n",
       "\t\t<dd>-1</dd>\n",
       "\t<dt>$Oligo2</dt>\n",
       "\t\t<dd>-1</dd>\n",
       "\t<dt>$OPC</dt>\n",
       "\t\t<dd>-1</dd>\n",
       "\t<dt>$Schwann</dt>\n",
       "\t\t<dd>-1</dd>\n",
       "</dl>\n"
      ],
      "text/latex": [
       "\\begin{description}\n",
       "\\item[\\$Astrocyte1] -1\n",
       "\\item[\\$Astrocyte2] -1\n",
       "\\item[\\$Ependymal] -1\n",
       "\\item[\\$GABA1] 150\n",
       "\\item[\\$GABA2\\_1] 68\n",
       "\\item[\\$GABA2\\_2] 47\n",
       "\\item[\\$GABA3] 75\n",
       "\\item[\\$GABA4\\_1] 109\n",
       "\\item[\\$GABA4\\_2] 60\n",
       "\\item[\\$GABA5] 126\n",
       "\\item[\\$GLUT1] 92\n",
       "\\item[\\$GLUT10] 16\n",
       "\\item[\\$GLUT11] 114\n",
       "\\item[\\$GLUT2] 144\n",
       "\\item[\\$GLUT3] 96\n",
       "\\item[\\$GLUT4] 19\n",
       "\\item[\\$GLUT5] 145\n",
       "\\item[\\$GLUT6] 51\n",
       "\\item[\\$GLUT7] 139\n",
       "\\item[\\$GLUT8] 32\n",
       "\\item[\\$GLUT9] 51\n",
       "\\item[\\$Meninges] -1\n",
       "\\item[\\$Microglia] -1\n",
       "\\item[\\$midVen] -1\n",
       "\\item[\\$Oligo1] -1\n",
       "\\item[\\$Oligo2] -1\n",
       "\\item[\\$OPC] -1\n",
       "\\item[\\$Schwann] -1\n",
       "\\end{description}\n"
      ],
      "text/markdown": [
       "$Astrocyte1\n",
       ":   -1\n",
       "$Astrocyte2\n",
       ":   -1\n",
       "$Ependymal\n",
       ":   -1\n",
       "$GABA1\n",
       ":   150\n",
       "$GABA2_1\n",
       ":   68\n",
       "$GABA2_2\n",
       ":   47\n",
       "$GABA3\n",
       ":   75\n",
       "$GABA4_1\n",
       ":   109\n",
       "$GABA4_2\n",
       ":   60\n",
       "$GABA5\n",
       ":   126\n",
       "$GLUT1\n",
       ":   92\n",
       "$GLUT10\n",
       ":   16\n",
       "$GLUT11\n",
       ":   114\n",
       "$GLUT2\n",
       ":   144\n",
       "$GLUT3\n",
       ":   96\n",
       "$GLUT4\n",
       ":   19\n",
       "$GLUT5\n",
       ":   145\n",
       "$GLUT6\n",
       ":   51\n",
       "$GLUT7\n",
       ":   139\n",
       "$GLUT8\n",
       ":   32\n",
       "$GLUT9\n",
       ":   51\n",
       "$Meninges\n",
       ":   -1\n",
       "$Microglia\n",
       ":   -1\n",
       "$midVen\n",
       ":   -1\n",
       "$Oligo1\n",
       ":   -1\n",
       "$Oligo2\n",
       ":   -1\n",
       "$OPC\n",
       ":   -1\n",
       "$Schwann\n",
       ":   -1\n",
       "\n",
       "\n"
      ],
      "text/plain": [
       "$Astrocyte1\n",
       "[1] -1\n",
       "\n",
       "$Astrocyte2\n",
       "[1] -1\n",
       "\n",
       "$Ependymal\n",
       "[1] -1\n",
       "\n",
       "$GABA1\n",
       "[1] 150\n",
       "\n",
       "$GABA2_1\n",
       "[1] 68\n",
       "\n",
       "$GABA2_2\n",
       "[1] 47\n",
       "\n",
       "$GABA3\n",
       "[1] 75\n",
       "\n",
       "$GABA4_1\n",
       "[1] 109\n",
       "\n",
       "$GABA4_2\n",
       "[1] 60\n",
       "\n",
       "$GABA5\n",
       "[1] 126\n",
       "\n",
       "$GLUT1\n",
       "[1] 92\n",
       "\n",
       "$GLUT10\n",
       "[1] 16\n",
       "\n",
       "$GLUT11\n",
       "[1] 114\n",
       "\n",
       "$GLUT2\n",
       "[1] 144\n",
       "\n",
       "$GLUT3\n",
       "[1] 96\n",
       "\n",
       "$GLUT4\n",
       "[1] 19\n",
       "\n",
       "$GLUT5\n",
       "[1] 145\n",
       "\n",
       "$GLUT6\n",
       "[1] 51\n",
       "\n",
       "$GLUT7\n",
       "[1] 139\n",
       "\n",
       "$GLUT8\n",
       "[1] 32\n",
       "\n",
       "$GLUT9\n",
       "[1] 51\n",
       "\n",
       "$Meninges\n",
       "[1] -1\n",
       "\n",
       "$Microglia\n",
       "[1] -1\n",
       "\n",
       "$midVen\n",
       "[1] -1\n",
       "\n",
       "$Oligo1\n",
       "[1] -1\n",
       "\n",
       "$Oligo2\n",
       "[1] -1\n",
       "\n",
       "$OPC\n",
       "[1] -1\n",
       "\n",
       "$Schwann\n",
       "[1] -1\n"
      ]
     },
     "metadata": {},
     "output_type": "display_data"
    }
   ],
   "source": [
    "unique_gene_counts"
   ]
  },
  {
   "cell_type": "code",
   "execution_count": 8,
   "id": "292b7edf-db74-4c54-bb28-85db6533818d",
   "metadata": {},
   "outputs": [],
   "source": [
    "cell = rep(unique(names(gene_counts)), times = 1, each = 2)\n",
    "condition = rep(c(\"unique\" , \"shared\") , length(unique(names(gene_counts))))\n",
    "\n",
    "combined_gene_list = list()\n",
    "for (ii in 1:length(gene_counts)){\n",
    "    \n",
    "    combined_gene_list[[2*ii-1]] = unique_gene_counts[[ii]]\n",
    "    combined_gene_list[[2*ii]] = gene_counts[[ii]] - unique_gene_counts[[ii]]\n",
    "    \n",
    "    \n",
    "    }\n",
    "\n",
    "combined_gene_values = as.numeric(combined_gene_list)\n",
    "\n",
    "neuron_indices = sort(c(which(grepl('GABA',cell)), which(grepl('GLUT', cell)) ))\n",
    "\n",
    "\n",
    "cell = cell[neuron_indices]\n",
    "condition = condition[neuron_indices]\n",
    "combined_gene_values = combined_gene_values[neuron_indices]\n",
    "\n",
    "data <- data.frame(cell,condition,combined_gene_values)\n",
    "data$nickname = factor(new_cell_nicknames[data$cell], new_cell_nicknames)\n"
   ]
  },
  {
   "cell_type": "code",
   "execution_count": 34,
   "id": "f351ceab-ef8e-46cd-b91f-546fa9f1bf68",
   "metadata": {},
   "outputs": [
    {
     "data": {
      "text/html": [
       "<strong>png:</strong> 2"
      ],
      "text/latex": [
       "\\textbf{png:} 2"
      ],
      "text/markdown": [
       "**png:** 2"
      ],
      "text/plain": [
       "png \n",
       "  2 "
      ]
     },
     "metadata": {},
     "output_type": "display_data"
    }
   ],
   "source": [
    "\n",
    " \n",
    "# Stacked\n",
    "p<- ggplot(data, aes(fill=condition, y=combined_gene_values, x=nickname)) + \n",
    "    geom_bar(position=\"stack\", stat=\"identity\") +\n",
    "theme(axis.text.x = element_text(angle = 90, vjust = 0.5, hjust=1)) + labs(x = 'Cell Type', y = 'Number of Marker Genes used in LDSC', fill='')\n",
    "\n",
    "\n",
    "pdf(file = here('figures/exploratory/genebased_gwas_enrichments_mouse/plots/stacked_bar_neurons.pdf'),   # The directory you want to save the file in\n",
    "    width = 5, # The width of the plot in inches\n",
    "    height = 4) # The height of the plot in inches\n",
    "print(p)\n",
    "dev.off()"
   ]
  },
  {
   "cell_type": "code",
   "execution_count": 33,
   "id": "8b94d57f-a2d3-40b6-82c9-1bd09a3f17c9",
   "metadata": {},
   "outputs": [
    {
     "data": {
      "image/png": "[encoded data removed]",
      "text/plain": [
       "plot without title"
      ]
     },
     "metadata": {
      "image/png": {
       "height": 420,
       "width": 420
      }
     },
     "output_type": "display_data"
    }
   ],
   "source": [
    "p"
   ]
  }
 ],
 "metadata": {
  "kernelspec": {
   "display_name": "R",
   "language": "R",
   "name": "ir"
  },
  "language_info": {
   "codemirror_mode": "r",
   "file_extension": ".r",
   "mimetype": "text/x-r-source",
   "name": "R",
   "pygments_lexer": "r",
   "version": "4.1.2"
  }
 },
 "nbformat": 4,
 "nbformat_minor": 5
}
