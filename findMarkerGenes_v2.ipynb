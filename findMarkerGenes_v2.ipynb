{
 "cells": [
  {
   "cell_type": "markdown",
   "id": "92726d0b-85c9-4736-a3d1-f578b28a5091",
   "metadata": {},
   "source": [
    "Not appropriate to use integrated values for differential genes\n",
    "https://github.com/satijalab/seurat/issues/5881\n",
    "Label mouse and human with macaque names and then try finding differential genes for each dataset"
   ]
  },
  {
   "cell_type": "markdown",
   "id": "9cbdc237-816b-4b29-9b5a-ed7fe136f74d",
   "metadata": {
    "tags": []
   },
   "source": [
    "# 1. Create and save Marker Genes"
   ]
  },
  {
   "cell_type": "code",
   "execution_count": 1,
   "id": "26b0d676-226d-452b-bc67-690561004d71",
   "metadata": {
    "collapsed": true,
    "jupyter": {
     "outputs_hidden": true
    },
    "tags": []
   },
   "outputs": [
    {
     "name": "stderr",
     "output_type": "stream",
     "text": [
      "Warning message:\n",
      "“package ‘Seurat’ was built under R version 4.1.3”\n",
      "Attaching SeuratObject\n",
      "\n",
      "Registered S3 method overwritten by 'SeuratDisk':\n",
      "  method            from  \n",
      "  as.sparse.H5Group Seurat\n",
      "\n",
      "Warning message:\n",
      "“package ‘future’ was built under R version 4.1.3”\n",
      "Warning message:\n",
      "“package ‘here’ was built under R version 4.1.3”\n",
      "here() starts at /projects/pfenninggroup/singleCell/Macaque_SealDorsalHorn_snATAC-seq\n",
      "\n",
      "── \u001b[1mAttaching packages\u001b[22m ─────────────────────────────────────────────────────────────────────────────────────────────────────────────────────────────────────── tidyverse 1.3.1 ──\n",
      "\n",
      "\u001b[32m✔\u001b[39m \u001b[34mggplot2\u001b[39m 3.3.6     \u001b[32m✔\u001b[39m \u001b[34mpurrr  \u001b[39m 0.3.4\n",
      "\u001b[32m✔\u001b[39m \u001b[34mtibble \u001b[39m 3.1.7     \u001b[32m✔\u001b[39m \u001b[34mdplyr  \u001b[39m 1.0.9\n",
      "\u001b[32m✔\u001b[39m \u001b[34mtidyr  \u001b[39m 1.2.0     \u001b[32m✔\u001b[39m \u001b[34mstringr\u001b[39m 1.4.0\n",
      "\u001b[32m✔\u001b[39m \u001b[34mreadr  \u001b[39m 2.1.2     \u001b[32m✔\u001b[39m \u001b[34mforcats\u001b[39m 0.5.1\n",
      "\n",
      "Warning message:\n",
      "“package ‘ggplot2’ was built under R version 4.1.3”\n",
      "Warning message:\n",
      "“package ‘tibble’ was built under R version 4.1.3”\n",
      "Warning message:\n",
      "“package ‘dplyr’ was built under R version 4.1.3”\n",
      "── \u001b[1mConflicts\u001b[22m ────────────────────────────────────────────────────────────────────────────────────────────────────────────────────────────────────────── tidyverse_conflicts() ──\n",
      "\u001b[31m✖\u001b[39m \u001b[34mdplyr\u001b[39m::\u001b[32mfilter()\u001b[39m masks \u001b[34mstats\u001b[39m::filter()\n",
      "\u001b[31m✖\u001b[39m \u001b[34mdplyr\u001b[39m::\u001b[32mlag()\u001b[39m    masks \u001b[34mstats\u001b[39m::lag()\n",
      "\n",
      "Warning message:\n",
      "“package ‘caret’ was built under R version 4.1.3”\n",
      "Loading required package: lattice\n",
      "\n",
      "\n",
      "Attaching package: ‘caret’\n",
      "\n",
      "\n",
      "The following object is masked from ‘package:purrr’:\n",
      "\n",
      "    lift\n",
      "\n",
      "\n",
      "The following object is masked from ‘package:future’:\n",
      "\n",
      "    cluster\n",
      "\n",
      "\n",
      "hash-2.2.6.2 provided by Decision Patterns\n",
      "\n",
      "\n",
      "\n",
      "Attaching package: ‘hash’\n",
      "\n",
      "\n",
      "The following object is masked from ‘package:future’:\n",
      "\n",
      "    values\n",
      "\n",
      "\n"
     ]
    }
   ],
   "source": [
    "## conda activate r4\n",
    "## packages for data table processing\n",
    "\n",
    "#IRkernel::installspec()\n",
    "\n",
    "## main Seurat package snRNA-seq packages\n",
    "library(Seurat)\n",
    "library(SeuratDisk)\n",
    "library(future)\n",
    "\n",
    "library(here)\n",
    "library(tidyverse)\n",
    "\n",
    "library(caret)\n",
    "library(cluster)\n",
    "\n",
    "#install.packages('hash')\n",
    "library(hash)\n",
    "\n",
    "ss <- function(x, pattern, slot = 1, ...) { \n",
    "  sapply(strsplit(x = x, split = pattern, ...), '[', slot) }\n",
    "options(stringsAsFactors = F)\n",
    "options(repr.plot.width=11, repr.plot.height=8.5)\n",
    "\n",
    "#######################################################\n",
    "# 0) Seurat uses the future package for parallelization\n",
    "## set to be parallel over 28 cores\n",
    "plan(\"multicore\", workers = 28)\n",
    "options(future.globals.maxSize = 100 * 1024^3)\n",
    "options(future.rng.onMisuse = 'ignore')"
   ]
  },
  {
   "cell_type": "code",
   "execution_count": 2,
   "id": "02bf4e67-1088-48e1-b5ff-c6cac0463d06",
   "metadata": {
    "collapsed": true,
    "jupyter": {
     "outputs_hidden": true
    },
    "tags": []
   },
   "outputs": [
    {
     "name": "stderr",
     "output_type": "stream",
     "text": [
      "Validating h5Seurat file\n",
      "\n",
      "Initializing RNA with data\n",
      "\n",
      "Adding counts for RNA\n",
      "\n",
      "Adding feature-level metadata for RNA\n",
      "\n",
      "Adding reduction pca\n",
      "\n",
      "Adding cell embeddings for pca\n",
      "\n",
      "Adding miscellaneous information for pca\n",
      "\n",
      "Adding reduction scanorama\n",
      "\n",
      "Adding cell embeddings for scanorama\n",
      "\n",
      "Adding miscellaneous information for scanorama\n",
      "\n",
      "Adding reduction umap\n",
      "\n",
      "Adding cell embeddings for umap\n",
      "\n",
      "Adding miscellaneous information for umap\n",
      "\n",
      "Adding command information\n",
      "\n",
      "Adding cell-level metadata\n",
      "\n",
      "Validating h5Seurat file\n",
      "\n",
      "Initializing MAGIC_RNA with data\n",
      "\n",
      "Adding miscellaneous information for MAGIC_RNA\n",
      "\n",
      "Initializing MAGIC_SCT with data\n",
      "\n",
      "Adding miscellaneous information for MAGIC_SCT\n",
      "\n",
      "Initializing RNA with data\n",
      "\n",
      "Adding counts for RNA\n",
      "\n",
      "Adding miscellaneous information for RNA\n",
      "\n",
      "Initializing SCT with data\n",
      "\n",
      "Adding counts for SCT\n",
      "\n",
      "Adding scale.data for SCT\n",
      "\n",
      "Adding variable feature information for SCT\n",
      "\n",
      "Adding miscellaneous information for SCT\n",
      "\n",
      "Initializing alra with data\n",
      "\n",
      "Adding miscellaneous information for alra\n",
      "\n",
      "Initializing integrated with data\n",
      "\n",
      "Adding scale.data for integrated\n",
      "\n",
      "Adding variable feature information for integrated\n",
      "\n",
      "Adding miscellaneous information for integrated\n",
      "\n",
      "Adding reduction pca\n",
      "\n",
      "Adding cell embeddings for pca\n",
      "\n",
      "Adding feature loadings for pca\n",
      "\n",
      "Adding miscellaneous information for pca\n",
      "\n",
      "Adding reduction umap\n",
      "\n",
      "Adding cell embeddings for umap\n",
      "\n",
      "Adding miscellaneous information for umap\n",
      "\n",
      "Adding command information\n",
      "\n",
      "Adding cell-level metadata\n",
      "\n",
      "Adding miscellaneous information\n",
      "\n",
      "Adding tool-specific results\n",
      "\n",
      "Adding data that was not associated with an assay\n",
      "\n",
      "Warning message:\n",
      "“Adding a command log without an assay associated with it”\n",
      "Warning message:\n",
      "“Adding a command log without an assay associated with it”\n",
      "Warning message:\n",
      "“Adding a command log without an assay associated with it”\n"
     ]
    }
   ],
   "source": [
    "# load human and macaque rna dataset\n",
    "macaque_rna = LoadH5Seurat(\"/projects/pfenninggroup/singleCell/Macaque_SealDorsalHorn_snATAC-seq/data/tidy_data/rdas/macaque_integrated_neuronsv3.h5seurat\",assay = \"RNA\")\n",
    "macaque_rna$nCount_RNA = macaque_rna$nUMI # equivalent data\n",
    "macaque_rna$nFeature_RNA = macaque_rna$nGene # equivalent data\n",
    "\n",
    "human_rna = readRDS('/projects/pfenninggroup/singleCell/HumanMacaqueMouse_DorsalHorn_snRNA-Seq/data/tidy_data/Levine_Human_dorsal_horn_celltypes/rdas/human_neurons.rds')\n",
    "\n",
    "mouse_rna = LoadH5Seurat('/home/bnphan/projects/2022_DH_Russ_cell_types/data/tidy_data/rdas/Russ_et_al_dorsal_horn_neurons.h5seurat')\n",
    "mouse_rna = mouse_rna[, mouse_rna$dataset == 'Sathyamurthy']\n",
    "Idents(object = mouse_rna) <- \"final_cluster_assignment\"\n",
    "DefaultAssay(mouse_rna) = 'RNA'"
   ]
  },
  {
   "cell_type": "code",
   "execution_count": 3,
   "id": "8df91029-79f6-4d44-844c-bf46c73f455a",
   "metadata": {
    "tags": []
   },
   "outputs": [
    {
     "name": "stdout",
     "output_type": "stream",
     "text": [
      "\u001b[90m# A tibble: 6 × 2\u001b[39m\n",
      "  Mouse.gene.name Gene.name\n",
      "  \u001b[3m\u001b[90m<chr>\u001b[39m\u001b[23m           \u001b[3m\u001b[90m<chr>\u001b[39m\u001b[23m    \n",
      "\u001b[90m1\u001b[39m Usp9y           USP9Y    \n",
      "\u001b[90m2\u001b[39m Kdm5d           KDM5D    \n",
      "\u001b[90m3\u001b[39m Sry             SRY      \n",
      "\u001b[90m4\u001b[39m Zfx             ZFY      \n",
      "\u001b[90m5\u001b[39m Ddx3y           DDX3Y    \n",
      "\u001b[90m6\u001b[39m Uty             UTY      \n"
     ]
    }
   ],
   "source": [
    "### mouse genes to human genes\n",
    "convertHumanGeneList <- function(x){\n",
    "  file = '/home/bnphan/resources/genomes/GRCh38.p13/ENSEMBL_GRCh38.p13_genes_to_Orthologous_mouse_genes.tsv'\n",
    "  orthologs = read_tsv(file, show_col_types = FALSE) %>% \n",
    "    rename_with(make.names) %>% \n",
    "    dplyr::filter(Mouse.homology.type== 'ortholog_one2one') %>% \n",
    "    dplyr::filter(Mouse.gene.name %in% x) %>% \n",
    "    dplyr::select(Mouse.gene.name, Gene.name)\n",
    "  \n",
    "  # Print the first 6 genes found to the screen\n",
    "  print(head(orthologs))\n",
    "  return(orthologs)\n",
    "}\n",
    "# RenameGenesSeurat from https://github.com/satijalab/seurat/issues/1049\n",
    "RenameGenesSeurat <- function(obj, newnames) {\n",
    "  # Replace gene names in different slots of a Seurat object. Run this before integration.\n",
    "  # It only changes obj@assays$RNA@counts, @data and @scale.data.\n",
    "  print(\"Run this before integration. It only changes obj@assays$RNA@counts, @data and @scale.data.\")\n",
    "  RNA <- obj@assays$RNA\n",
    "\n",
    "  if (nrow(RNA) == length(newnames)) {\n",
    "    if (length(RNA@counts)) RNA@counts@Dimnames[[1]]            <- newnames\n",
    "    if (length(RNA@data)) RNA@data@Dimnames[[1]]                <- newnames\n",
    "    if (length(RNA@scale.data)) RNA@scale.data@Dimnames[[1]]    <- newnames\n",
    "  } else {\"Unequal gene sets: nrow(RNA) != nrow(newnames)\"}\n",
    "  obj@assays$RNA <- RNA\n",
    "  return(obj)\n",
    "}\n",
    "\n",
    "## switch out human gene names w/ orthologous mouse gene names, based on ENSEMBL\n",
    "MmtoHg = convertHumanGeneList(rownames(mouse_rna)) %>% deframe()\n",
    "HgtoMm = setNames(names(MmtoHg), MmtoHg)\n",
    "# mouse_rna = mouse_rna[names(MmtoHg[!is.na(MmtoHg)]), ]\n",
    "# mouse_rna = RenameGenesSeurat(mouse_rna, newnames = MmtoHg[rownames(mouse_rna)])\n",
    "# mouse_rna = mouse_rna[!is.na(rownames(mouse_rna)), ]\n",
    "# head(rownames(mouse_rna))\n",
    "\n",
    "# firstup <- function(x) {\n",
    "#   substr(x, 1, 1) <- toupper(substr(x, 1, 1))\n",
    "#   x\n",
    "# }"
   ]
  },
  {
   "cell_type": "code",
   "execution_count": 5,
   "id": "7dc58ebf-a426-425f-bf7c-1309d7412266",
   "metadata": {
    "collapsed": true,
    "jupyter": {
     "outputs_hidden": true
    },
    "tags": []
   },
   "outputs": [
    {
     "ename": "ERROR",
     "evalue": "Error in unique(human_rna$final_ann): object 'human_rna' not found\n",
     "output_type": "error",
     "traceback": [
      "Error in unique(human_rna$final_ann): object 'human_rna' not found\nTraceback:\n",
      "1. unique(human_rna$final_ann)"
     ]
    }
   ],
   "source": [
    "## subset to dorsal horn\n",
    "human_cell_types = unique(human_rna$final_ann)\n",
    "human_dh_types = human_cell_types[grep('Dorsal', human_cell_types)]\n",
    "\n",
    "macaque_cell_types = unique(macaque_rna$cluster_type)\n",
    "GLUTs = macaque_cell_types[grep('GLUT', macaque_cell_types)]\n",
    "GABAs = macaque_cell_types[grep('GABA', macaque_cell_types)]\n",
    "macaque_dh_types = c(GLUTs, GABAs)\n",
    "\n",
    "Idents(object = human_rna) <- \"final_ann\"\n",
    "human_rna_dh = subset(x = human_rna, idents = human_dh_types)\n",
    "rm(human_rna)\n",
    "\n",
    "Idents(object = macaque_rna) <- \"cluster_type\"\n",
    "macaque_rna_dh = subset(x = macaque_rna, idents = macaque_dh_types)\n",
    "rm(macaque_rna)"
   ]
  },
  {
   "cell_type": "code",
   "execution_count": 7,
   "id": "589608bd-de1c-4e5b-b9f8-32960c7ba0a8",
   "metadata": {},
   "outputs": [],
   "source": [
    "date = '2023-08-16'\n",
    "human_to_macaque_predictions = readRDS(file = here(paste0(\"data/tidy_data/rdas/macaque_labels_for_human\",date,\".rds\")))\n",
    "mouse_to_macaque_predictions = readRDS(file = here(paste0(\"data/tidy_data/rdas/macaque_labels_for_mouse\",date,\".rds\")) )\n",
    "\n",
    "mouse_rna <- AddMetaData(object = mouse_rna, metadata = mouse_to_macaque_predictions)\n",
    "human_rna_dh <- AddMetaData(object = human_rna_dh, metadata = human_to_macaque_predictions)\n",
    "\n",
    "Idents(object = human_rna_dh) <- \"predicted.id\"\n",
    "Idents(object = mouse_rna) <- \"predicted.id\""
   ]
  },
  {
   "cell_type": "code",
   "execution_count": 7,
   "id": "d9ef7ed5-23a6-49dc-8666-aa8dc09b17fa",
   "metadata": {},
   "outputs": [],
   "source": [
    "x = rowSums(GetAssayData(object = macaque_rna_dh, slot = \"counts\"))\n",
    "macaque_expressed_genes = names(x[x > 0])\n",
    "\n",
    "x = rowSums(GetAssayData(object = mouse_rna, slot = \"counts\"))\n",
    "mouse_expressed_genes = names(x[x > 0])\n",
    "\n",
    "x = rowSums(GetAssayData(object = human_rna_dh, slot = \"counts\"))\n",
    "human_expressed_genes = names(x[x > 0])\n",
    "\n",
    "### save all expressed genes -- used as reference for GO\n",
    "write.csv(macaque_expressed_genes, here(paste0('data/tidy_data/tables/go_analysis/macaque_expressed_genes',as.character(Sys.Date()),'.csv')),row.names = FALSE  )\n",
    "write.csv(mouse_expressed_genes, here(paste0('data/tidy_data/tables/go_analysis/mouse_expressed_genes',as.character(Sys.Date()),'.csv')),row.names = FALSE  )\n",
    "write.csv(human_expressed_genes, here(paste0('data/tidy_data/tables/go_analysis/human_expressed_genes',as.character(Sys.Date()),'.csv')),row.names = FALSE  )"
   ]
  },
  {
   "cell_type": "code",
   "execution_count": 12,
   "id": "26315676-c701-4409-93c6-934dd782dfc3",
   "metadata": {
    "jupyter": {
     "source_hidden": true
    },
    "tags": []
   },
   "outputs": [],
   "source": [
    "# ### make cell-specific tables\n",
    "\n",
    "# # macaque:\n",
    "# for (cluster_type in unique(all.markers.macaque$cluster)){\n",
    "#     x = all.markers.macaque[all.markers.macaque$cluster == cluster_type,]\n",
    "#     x = x[x$avg_log2FC > 0,]\n",
    "#     genes = x$gene\n",
    "#     file_name = here(paste0('data/tidy_data/tables/go_analysis/','macaque_',cluster_type,'specific_genes053123.csv'))\n",
    "#     write.csv(genes, file_name,row.names = FALSE  )\n",
    "# }\n",
    "# # mouse:\n",
    "# for (cluster_type in unique(all.markers.mouse.macaqueLabels$cluster)){\n",
    "#     x = all.markers.mouse.macaqueLabels[all.markers.mouse.macaqueLabels$cluster == cluster_type,]\n",
    "#     x = x[x$avg_log2FC > 0,]\n",
    "#     genes = x$gene\n",
    "#     file_name = here(paste0('data/tidy_data/tables/go_analysis/','mouse_',cluster_type,'specific_genes053123.csv'))\n",
    "#     write.csv(genes, file_name,row.names = FALSE  )\n",
    "# }\n",
    "# # mouse:\n",
    "# for (cluster_type in unique(all.markers.human.macaqueLabels$cluster)){\n",
    "#     x = all.markers.human.macaqueLabels[all.markers.human.macaqueLabels$cluster == cluster_type,]\n",
    "#     x = x[x$avg_log2FC > 0,]\n",
    "#     genes = x$gene\n",
    "#     file_name = here(paste0('data/tidy_data/tables/go_analysis/','human_',cluster_type,'specific_genes053123.csv'))\n",
    "#     write.csv(genes, file_name,row.names = FALSE  )  \n",
    "# }\n",
    "\n",
    "\n",
    "# write.csv(all.markers.mouse.macaqueLabels, here('data/tidy_data/tables/mouse_marker_genes_macaqueLabels052223.csv'),row.names = FALSE  )\n",
    "# write.csv(all.markers.human.macaqueLabels, here('data/tidy_data/tables/human_marker_genes_macaqueLabels052223.csv'),row.names = FALSE  )"
   ]
  },
  {
   "cell_type": "code",
   "execution_count": 10,
   "id": "7424cd1f-950b-41e8-a983-e883a3a3ee21",
   "metadata": {
    "collapsed": true,
    "jupyter": {
     "outputs_hidden": true
    },
    "tags": []
   },
   "outputs": [
    {
     "name": "stderr",
     "output_type": "stream",
     "text": [
      "Calculating cluster GLUT1\n",
      "\n"
     ]
    }
   ],
   "source": [
    "### marker gene lists (based on transfer labeling)\n",
    "### Find sets of marker genes for all cell types for all three datasets\n",
    "\n",
    "all.markers.macaque <- FindAllMarkers(object = macaque_rna_dh)\n",
    "print('macaque done')\n",
    "all.markers.mouse <- FindAllMarkers(object = mouse_rna)\n",
    "print('mouse done')\n",
    "all.markers.human <- FindAllMarkers(object = human_rna_dh)\n",
    "print('human done')\n",
    "\n",
    "\n",
    "write_over_markers = FALSE\n",
    "if (write_over_markers){\n",
    "write.csv(all.markers.macaque, here(paste0('data/tidy_data/tables/macaque_marker_genes',as.character(Sys.Date()),'.csv')),row.names = FALSE  )\n",
    "write.csv(all.markers.mouse, here(paste0('data/tidy_data/tables/mouse_marker_genes',as.character(Sys.Date()),'.csv')),row.names = FALSE  )\n",
    "write.csv(all.markers.human, here(paste0('data/tidy_data/tables/human_marker_genes',as.character(Sys.Date()),'.csv')),row.names = FALSE  )\n",
    "    \n",
    "    }"
   ]
  },
  {
   "cell_type": "code",
   "execution_count": 37,
   "id": "4a17ef0e-9c9f-494a-b5e8-dda7fd903ad6",
   "metadata": {},
   "outputs": [],
   "source": [
    "### filtering for logFC > 0.5 and renaming mouse genes\n",
    "macaque_for_xspecies = all.markers.macaque[all.markers.macaque$avg_log2FC > 0.3,]\n",
    "mouse_for_xspecies = all.markers.mouse[all.markers.mouse$avg_log2FC > 0.3,]\n",
    "# rename genes in mouse\n",
    "mouse_for_xspecies$gene = as.character(MmtoHg[mouse_for_xspecies$gene])\n",
    "human_for_xspecies = all.markers.human[all.markers.human$avg_log2FC > 0.3,]\n",
    "\n",
    "### find cross-species marker genes\n",
    "macaque_human = merge(x = macaque_for_xspecies, y = human_for_xspecies, by = c(\"gene\",\"cluster\"), suffixes = c(\".macaque\",\".human\"))\n",
    "macaque_human_mouse = merge(x = macaque_human, y = mouse_for_xspecies, by = c(\"gene\",\"cluster\"), suffixes = c(\"\",\".mouse\"))\n",
    "\n",
    "## get genes that only appear for a single cell type, especially unique\n",
    "cell_type_specific_genes = names(table(macaque_human_mouse$gene)[table(macaque_human_mouse$gene) == 1])\n",
    "macaque_human_mouse_specific = macaque_human_mouse[macaque_human_mouse$gene %in% cell_type_specific_genes,]"
   ]
  },
  {
   "cell_type": "code",
   "execution_count": 38,
   "id": "13375b31-ad66-432d-b2a9-c6cbdffbca80",
   "metadata": {},
   "outputs": [],
   "source": [
    "#### save tables\n",
    "filename1 = here(paste0('data/tidy_data/tables/xspecies_marker_genes',as.character(Sys.Date()),'.csv'))\n",
    "filename2 = here(paste0('data/tidy_data/tables/xspecies_unique_marker_genes',as.character(Sys.Date()),'.csv'))\n",
    "write.csv(macaque_human_mouse, filename1, row.names = FALSE  )\n",
    "write.csv(macaque_human_mouse_specific, filename2 ,row.names = FALSE  )"
   ]
  },
  {
   "cell_type": "code",
   "execution_count": 63,
   "id": "618998db-b596-4337-b72f-38e3d8709495",
   "metadata": {},
   "outputs": [],
   "source": [
    "### just macaque and mouse (for glut11)\n",
    "macaque_mouse = merge(x = macaque_for_xspecies, y = mouse_for_xspecies, by = c(\"gene\",\"cluster\"), suffixes = c(\".macaque\",\".mouse\"))\n",
    "## get genes that only appear for a single cell type, especially unique\n",
    "macaque_mouse_specific_genes = names(table(macaque_mouse$gene)[table(macaque_mouse$gene) == 1])\n",
    "macaque_mouse_specific = macaque_mouse[macaque_mouse$gene %in% macaque_mouse_specific_genes,]"
   ]
  },
  {
   "cell_type": "code",
   "execution_count": 64,
   "id": "b8fef28a-7e61-47df-a188-b0dc68ae0140",
   "metadata": {},
   "outputs": [],
   "source": [
    "#### save macaque mouse\n",
    "filename1 = here(paste0('data/tidy_data/tables/macaque_mouse_marker_genes',as.character(Sys.Date()),'.csv'))\n",
    "filename2 = here(paste0('data/tidy_data/tables/macaque_mouse_unique_marker_genes',as.character(Sys.Date()),'.csv'))\n",
    "write.csv(macaque_mouse, filename1, row.names = FALSE  )\n",
    "write.csv(macaque_mouse_specific, filename2 ,row.names = FALSE  )"
   ]
  },
  {
   "cell_type": "code",
   "execution_count": 17,
   "id": "25255578-e009-473c-88c0-1afd26ed31b9",
   "metadata": {},
   "outputs": [
    {
     "name": "stdout",
     "output_type": "stream",
     "text": [
      "[1] \"macaque done\"\n",
      "[1] \"mouse done\"\n",
      "[1] \"human done\"\n"
     ]
    }
   ],
   "source": [
    "### glut10 versus similar cell types\n",
    "## find  markers that differentiate GABA4_1 and GABA4_2\n",
    "# find GABA4_1 markers\n",
    "GLUT10.markers.macaque <- FindMarkers(object = macaque_rna_dh, ident.1 = \"GLUT10\", ident.2 = \"GLUT8\", group.by = 'cluster_type')\n",
    "print('macaque done')\n",
    "GLUT10.markers.mouse <- FindMarkers(object = mouse_rna, ident.1 = \"GLUT10\", ident.2 = \"GLUT8\", group.by = 'predicted.id')\n",
    "print('mouse done')\n",
    "GLUT10.markers.human <- FindMarkers(object = human_rna_dh, ident.1 = \"GLUT10\", ident.2 = \"GLUT8\", group.by = 'predicted.id')\n",
    "print('human done')"
   ]
  },
  {
   "cell_type": "code",
   "execution_count": 12,
   "id": "75f52bfd-cd60-44e8-b0eb-8c2cde5d136b",
   "metadata": {},
   "outputs": [
    {
     "data": {
      "text/html": [
       "<table class=\"dataframe\">\n",
       "<caption>A data.frame: 6 × 5</caption>\n",
       "<thead>\n",
       "\t<tr><th></th><th scope=col>p_val</th><th scope=col>avg_log2FC</th><th scope=col>pct.1</th><th scope=col>pct.2</th><th scope=col>p_val_adj</th></tr>\n",
       "\t<tr><th></th><th scope=col>&lt;dbl&gt;</th><th scope=col>&lt;dbl&gt;</th><th scope=col>&lt;dbl&gt;</th><th scope=col>&lt;dbl&gt;</th><th scope=col>&lt;dbl&gt;</th></tr>\n",
       "</thead>\n",
       "<tbody>\n",
       "\t<tr><th scope=row>RASGRF2</th><td>7.861461e-24</td><td>0.9347410</td><td>0.959</td><td>0.468</td><td>4.315471e-19</td></tr>\n",
       "\t<tr><th scope=row>TTC39C</th><td>1.659773e-25</td><td>0.9341314</td><td>1.000</td><td>0.600</td><td>9.111160e-21</td></tr>\n",
       "\t<tr><th scope=row>AC002070.1</th><td>1.207009e-19</td><td>0.8475092</td><td>0.939</td><td>0.412</td><td>6.625757e-15</td></tr>\n",
       "\t<tr><th scope=row>PLCH1</th><td>2.649383e-20</td><td>0.8285006</td><td>0.878</td><td>0.400</td><td>1.454353e-15</td></tr>\n",
       "\t<tr><th scope=row>MEIS2</th><td>1.386191e-20</td><td>0.7990623</td><td>0.592</td><td>0.144</td><td>7.609359e-16</td></tr>\n",
       "\t<tr><th scope=row>COL14A1</th><td>5.811533e-25</td><td>0.7844630</td><td>0.776</td><td>0.227</td><td>3.190183e-20</td></tr>\n",
       "</tbody>\n",
       "</table>\n"
      ],
      "text/latex": [
       "A data.frame: 6 × 5\n",
       "\\begin{tabular}{r|lllll}\n",
       "  & p\\_val & avg\\_log2FC & pct.1 & pct.2 & p\\_val\\_adj\\\\\n",
       "  & <dbl> & <dbl> & <dbl> & <dbl> & <dbl>\\\\\n",
       "\\hline\n",
       "\tRASGRF2 & 7.861461e-24 & 0.9347410 & 0.959 & 0.468 & 4.315471e-19\\\\\n",
       "\tTTC39C & 1.659773e-25 & 0.9341314 & 1.000 & 0.600 & 9.111160e-21\\\\\n",
       "\tAC002070.1 & 1.207009e-19 & 0.8475092 & 0.939 & 0.412 & 6.625757e-15\\\\\n",
       "\tPLCH1 & 2.649383e-20 & 0.8285006 & 0.878 & 0.400 & 1.454353e-15\\\\\n",
       "\tMEIS2 & 1.386191e-20 & 0.7990623 & 0.592 & 0.144 & 7.609359e-16\\\\\n",
       "\tCOL14A1 & 5.811533e-25 & 0.7844630 & 0.776 & 0.227 & 3.190183e-20\\\\\n",
       "\\end{tabular}\n"
      ],
      "text/markdown": [
       "\n",
       "A data.frame: 6 × 5\n",
       "\n",
       "| <!--/--> | p_val &lt;dbl&gt; | avg_log2FC &lt;dbl&gt; | pct.1 &lt;dbl&gt; | pct.2 &lt;dbl&gt; | p_val_adj &lt;dbl&gt; |\n",
       "|---|---|---|---|---|---|\n",
       "| RASGRF2 | 7.861461e-24 | 0.9347410 | 0.959 | 0.468 | 4.315471e-19 |\n",
       "| TTC39C | 1.659773e-25 | 0.9341314 | 1.000 | 0.600 | 9.111160e-21 |\n",
       "| AC002070.1 | 1.207009e-19 | 0.8475092 | 0.939 | 0.412 | 6.625757e-15 |\n",
       "| PLCH1 | 2.649383e-20 | 0.8285006 | 0.878 | 0.400 | 1.454353e-15 |\n",
       "| MEIS2 | 1.386191e-20 | 0.7990623 | 0.592 | 0.144 | 7.609359e-16 |\n",
       "| COL14A1 | 5.811533e-25 | 0.7844630 | 0.776 | 0.227 | 3.190183e-20 |\n",
       "\n"
      ],
      "text/plain": [
       "           p_val        avg_log2FC pct.1 pct.2 p_val_adj   \n",
       "RASGRF2    7.861461e-24 0.9347410  0.959 0.468 4.315471e-19\n",
       "TTC39C     1.659773e-25 0.9341314  1.000 0.600 9.111160e-21\n",
       "AC002070.1 1.207009e-19 0.8475092  0.939 0.412 6.625757e-15\n",
       "PLCH1      2.649383e-20 0.8285006  0.878 0.400 1.454353e-15\n",
       "MEIS2      1.386191e-20 0.7990623  0.592 0.144 7.609359e-16\n",
       "COL14A1    5.811533e-25 0.7844630  0.776 0.227 3.190183e-20"
      ]
     },
     "metadata": {},
     "output_type": "display_data"
    }
   ],
   "source": [
    "### just GLUT4\n",
    "GLUT4.markers.macaque <- FindMarkers(object = macaque_rna_dh, ident.1 = \"GLUT4\", group.by = 'cluster_type')\n",
    "head(GLUT4.markers.macaque[order(GLUT4.markers.macaque$avg_log2FC, decreasing = TRUE),])"
   ]
  },
  {
   "cell_type": "code",
   "execution_count": 20,
   "id": "a9b73b99-4008-4827-be07-0117f4820c18",
   "metadata": {
    "tags": []
   },
   "outputs": [
    {
     "name": "stdout",
     "output_type": "stream",
     "text": [
      "[1] \"macaque done\"\n",
      "[1] \"macaque done\"\n",
      "[1] \"mouse done\"\n",
      "[1] \"human done\"\n"
     ]
    }
   ],
   "source": [
    "## find  markers that differentiate GABA4_1 and GABA4_2\n",
    "# find GABA4_1 markers\n",
    "GABA4_1.markers.macaque <- FindMarkers(object = macaque_rna_dh, ident.1 = \"GABA4_1\", ident.2 = \"GABA4_2\", group.by = 'cluster_type')\n",
    "print('macaque done')\n",
    "GABA4_1.markers.mouse <- FindMarkers(object = mouse_rna, ident.1 = \"GABA4_1\", ident.2 = \"GABA4_2\", group.by = 'predicted.id')\n",
    "print('mouse done')\n",
    "GABA4_1.markers.human <- FindMarkers(object = human_rna_dh, ident.1 = \"GABA4_1\", ident.2 = \"GABA4_2\", group.by = 'predicted.id')\n",
    "print('human done')"
   ]
  },
  {
   "cell_type": "code",
   "execution_count": 6,
   "id": "55013b35-d735-475e-9d8e-ec69833edf53",
   "metadata": {},
   "outputs": [
    {
     "name": "stdout",
     "output_type": "stream",
     "text": [
      "[1] \"macaque done\"\n",
      "[1] \"mouse done\"\n",
      "[1] \"human done\"\n"
     ]
    }
   ],
   "source": [
    "## find  markers that differentiate GABA2_1 and GABA2_2\n",
    "# find GABA2_1 markers\n",
    "GABA2_1.markers.macaque <- FindMarkers(object = macaque_rna_dh, ident.1 = \"GABA2_1\", ident.2 = \"GABA2_2\", group.by = 'cluster_type')\n",
    "print('macaque done')\n",
    "GABA2_1.markers.mouse <- FindMarkers(object = mouse_rna, ident.1 = \"GABA2_1\", ident.2 = \"GABA2_2\", group.by = 'predicted.id')\n",
    "print('mouse done')\n",
    "GABA2_1.markers.human <- FindMarkers(object = human_rna_dh, ident.1 = \"GABA2_1\", ident.2 = \"GABA2_2\", group.by = 'predicted.id')\n",
    "print('human done')"
   ]
  },
  {
   "cell_type": "code",
   "execution_count": 7,
   "id": "494ef321-a578-475d-9e37-3b443d71b986",
   "metadata": {},
   "outputs": [
    {
     "name": "stdout",
     "output_type": "stream",
     "text": [
      "[1] \"macaque done\"\n",
      "[1] \"mouse done\"\n",
      "[1] \"human done\"\n"
     ]
    }
   ],
   "source": [
    "## find  markers that differentiate GABA2_1 and GABA2_2\n",
    "# find GABA2_1 markers\n",
    "GABA2_2.markers.macaque <- FindMarkers(object = macaque_rna_dh, ident.1 = \"GABA2_2\", ident.2 = \"GABA2_1\", group.by = 'cluster_type')\n",
    "print('macaque done')\n",
    "GABA2_2.markers.mouse <- FindMarkers(object = mouse_rna, ident.1 = \"GABA2_2\", ident.2 = \"GABA2_1\", group.by = 'predicted.id')\n",
    "print('mouse done')\n",
    "GABA2_2.markers.human <- FindMarkers(object = human_rna_dh, ident.1 = \"GABA2_2\", ident.2 = \"GABA2_1\", group.by = 'predicted.id')\n",
    "print('human done')"
   ]
  },
  {
   "cell_type": "code",
   "execution_count": 8,
   "id": "e163da37-1585-491d-92d4-e8332efed97c",
   "metadata": {},
   "outputs": [
    {
     "data": {
      "text/html": [
       "<table class=\"dataframe\">\n",
       "<caption>A data.frame: 6 × 5</caption>\n",
       "<thead>\n",
       "\t<tr><th></th><th scope=col>p_val</th><th scope=col>avg_log2FC</th><th scope=col>pct.1</th><th scope=col>pct.2</th><th scope=col>p_val_adj</th></tr>\n",
       "\t<tr><th></th><th scope=col>&lt;dbl&gt;</th><th scope=col>&lt;dbl&gt;</th><th scope=col>&lt;dbl&gt;</th><th scope=col>&lt;dbl&gt;</th><th scope=col>&lt;dbl&gt;</th></tr>\n",
       "</thead>\n",
       "<tbody>\n",
       "\t<tr><th scope=row>RORB</th><td>9.006204e-19</td><td>1.3489386</td><td>0.846</td><td>0.127</td><td>4.943866e-14</td></tr>\n",
       "\t<tr><th scope=row>SDK1</th><td>1.154755e-16</td><td>1.0832012</td><td>0.938</td><td>0.493</td><td>6.338913e-12</td></tr>\n",
       "\t<tr><th scope=row>SORCS3</th><td>1.316942e-12</td><td>0.9441789</td><td>0.769</td><td>0.239</td><td>7.229220e-08</td></tr>\n",
       "\t<tr><th scope=row>GRIK3</th><td>2.125699e-11</td><td>0.8198559</td><td>0.615</td><td>0.085</td><td>1.166881e-06</td></tr>\n",
       "\t<tr><th scope=row>SILC1</th><td>5.547156e-11</td><td>0.7576759</td><td>0.815</td><td>0.282</td><td>3.045056e-06</td></tr>\n",
       "\t<tr><th scope=row>CLSTN2</th><td>1.626375e-07</td><td>0.7056366</td><td>0.846</td><td>0.437</td><td>8.927822e-03</td></tr>\n",
       "</tbody>\n",
       "</table>\n"
      ],
      "text/latex": [
       "A data.frame: 6 × 5\n",
       "\\begin{tabular}{r|lllll}\n",
       "  & p\\_val & avg\\_log2FC & pct.1 & pct.2 & p\\_val\\_adj\\\\\n",
       "  & <dbl> & <dbl> & <dbl> & <dbl> & <dbl>\\\\\n",
       "\\hline\n",
       "\tRORB & 9.006204e-19 & 1.3489386 & 0.846 & 0.127 & 4.943866e-14\\\\\n",
       "\tSDK1 & 1.154755e-16 & 1.0832012 & 0.938 & 0.493 & 6.338913e-12\\\\\n",
       "\tSORCS3 & 1.316942e-12 & 0.9441789 & 0.769 & 0.239 & 7.229220e-08\\\\\n",
       "\tGRIK3 & 2.125699e-11 & 0.8198559 & 0.615 & 0.085 & 1.166881e-06\\\\\n",
       "\tSILC1 & 5.547156e-11 & 0.7576759 & 0.815 & 0.282 & 3.045056e-06\\\\\n",
       "\tCLSTN2 & 1.626375e-07 & 0.7056366 & 0.846 & 0.437 & 8.927822e-03\\\\\n",
       "\\end{tabular}\n"
      ],
      "text/markdown": [
       "\n",
       "A data.frame: 6 × 5\n",
       "\n",
       "| <!--/--> | p_val &lt;dbl&gt; | avg_log2FC &lt;dbl&gt; | pct.1 &lt;dbl&gt; | pct.2 &lt;dbl&gt; | p_val_adj &lt;dbl&gt; |\n",
       "|---|---|---|---|---|---|\n",
       "| RORB | 9.006204e-19 | 1.3489386 | 0.846 | 0.127 | 4.943866e-14 |\n",
       "| SDK1 | 1.154755e-16 | 1.0832012 | 0.938 | 0.493 | 6.338913e-12 |\n",
       "| SORCS3 | 1.316942e-12 | 0.9441789 | 0.769 | 0.239 | 7.229220e-08 |\n",
       "| GRIK3 | 2.125699e-11 | 0.8198559 | 0.615 | 0.085 | 1.166881e-06 |\n",
       "| SILC1 | 5.547156e-11 | 0.7576759 | 0.815 | 0.282 | 3.045056e-06 |\n",
       "| CLSTN2 | 1.626375e-07 | 0.7056366 | 0.846 | 0.437 | 8.927822e-03 |\n",
       "\n"
      ],
      "text/plain": [
       "       p_val        avg_log2FC pct.1 pct.2 p_val_adj   \n",
       "RORB   9.006204e-19 1.3489386  0.846 0.127 4.943866e-14\n",
       "SDK1   1.154755e-16 1.0832012  0.938 0.493 6.338913e-12\n",
       "SORCS3 1.316942e-12 0.9441789  0.769 0.239 7.229220e-08\n",
       "GRIK3  2.125699e-11 0.8198559  0.615 0.085 1.166881e-06\n",
       "SILC1  5.547156e-11 0.7576759  0.815 0.282 3.045056e-06\n",
       "CLSTN2 1.626375e-07 0.7056366  0.846 0.437 8.927822e-03"
      ]
     },
     "metadata": {},
     "output_type": "display_data"
    }
   ],
   "source": [
    "head(GABA2_1.markers.macaque[order(GABA2_1.markers.macaque$avg_log2FC, decreasing = TRUE),])"
   ]
  },
  {
   "cell_type": "code",
   "execution_count": 18,
   "id": "4eba541a-9cfb-4daf-a3c3-fde4833c6d71",
   "metadata": {
    "collapsed": true,
    "jupyter": {
     "outputs_hidden": true
    },
    "tags": []
   },
   "outputs": [
    {
     "data": {
      "text/html": [
       "<table class=\"dataframe\">\n",
       "<caption>A data.frame: 420 × 5</caption>\n",
       "<thead>\n",
       "\t<tr><th></th><th scope=col>p_val</th><th scope=col>avg_log2FC</th><th scope=col>pct.1</th><th scope=col>pct.2</th><th scope=col>p_val_adj</th></tr>\n",
       "\t<tr><th></th><th scope=col>&lt;dbl&gt;</th><th scope=col>&lt;dbl&gt;</th><th scope=col>&lt;dbl&gt;</th><th scope=col>&lt;dbl&gt;</th><th scope=col>&lt;dbl&gt;</th></tr>\n",
       "</thead>\n",
       "<tbody>\n",
       "\t<tr><th scope=row>SDK2</th><td>3.613456e-26</td><td>-1.4240033</td><td>0.275</td><td>0.93</td><td>1.983570e-21</td></tr>\n",
       "\t<tr><th scope=row>PTPRD</th><td>5.822688e-19</td><td>-1.0249427</td><td>0.516</td><td>0.89</td><td>3.196306e-14</td></tr>\n",
       "\t<tr><th scope=row>NKAIN3</th><td>2.886578e-17</td><td>-1.0017224</td><td>0.330</td><td>0.81</td><td>1.584558e-12</td></tr>\n",
       "\t<tr><th scope=row>NKAIN2</th><td>1.791046e-14</td><td>-0.9220274</td><td>0.505</td><td>0.80</td><td>9.831766e-10</td></tr>\n",
       "\t<tr><th scope=row>SGCD</th><td>1.494559e-14</td><td>-0.9080698</td><td>0.396</td><td>0.82</td><td>8.204230e-10</td></tr>\n",
       "\t<tr><th scope=row>SNTG1</th><td>1.654332e-16</td><td>-0.8734657</td><td>0.615</td><td>0.88</td><td>9.081291e-12</td></tr>\n",
       "\t<tr><th scope=row>NTNG1</th><td>1.615332e-13</td><td>-0.8690139</td><td>0.264</td><td>0.69</td><td>8.867204e-09</td></tr>\n",
       "\t<tr><th scope=row>PKNOX2</th><td>2.054437e-18</td><td>-0.7849692</td><td>0.802</td><td>0.98</td><td>1.127762e-13</td></tr>\n",
       "\t<tr><th scope=row>TNR</th><td>9.238750e-15</td><td>-0.7623030</td><td>0.187</td><td>0.72</td><td>5.071519e-10</td></tr>\n",
       "\t<tr><th scope=row>TSHZ2</th><td>1.489261e-25</td><td>-0.7464999</td><td>0.890</td><td>0.99</td><td>8.175147e-21</td></tr>\n",
       "\t<tr><th scope=row>RORA</th><td>1.420396e-12</td><td>-0.7230966</td><td>0.593</td><td>0.86</td><td>7.797120e-08</td></tr>\n",
       "\t<tr><th scope=row>PCDH7</th><td>7.593056e-12</td><td>-0.6881163</td><td>0.527</td><td>0.84</td><td>4.168132e-07</td></tr>\n",
       "\t<tr><th scope=row>ATP8A2</th><td>1.198705e-17</td><td>-0.6781914</td><td>0.736</td><td>0.96</td><td>6.580171e-13</td></tr>\n",
       "\t<tr><th scope=row>PLEKHG1</th><td>1.506482e-12</td><td>-0.6741405</td><td>0.187</td><td>0.67</td><td>8.269681e-08</td></tr>\n",
       "\t<tr><th scope=row>GALNTL6</th><td>1.063685e-09</td><td>-0.6608255</td><td>0.286</td><td>0.64</td><td>5.838991e-05</td></tr>\n",
       "\t<tr><th scope=row>FGF13</th><td>3.175882e-11</td><td>-0.6607585</td><td>0.615</td><td>0.86</td><td>1.743369e-06</td></tr>\n",
       "\t<tr><th scope=row>NRXN3</th><td>1.219853e-11</td><td>-0.6126236</td><td>0.747</td><td>0.97</td><td>6.696261e-07</td></tr>\n",
       "\t<tr><th scope=row>AC079385.1</th><td>7.373024e-10</td><td>-0.6062348</td><td>0.571</td><td>0.85</td><td>4.047348e-05</td></tr>\n",
       "\t<tr><th scope=row>TMTC1</th><td>1.546139e-14</td><td>-0.6041414</td><td>0.747</td><td>0.91</td><td>8.487373e-10</td></tr>\n",
       "\t<tr><th scope=row>IGF1</th><td>2.769438e-10</td><td>-0.5991283</td><td>0.121</td><td>0.53</td><td>1.520256e-05</td></tr>\n",
       "\t<tr><th scope=row>CHRM3</th><td>5.750803e-15</td><td>-0.5986304</td><td>0.780</td><td>0.95</td><td>3.156846e-10</td></tr>\n",
       "\t<tr><th scope=row>NXPH2</th><td>3.424562e-09</td><td>-0.5964329</td><td>0.374</td><td>0.75</td><td>1.879879e-04</td></tr>\n",
       "\t<tr><th scope=row>PDZD2</th><td>1.393553e-08</td><td>-0.5909792</td><td>0.758</td><td>0.91</td><td>7.649770e-04</td></tr>\n",
       "\t<tr><th scope=row>LDB2</th><td>4.555010e-09</td><td>-0.5869758</td><td>0.220</td><td>0.62</td><td>2.500427e-04</td></tr>\n",
       "\t<tr><th scope=row>CDH18</th><td>1.816996e-09</td><td>-0.5859162</td><td>0.516</td><td>0.77</td><td>9.974220e-05</td></tr>\n",
       "\t<tr><th scope=row>LRFN2</th><td>7.039925e-10</td><td>-0.5847561</td><td>0.319</td><td>0.74</td><td>3.864496e-05</td></tr>\n",
       "\t<tr><th scope=row>TMEM108</th><td>8.718763e-10</td><td>-0.5827671</td><td>0.549</td><td>0.81</td><td>4.786078e-05</td></tr>\n",
       "\t<tr><th scope=row>GRID1</th><td>3.326260e-09</td><td>-0.5745169</td><td>0.462</td><td>0.74</td><td>1.825917e-04</td></tr>\n",
       "\t<tr><th scope=row>GALNT13</th><td>3.581740e-06</td><td>-0.5630254</td><td>0.451</td><td>0.61</td><td>1.966161e-01</td></tr>\n",
       "\t<tr><th scope=row>FRMPD4</th><td>1.323472e-08</td><td>-0.5584438</td><td>0.165</td><td>0.53</td><td>7.265067e-04</td></tr>\n",
       "\t<tr><th scope=row>⋮</th><td>⋮</td><td>⋮</td><td>⋮</td><td>⋮</td><td>⋮</td></tr>\n",
       "\t<tr><th scope=row>CABP1</th><td>4.200886e-10</td><td>0.5654976</td><td>0.670</td><td>0.25</td><td>2.306034e-05</td></tr>\n",
       "\t<tr><th scope=row>VAV3</th><td>1.696802e-08</td><td>0.5687662</td><td>0.604</td><td>0.25</td><td>9.314428e-04</td></tr>\n",
       "\t<tr><th scope=row>TRPM3</th><td>1.609813e-22</td><td>0.5775746</td><td>1.000</td><td>0.92</td><td>8.836906e-18</td></tr>\n",
       "\t<tr><th scope=row>PRKCQ</th><td>4.394207e-10</td><td>0.5806234</td><td>0.418</td><td>0.05</td><td>2.412156e-05</td></tr>\n",
       "\t<tr><th scope=row>STAC</th><td>4.713849e-10</td><td>0.5845887</td><td>0.495</td><td>0.11</td><td>2.587620e-05</td></tr>\n",
       "\t<tr><th scope=row>TMEM132C</th><td>1.185597e-11</td><td>0.5912708</td><td>0.593</td><td>0.14</td><td>6.508217e-07</td></tr>\n",
       "\t<tr><th scope=row>HS3ST5</th><td>1.082767e-12</td><td>0.5921367</td><td>0.879</td><td>0.67</td><td>5.943740e-08</td></tr>\n",
       "\t<tr><th scope=row>CIT</th><td>7.294953e-15</td><td>0.5945511</td><td>0.967</td><td>0.69</td><td>4.004491e-10</td></tr>\n",
       "\t<tr><th scope=row>SYT6</th><td>1.673277e-11</td><td>0.5990745</td><td>0.879</td><td>0.42</td><td>9.185288e-07</td></tr>\n",
       "\t<tr><th scope=row>ZNF804B</th><td>4.917498e-09</td><td>0.6162198</td><td>0.648</td><td>0.26</td><td>2.699411e-04</td></tr>\n",
       "\t<tr><th scope=row>PTPRT</th><td>3.001786e-05</td><td>0.6181004</td><td>0.615</td><td>0.38</td><td>1.000000e+00</td></tr>\n",
       "\t<tr><th scope=row>NEFM</th><td>4.889842e-08</td><td>0.6197625</td><td>0.714</td><td>0.37</td><td>2.684230e-03</td></tr>\n",
       "\t<tr><th scope=row>SCG2</th><td>3.832787e-10</td><td>0.6226962</td><td>0.714</td><td>0.34</td><td>2.103970e-05</td></tr>\n",
       "\t<tr><th scope=row>RASGRF2</th><td>6.040335e-11</td><td>0.6297997</td><td>0.659</td><td>0.24</td><td>3.315782e-06</td></tr>\n",
       "\t<tr><th scope=row>SRGAP1</th><td>9.787907e-11</td><td>0.6383006</td><td>0.736</td><td>0.38</td><td>5.372974e-06</td></tr>\n",
       "\t<tr><th scope=row>GALNT18</th><td>2.954115e-16</td><td>0.6609103</td><td>0.549</td><td>0.02</td><td>1.621632e-11</td></tr>\n",
       "\t<tr><th scope=row>SYNPR</th><td>4.691167e-09</td><td>0.6943100</td><td>0.527</td><td>0.19</td><td>2.575169e-04</td></tr>\n",
       "\t<tr><th scope=row>PTCHD1-AS</th><td>2.588394e-12</td><td>0.7092693</td><td>0.758</td><td>0.34</td><td>1.420873e-07</td></tr>\n",
       "\t<tr><th scope=row>CA10</th><td>8.144434e-08</td><td>0.7161405</td><td>0.648</td><td>0.34</td><td>4.470805e-03</td></tr>\n",
       "\t<tr><th scope=row>ZNF804A</th><td>4.040604e-09</td><td>0.7216408</td><td>0.725</td><td>0.43</td><td>2.218049e-04</td></tr>\n",
       "\t<tr><th scope=row>IL1RAPL1</th><td>9.644983e-11</td><td>0.7378231</td><td>0.747</td><td>0.41</td><td>5.294517e-06</td></tr>\n",
       "\t<tr><th scope=row>GRIA1</th><td>2.907230e-24</td><td>0.7478175</td><td>1.000</td><td>0.83</td><td>1.595895e-19</td></tr>\n",
       "\t<tr><th scope=row>NETO2</th><td>7.508481e-18</td><td>0.7670781</td><td>0.967</td><td>0.75</td><td>4.121706e-13</td></tr>\n",
       "\t<tr><th scope=row>THSD7A</th><td>5.622517e-17</td><td>0.7740869</td><td>0.934</td><td>0.54</td><td>3.086425e-12</td></tr>\n",
       "\t<tr><th scope=row>SHISA9</th><td>6.742053e-17</td><td>0.7884718</td><td>0.868</td><td>0.59</td><td>3.700983e-12</td></tr>\n",
       "\t<tr><th scope=row>ANKFN1</th><td>3.571811e-15</td><td>0.8360981</td><td>0.879</td><td>0.54</td><td>1.960710e-10</td></tr>\n",
       "\t<tr><th scope=row>CDH12</th><td>6.515978e-16</td><td>0.9048910</td><td>0.857</td><td>0.48</td><td>3.576881e-11</td></tr>\n",
       "\t<tr><th scope=row>EBF3</th><td>1.278965e-21</td><td>0.9923196</td><td>0.934</td><td>0.47</td><td>7.020750e-17</td></tr>\n",
       "\t<tr><th scope=row>COL25A1</th><td>2.462491e-13</td><td>1.0164035</td><td>0.703</td><td>0.25</td><td>1.351760e-08</td></tr>\n",
       "\t<tr><th scope=row>RORB</th><td>4.415233e-28</td><td>1.5238151</td><td>0.835</td><td>0.04</td><td>2.423698e-23</td></tr>\n",
       "</tbody>\n",
       "</table>\n"
      ],
      "text/latex": [
       "A data.frame: 420 × 5\n",
       "\\begin{tabular}{r|lllll}\n",
       "  & p\\_val & avg\\_log2FC & pct.1 & pct.2 & p\\_val\\_adj\\\\\n",
       "  & <dbl> & <dbl> & <dbl> & <dbl> & <dbl>\\\\\n",
       "\\hline\n",
       "\tSDK2 & 3.613456e-26 & -1.4240033 & 0.275 & 0.93 & 1.983570e-21\\\\\n",
       "\tPTPRD & 5.822688e-19 & -1.0249427 & 0.516 & 0.89 & 3.196306e-14\\\\\n",
       "\tNKAIN3 & 2.886578e-17 & -1.0017224 & 0.330 & 0.81 & 1.584558e-12\\\\\n",
       "\tNKAIN2 & 1.791046e-14 & -0.9220274 & 0.505 & 0.80 & 9.831766e-10\\\\\n",
       "\tSGCD & 1.494559e-14 & -0.9080698 & 0.396 & 0.82 & 8.204230e-10\\\\\n",
       "\tSNTG1 & 1.654332e-16 & -0.8734657 & 0.615 & 0.88 & 9.081291e-12\\\\\n",
       "\tNTNG1 & 1.615332e-13 & -0.8690139 & 0.264 & 0.69 & 8.867204e-09\\\\\n",
       "\tPKNOX2 & 2.054437e-18 & -0.7849692 & 0.802 & 0.98 & 1.127762e-13\\\\\n",
       "\tTNR & 9.238750e-15 & -0.7623030 & 0.187 & 0.72 & 5.071519e-10\\\\\n",
       "\tTSHZ2 & 1.489261e-25 & -0.7464999 & 0.890 & 0.99 & 8.175147e-21\\\\\n",
       "\tRORA & 1.420396e-12 & -0.7230966 & 0.593 & 0.86 & 7.797120e-08\\\\\n",
       "\tPCDH7 & 7.593056e-12 & -0.6881163 & 0.527 & 0.84 & 4.168132e-07\\\\\n",
       "\tATP8A2 & 1.198705e-17 & -0.6781914 & 0.736 & 0.96 & 6.580171e-13\\\\\n",
       "\tPLEKHG1 & 1.506482e-12 & -0.6741405 & 0.187 & 0.67 & 8.269681e-08\\\\\n",
       "\tGALNTL6 & 1.063685e-09 & -0.6608255 & 0.286 & 0.64 & 5.838991e-05\\\\\n",
       "\tFGF13 & 3.175882e-11 & -0.6607585 & 0.615 & 0.86 & 1.743369e-06\\\\\n",
       "\tNRXN3 & 1.219853e-11 & -0.6126236 & 0.747 & 0.97 & 6.696261e-07\\\\\n",
       "\tAC079385.1 & 7.373024e-10 & -0.6062348 & 0.571 & 0.85 & 4.047348e-05\\\\\n",
       "\tTMTC1 & 1.546139e-14 & -0.6041414 & 0.747 & 0.91 & 8.487373e-10\\\\\n",
       "\tIGF1 & 2.769438e-10 & -0.5991283 & 0.121 & 0.53 & 1.520256e-05\\\\\n",
       "\tCHRM3 & 5.750803e-15 & -0.5986304 & 0.780 & 0.95 & 3.156846e-10\\\\\n",
       "\tNXPH2 & 3.424562e-09 & -0.5964329 & 0.374 & 0.75 & 1.879879e-04\\\\\n",
       "\tPDZD2 & 1.393553e-08 & -0.5909792 & 0.758 & 0.91 & 7.649770e-04\\\\\n",
       "\tLDB2 & 4.555010e-09 & -0.5869758 & 0.220 & 0.62 & 2.500427e-04\\\\\n",
       "\tCDH18 & 1.816996e-09 & -0.5859162 & 0.516 & 0.77 & 9.974220e-05\\\\\n",
       "\tLRFN2 & 7.039925e-10 & -0.5847561 & 0.319 & 0.74 & 3.864496e-05\\\\\n",
       "\tTMEM108 & 8.718763e-10 & -0.5827671 & 0.549 & 0.81 & 4.786078e-05\\\\\n",
       "\tGRID1 & 3.326260e-09 & -0.5745169 & 0.462 & 0.74 & 1.825917e-04\\\\\n",
       "\tGALNT13 & 3.581740e-06 & -0.5630254 & 0.451 & 0.61 & 1.966161e-01\\\\\n",
       "\tFRMPD4 & 1.323472e-08 & -0.5584438 & 0.165 & 0.53 & 7.265067e-04\\\\\n",
       "\t⋮ & ⋮ & ⋮ & ⋮ & ⋮ & ⋮\\\\\n",
       "\tCABP1 & 4.200886e-10 & 0.5654976 & 0.670 & 0.25 & 2.306034e-05\\\\\n",
       "\tVAV3 & 1.696802e-08 & 0.5687662 & 0.604 & 0.25 & 9.314428e-04\\\\\n",
       "\tTRPM3 & 1.609813e-22 & 0.5775746 & 1.000 & 0.92 & 8.836906e-18\\\\\n",
       "\tPRKCQ & 4.394207e-10 & 0.5806234 & 0.418 & 0.05 & 2.412156e-05\\\\\n",
       "\tSTAC & 4.713849e-10 & 0.5845887 & 0.495 & 0.11 & 2.587620e-05\\\\\n",
       "\tTMEM132C & 1.185597e-11 & 0.5912708 & 0.593 & 0.14 & 6.508217e-07\\\\\n",
       "\tHS3ST5 & 1.082767e-12 & 0.5921367 & 0.879 & 0.67 & 5.943740e-08\\\\\n",
       "\tCIT & 7.294953e-15 & 0.5945511 & 0.967 & 0.69 & 4.004491e-10\\\\\n",
       "\tSYT6 & 1.673277e-11 & 0.5990745 & 0.879 & 0.42 & 9.185288e-07\\\\\n",
       "\tZNF804B & 4.917498e-09 & 0.6162198 & 0.648 & 0.26 & 2.699411e-04\\\\\n",
       "\tPTPRT & 3.001786e-05 & 0.6181004 & 0.615 & 0.38 & 1.000000e+00\\\\\n",
       "\tNEFM & 4.889842e-08 & 0.6197625 & 0.714 & 0.37 & 2.684230e-03\\\\\n",
       "\tSCG2 & 3.832787e-10 & 0.6226962 & 0.714 & 0.34 & 2.103970e-05\\\\\n",
       "\tRASGRF2 & 6.040335e-11 & 0.6297997 & 0.659 & 0.24 & 3.315782e-06\\\\\n",
       "\tSRGAP1 & 9.787907e-11 & 0.6383006 & 0.736 & 0.38 & 5.372974e-06\\\\\n",
       "\tGALNT18 & 2.954115e-16 & 0.6609103 & 0.549 & 0.02 & 1.621632e-11\\\\\n",
       "\tSYNPR & 4.691167e-09 & 0.6943100 & 0.527 & 0.19 & 2.575169e-04\\\\\n",
       "\tPTCHD1-AS & 2.588394e-12 & 0.7092693 & 0.758 & 0.34 & 1.420873e-07\\\\\n",
       "\tCA10 & 8.144434e-08 & 0.7161405 & 0.648 & 0.34 & 4.470805e-03\\\\\n",
       "\tZNF804A & 4.040604e-09 & 0.7216408 & 0.725 & 0.43 & 2.218049e-04\\\\\n",
       "\tIL1RAPL1 & 9.644983e-11 & 0.7378231 & 0.747 & 0.41 & 5.294517e-06\\\\\n",
       "\tGRIA1 & 2.907230e-24 & 0.7478175 & 1.000 & 0.83 & 1.595895e-19\\\\\n",
       "\tNETO2 & 7.508481e-18 & 0.7670781 & 0.967 & 0.75 & 4.121706e-13\\\\\n",
       "\tTHSD7A & 5.622517e-17 & 0.7740869 & 0.934 & 0.54 & 3.086425e-12\\\\\n",
       "\tSHISA9 & 6.742053e-17 & 0.7884718 & 0.868 & 0.59 & 3.700983e-12\\\\\n",
       "\tANKFN1 & 3.571811e-15 & 0.8360981 & 0.879 & 0.54 & 1.960710e-10\\\\\n",
       "\tCDH12 & 6.515978e-16 & 0.9048910 & 0.857 & 0.48 & 3.576881e-11\\\\\n",
       "\tEBF3 & 1.278965e-21 & 0.9923196 & 0.934 & 0.47 & 7.020750e-17\\\\\n",
       "\tCOL25A1 & 2.462491e-13 & 1.0164035 & 0.703 & 0.25 & 1.351760e-08\\\\\n",
       "\tRORB & 4.415233e-28 & 1.5238151 & 0.835 & 0.04 & 2.423698e-23\\\\\n",
       "\\end{tabular}\n"
      ],
      "text/markdown": [
       "\n",
       "A data.frame: 420 × 5\n",
       "\n",
       "| <!--/--> | p_val &lt;dbl&gt; | avg_log2FC &lt;dbl&gt; | pct.1 &lt;dbl&gt; | pct.2 &lt;dbl&gt; | p_val_adj &lt;dbl&gt; |\n",
       "|---|---|---|---|---|---|\n",
       "| SDK2 | 3.613456e-26 | -1.4240033 | 0.275 | 0.93 | 1.983570e-21 |\n",
       "| PTPRD | 5.822688e-19 | -1.0249427 | 0.516 | 0.89 | 3.196306e-14 |\n",
       "| NKAIN3 | 2.886578e-17 | -1.0017224 | 0.330 | 0.81 | 1.584558e-12 |\n",
       "| NKAIN2 | 1.791046e-14 | -0.9220274 | 0.505 | 0.80 | 9.831766e-10 |\n",
       "| SGCD | 1.494559e-14 | -0.9080698 | 0.396 | 0.82 | 8.204230e-10 |\n",
       "| SNTG1 | 1.654332e-16 | -0.8734657 | 0.615 | 0.88 | 9.081291e-12 |\n",
       "| NTNG1 | 1.615332e-13 | -0.8690139 | 0.264 | 0.69 | 8.867204e-09 |\n",
       "| PKNOX2 | 2.054437e-18 | -0.7849692 | 0.802 | 0.98 | 1.127762e-13 |\n",
       "| TNR | 9.238750e-15 | -0.7623030 | 0.187 | 0.72 | 5.071519e-10 |\n",
       "| TSHZ2 | 1.489261e-25 | -0.7464999 | 0.890 | 0.99 | 8.175147e-21 |\n",
       "| RORA | 1.420396e-12 | -0.7230966 | 0.593 | 0.86 | 7.797120e-08 |\n",
       "| PCDH7 | 7.593056e-12 | -0.6881163 | 0.527 | 0.84 | 4.168132e-07 |\n",
       "| ATP8A2 | 1.198705e-17 | -0.6781914 | 0.736 | 0.96 | 6.580171e-13 |\n",
       "| PLEKHG1 | 1.506482e-12 | -0.6741405 | 0.187 | 0.67 | 8.269681e-08 |\n",
       "| GALNTL6 | 1.063685e-09 | -0.6608255 | 0.286 | 0.64 | 5.838991e-05 |\n",
       "| FGF13 | 3.175882e-11 | -0.6607585 | 0.615 | 0.86 | 1.743369e-06 |\n",
       "| NRXN3 | 1.219853e-11 | -0.6126236 | 0.747 | 0.97 | 6.696261e-07 |\n",
       "| AC079385.1 | 7.373024e-10 | -0.6062348 | 0.571 | 0.85 | 4.047348e-05 |\n",
       "| TMTC1 | 1.546139e-14 | -0.6041414 | 0.747 | 0.91 | 8.487373e-10 |\n",
       "| IGF1 | 2.769438e-10 | -0.5991283 | 0.121 | 0.53 | 1.520256e-05 |\n",
       "| CHRM3 | 5.750803e-15 | -0.5986304 | 0.780 | 0.95 | 3.156846e-10 |\n",
       "| NXPH2 | 3.424562e-09 | -0.5964329 | 0.374 | 0.75 | 1.879879e-04 |\n",
       "| PDZD2 | 1.393553e-08 | -0.5909792 | 0.758 | 0.91 | 7.649770e-04 |\n",
       "| LDB2 | 4.555010e-09 | -0.5869758 | 0.220 | 0.62 | 2.500427e-04 |\n",
       "| CDH18 | 1.816996e-09 | -0.5859162 | 0.516 | 0.77 | 9.974220e-05 |\n",
       "| LRFN2 | 7.039925e-10 | -0.5847561 | 0.319 | 0.74 | 3.864496e-05 |\n",
       "| TMEM108 | 8.718763e-10 | -0.5827671 | 0.549 | 0.81 | 4.786078e-05 |\n",
       "| GRID1 | 3.326260e-09 | -0.5745169 | 0.462 | 0.74 | 1.825917e-04 |\n",
       "| GALNT13 | 3.581740e-06 | -0.5630254 | 0.451 | 0.61 | 1.966161e-01 |\n",
       "| FRMPD4 | 1.323472e-08 | -0.5584438 | 0.165 | 0.53 | 7.265067e-04 |\n",
       "| ⋮ | ⋮ | ⋮ | ⋮ | ⋮ | ⋮ |\n",
       "| CABP1 | 4.200886e-10 | 0.5654976 | 0.670 | 0.25 | 2.306034e-05 |\n",
       "| VAV3 | 1.696802e-08 | 0.5687662 | 0.604 | 0.25 | 9.314428e-04 |\n",
       "| TRPM3 | 1.609813e-22 | 0.5775746 | 1.000 | 0.92 | 8.836906e-18 |\n",
       "| PRKCQ | 4.394207e-10 | 0.5806234 | 0.418 | 0.05 | 2.412156e-05 |\n",
       "| STAC | 4.713849e-10 | 0.5845887 | 0.495 | 0.11 | 2.587620e-05 |\n",
       "| TMEM132C | 1.185597e-11 | 0.5912708 | 0.593 | 0.14 | 6.508217e-07 |\n",
       "| HS3ST5 | 1.082767e-12 | 0.5921367 | 0.879 | 0.67 | 5.943740e-08 |\n",
       "| CIT | 7.294953e-15 | 0.5945511 | 0.967 | 0.69 | 4.004491e-10 |\n",
       "| SYT6 | 1.673277e-11 | 0.5990745 | 0.879 | 0.42 | 9.185288e-07 |\n",
       "| ZNF804B | 4.917498e-09 | 0.6162198 | 0.648 | 0.26 | 2.699411e-04 |\n",
       "| PTPRT | 3.001786e-05 | 0.6181004 | 0.615 | 0.38 | 1.000000e+00 |\n",
       "| NEFM | 4.889842e-08 | 0.6197625 | 0.714 | 0.37 | 2.684230e-03 |\n",
       "| SCG2 | 3.832787e-10 | 0.6226962 | 0.714 | 0.34 | 2.103970e-05 |\n",
       "| RASGRF2 | 6.040335e-11 | 0.6297997 | 0.659 | 0.24 | 3.315782e-06 |\n",
       "| SRGAP1 | 9.787907e-11 | 0.6383006 | 0.736 | 0.38 | 5.372974e-06 |\n",
       "| GALNT18 | 2.954115e-16 | 0.6609103 | 0.549 | 0.02 | 1.621632e-11 |\n",
       "| SYNPR | 4.691167e-09 | 0.6943100 | 0.527 | 0.19 | 2.575169e-04 |\n",
       "| PTCHD1-AS | 2.588394e-12 | 0.7092693 | 0.758 | 0.34 | 1.420873e-07 |\n",
       "| CA10 | 8.144434e-08 | 0.7161405 | 0.648 | 0.34 | 4.470805e-03 |\n",
       "| ZNF804A | 4.040604e-09 | 0.7216408 | 0.725 | 0.43 | 2.218049e-04 |\n",
       "| IL1RAPL1 | 9.644983e-11 | 0.7378231 | 0.747 | 0.41 | 5.294517e-06 |\n",
       "| GRIA1 | 2.907230e-24 | 0.7478175 | 1.000 | 0.83 | 1.595895e-19 |\n",
       "| NETO2 | 7.508481e-18 | 0.7670781 | 0.967 | 0.75 | 4.121706e-13 |\n",
       "| THSD7A | 5.622517e-17 | 0.7740869 | 0.934 | 0.54 | 3.086425e-12 |\n",
       "| SHISA9 | 6.742053e-17 | 0.7884718 | 0.868 | 0.59 | 3.700983e-12 |\n",
       "| ANKFN1 | 3.571811e-15 | 0.8360981 | 0.879 | 0.54 | 1.960710e-10 |\n",
       "| CDH12 | 6.515978e-16 | 0.9048910 | 0.857 | 0.48 | 3.576881e-11 |\n",
       "| EBF3 | 1.278965e-21 | 0.9923196 | 0.934 | 0.47 | 7.020750e-17 |\n",
       "| COL25A1 | 2.462491e-13 | 1.0164035 | 0.703 | 0.25 | 1.351760e-08 |\n",
       "| RORB | 4.415233e-28 | 1.5238151 | 0.835 | 0.04 | 2.423698e-23 |\n",
       "\n"
      ],
      "text/plain": [
       "           p_val        avg_log2FC pct.1 pct.2 p_val_adj   \n",
       "SDK2       3.613456e-26 -1.4240033 0.275 0.93  1.983570e-21\n",
       "PTPRD      5.822688e-19 -1.0249427 0.516 0.89  3.196306e-14\n",
       "NKAIN3     2.886578e-17 -1.0017224 0.330 0.81  1.584558e-12\n",
       "NKAIN2     1.791046e-14 -0.9220274 0.505 0.80  9.831766e-10\n",
       "SGCD       1.494559e-14 -0.9080698 0.396 0.82  8.204230e-10\n",
       "SNTG1      1.654332e-16 -0.8734657 0.615 0.88  9.081291e-12\n",
       "NTNG1      1.615332e-13 -0.8690139 0.264 0.69  8.867204e-09\n",
       "PKNOX2     2.054437e-18 -0.7849692 0.802 0.98  1.127762e-13\n",
       "TNR        9.238750e-15 -0.7623030 0.187 0.72  5.071519e-10\n",
       "TSHZ2      1.489261e-25 -0.7464999 0.890 0.99  8.175147e-21\n",
       "RORA       1.420396e-12 -0.7230966 0.593 0.86  7.797120e-08\n",
       "PCDH7      7.593056e-12 -0.6881163 0.527 0.84  4.168132e-07\n",
       "ATP8A2     1.198705e-17 -0.6781914 0.736 0.96  6.580171e-13\n",
       "PLEKHG1    1.506482e-12 -0.6741405 0.187 0.67  8.269681e-08\n",
       "GALNTL6    1.063685e-09 -0.6608255 0.286 0.64  5.838991e-05\n",
       "FGF13      3.175882e-11 -0.6607585 0.615 0.86  1.743369e-06\n",
       "NRXN3      1.219853e-11 -0.6126236 0.747 0.97  6.696261e-07\n",
       "AC079385.1 7.373024e-10 -0.6062348 0.571 0.85  4.047348e-05\n",
       "TMTC1      1.546139e-14 -0.6041414 0.747 0.91  8.487373e-10\n",
       "IGF1       2.769438e-10 -0.5991283 0.121 0.53  1.520256e-05\n",
       "CHRM3      5.750803e-15 -0.5986304 0.780 0.95  3.156846e-10\n",
       "NXPH2      3.424562e-09 -0.5964329 0.374 0.75  1.879879e-04\n",
       "PDZD2      1.393553e-08 -0.5909792 0.758 0.91  7.649770e-04\n",
       "LDB2       4.555010e-09 -0.5869758 0.220 0.62  2.500427e-04\n",
       "CDH18      1.816996e-09 -0.5859162 0.516 0.77  9.974220e-05\n",
       "LRFN2      7.039925e-10 -0.5847561 0.319 0.74  3.864496e-05\n",
       "TMEM108    8.718763e-10 -0.5827671 0.549 0.81  4.786078e-05\n",
       "GRID1      3.326260e-09 -0.5745169 0.462 0.74  1.825917e-04\n",
       "GALNT13    3.581740e-06 -0.5630254 0.451 0.61  1.966161e-01\n",
       "FRMPD4     1.323472e-08 -0.5584438 0.165 0.53  7.265067e-04\n",
       "⋮          ⋮            ⋮          ⋮     ⋮     ⋮           \n",
       "CABP1      4.200886e-10 0.5654976  0.670 0.25  2.306034e-05\n",
       "VAV3       1.696802e-08 0.5687662  0.604 0.25  9.314428e-04\n",
       "TRPM3      1.609813e-22 0.5775746  1.000 0.92  8.836906e-18\n",
       "PRKCQ      4.394207e-10 0.5806234  0.418 0.05  2.412156e-05\n",
       "STAC       4.713849e-10 0.5845887  0.495 0.11  2.587620e-05\n",
       "TMEM132C   1.185597e-11 0.5912708  0.593 0.14  6.508217e-07\n",
       "HS3ST5     1.082767e-12 0.5921367  0.879 0.67  5.943740e-08\n",
       "CIT        7.294953e-15 0.5945511  0.967 0.69  4.004491e-10\n",
       "SYT6       1.673277e-11 0.5990745  0.879 0.42  9.185288e-07\n",
       "ZNF804B    4.917498e-09 0.6162198  0.648 0.26  2.699411e-04\n",
       "PTPRT      3.001786e-05 0.6181004  0.615 0.38  1.000000e+00\n",
       "NEFM       4.889842e-08 0.6197625  0.714 0.37  2.684230e-03\n",
       "SCG2       3.832787e-10 0.6226962  0.714 0.34  2.103970e-05\n",
       "RASGRF2    6.040335e-11 0.6297997  0.659 0.24  3.315782e-06\n",
       "SRGAP1     9.787907e-11 0.6383006  0.736 0.38  5.372974e-06\n",
       "GALNT18    2.954115e-16 0.6609103  0.549 0.02  1.621632e-11\n",
       "SYNPR      4.691167e-09 0.6943100  0.527 0.19  2.575169e-04\n",
       "PTCHD1-AS  2.588394e-12 0.7092693  0.758 0.34  1.420873e-07\n",
       "CA10       8.144434e-08 0.7161405  0.648 0.34  4.470805e-03\n",
       "ZNF804A    4.040604e-09 0.7216408  0.725 0.43  2.218049e-04\n",
       "IL1RAPL1   9.644983e-11 0.7378231  0.747 0.41  5.294517e-06\n",
       "GRIA1      2.907230e-24 0.7478175  1.000 0.83  1.595895e-19\n",
       "NETO2      7.508481e-18 0.7670781  0.967 0.75  4.121706e-13\n",
       "THSD7A     5.622517e-17 0.7740869  0.934 0.54  3.086425e-12\n",
       "SHISA9     6.742053e-17 0.7884718  0.868 0.59  3.700983e-12\n",
       "ANKFN1     3.571811e-15 0.8360981  0.879 0.54  1.960710e-10\n",
       "CDH12      6.515978e-16 0.9048910  0.857 0.48  3.576881e-11\n",
       "EBF3       1.278965e-21 0.9923196  0.934 0.47  7.020750e-17\n",
       "COL25A1    2.462491e-13 1.0164035  0.703 0.25  1.351760e-08\n",
       "RORB       4.415233e-28 1.5238151  0.835 0.04  2.423698e-23"
      ]
     },
     "metadata": {},
     "output_type": "display_data"
    }
   ],
   "source": [
    "GABA4_1.markers.macaque[order(GABA4_1.markers.macaque$avg_log2FC, decreasing = FALSE),]"
   ]
  },
  {
   "cell_type": "code",
   "execution_count": 27,
   "id": "777999bb-455e-4784-8cf6-3ff1e3006623",
   "metadata": {},
   "outputs": [],
   "source": [
    "GABA4_2.vsAllmarkers.mouse <- FindMarkers(object = mouse_rna, ident.1 = \"GABA4_2\", group.by = 'predicted.id')"
   ]
  },
  {
   "cell_type": "code",
   "execution_count": 29,
   "id": "1c03e3db-b18e-42a7-b9a3-e886de832cbb",
   "metadata": {
    "collapsed": true,
    "jupyter": {
     "outputs_hidden": true
    },
    "tags": []
   },
   "outputs": [
    {
     "data": {
      "text/html": [
       "<table class=\"dataframe\">\n",
       "<caption>A data.frame: 185 × 5</caption>\n",
       "<thead>\n",
       "\t<tr><th></th><th scope=col>p_val</th><th scope=col>avg_log2FC</th><th scope=col>pct.1</th><th scope=col>pct.2</th><th scope=col>p_val_adj</th></tr>\n",
       "\t<tr><th></th><th scope=col>&lt;dbl&gt;</th><th scope=col>&lt;dbl&gt;</th><th scope=col>&lt;dbl&gt;</th><th scope=col>&lt;dbl&gt;</th><th scope=col>&lt;dbl&gt;</th></tr>\n",
       "</thead>\n",
       "<tbody>\n",
       "\t<tr><th scope=row>Nxph1</th><td>6.037261e-57</td><td>0.9007922</td><td>0.793</td><td>0.370</td><td>1.689527e-52</td></tr>\n",
       "\t<tr><th scope=row>Chrm3</th><td>7.090453e-36</td><td>0.7740659</td><td>0.676</td><td>0.321</td><td>1.984263e-31</td></tr>\n",
       "\t<tr><th scope=row>Col25a1</th><td>5.424006e-32</td><td>0.6923594</td><td>0.372</td><td>0.106</td><td>1.517908e-27</td></tr>\n",
       "\t<tr><th scope=row>Eya2</th><td>2.196489e-58</td><td>0.6758696</td><td>0.309</td><td>0.042</td><td>6.146874e-54</td></tr>\n",
       "\t<tr><th scope=row>Nkain3</th><td>2.646620e-26</td><td>0.6534226</td><td>0.564</td><td>0.263</td><td>7.406565e-22</td></tr>\n",
       "\t<tr><th scope=row>Clstn2</th><td>6.400821e-25</td><td>0.6332676</td><td>0.638</td><td>0.349</td><td>1.791270e-20</td></tr>\n",
       "\t<tr><th scope=row>Dscaml1</th><td>1.297304e-22</td><td>0.5788472</td><td>0.660</td><td>0.348</td><td>3.630505e-18</td></tr>\n",
       "\t<tr><th scope=row>Kcnmb2</th><td>5.892801e-18</td><td>0.5554775</td><td>0.457</td><td>0.211</td><td>1.649100e-13</td></tr>\n",
       "\t<tr><th scope=row>Sgcd</th><td>1.860058e-19</td><td>0.5155108</td><td>0.702</td><td>0.473</td><td>5.205372e-15</td></tr>\n",
       "\t<tr><th scope=row>Mpped2</th><td>5.541064e-15</td><td>0.5068418</td><td>0.484</td><td>0.274</td><td>1.550667e-10</td></tr>\n",
       "\t<tr><th scope=row>Srrm4</th><td>2.125199e-16</td><td>0.5059270</td><td>0.479</td><td>0.244</td><td>5.947369e-12</td></tr>\n",
       "\t<tr><th scope=row>Cadps2</th><td>7.955637e-14</td><td>0.4749704</td><td>0.314</td><td>0.134</td><td>2.226385e-09</td></tr>\n",
       "\t<tr><th scope=row>Grik2</th><td>1.460158e-30</td><td>0.4614255</td><td>0.862</td><td>0.673</td><td>4.086253e-26</td></tr>\n",
       "\t<tr><th scope=row>Slc6a1</th><td>1.741470e-14</td><td>0.4592521</td><td>0.356</td><td>0.158</td><td>4.873504e-10</td></tr>\n",
       "\t<tr><th scope=row>Wbscr17</th><td>2.373848e-13</td><td>0.4565007</td><td>0.537</td><td>0.332</td><td>6.643213e-09</td></tr>\n",
       "\t<tr><th scope=row>Neto1</th><td>1.668714e-13</td><td>0.4504383</td><td>0.351</td><td>0.162</td><td>4.669897e-09</td></tr>\n",
       "\t<tr><th scope=row>Csmd2</th><td>1.077547e-18</td><td>0.4452492</td><td>0.734</td><td>0.525</td><td>3.015515e-14</td></tr>\n",
       "\t<tr><th scope=row>Zfp804b</th><td>3.002796e-11</td><td>0.4445570</td><td>0.628</td><td>0.455</td><td>8.403324e-07</td></tr>\n",
       "\t<tr><th scope=row>Kcnb2</th><td>1.939643e-17</td><td>0.4254877</td><td>0.782</td><td>0.588</td><td>5.428091e-13</td></tr>\n",
       "\t<tr><th scope=row>Trps1</th><td>1.088620e-10</td><td>0.4098293</td><td>0.383</td><td>0.209</td><td>3.046504e-06</td></tr>\n",
       "\t<tr><th scope=row>Nwd2</th><td>9.145108e-11</td><td>0.4056541</td><td>0.394</td><td>0.210</td><td>2.559258e-06</td></tr>\n",
       "\t<tr><th scope=row>Esr1</th><td>2.229300e-24</td><td>0.4038936</td><td>0.207</td><td>0.043</td><td>6.238695e-20</td></tr>\n",
       "\t<tr><th scope=row>Fstl5</th><td>2.204967e-10</td><td>0.4009251</td><td>0.537</td><td>0.372</td><td>6.170600e-06</td></tr>\n",
       "\t<tr><th scope=row>Rgs6</th><td>1.915009e-09</td><td>0.3978688</td><td>0.436</td><td>0.254</td><td>5.359152e-05</td></tr>\n",
       "\t<tr><th scope=row>Zbtb16</th><td>4.462839e-14</td><td>0.3969025</td><td>0.250</td><td>0.089</td><td>1.248925e-09</td></tr>\n",
       "\t<tr><th scope=row>Sntg1</th><td>5.249301e-27</td><td>0.3878268</td><td>0.872</td><td>0.739</td><td>1.469017e-22</td></tr>\n",
       "\t<tr><th scope=row>Sv2c</th><td>8.729292e-09</td><td>0.3835930</td><td>0.436</td><td>0.289</td><td>2.442892e-04</td></tr>\n",
       "\t<tr><th scope=row>Gpc5</th><td>8.326676e-11</td><td>0.3777378</td><td>0.697</td><td>0.533</td><td>2.330220e-06</td></tr>\n",
       "\t<tr><th scope=row>Actn2</th><td>1.554179e-12</td><td>0.3735211</td><td>0.202</td><td>0.068</td><td>4.349369e-08</td></tr>\n",
       "\t<tr><th scope=row>Etl4</th><td>1.363669e-12</td><td>0.3674192</td><td>0.793</td><td>0.601</td><td>3.816228e-08</td></tr>\n",
       "\t<tr><th scope=row>⋮</th><td>⋮</td><td>⋮</td><td>⋮</td><td>⋮</td><td>⋮</td></tr>\n",
       "\t<tr><th scope=row>Mapk4</th><td>1.227850e-07</td><td>-0.3893819</td><td>0.064</td><td>0.226</td><td>3.436139e-03</td></tr>\n",
       "\t<tr><th scope=row>Kirrel3</th><td>1.395236e-12</td><td>-0.3969267</td><td>0.569</td><td>0.769</td><td>3.904568e-08</td></tr>\n",
       "\t<tr><th scope=row>Plekha5</th><td>1.600860e-08</td><td>-0.4013897</td><td>0.261</td><td>0.476</td><td>4.480007e-04</td></tr>\n",
       "\t<tr><th scope=row>Arpp21</th><td>5.527207e-10</td><td>-0.4014644</td><td>0.426</td><td>0.598</td><td>1.546789e-05</td></tr>\n",
       "\t<tr><th scope=row>Cpne8</th><td>3.411626e-07</td><td>-0.4109375</td><td>0.112</td><td>0.277</td><td>9.547436e-03</td></tr>\n",
       "\t<tr><th scope=row>Galnt18</th><td>1.466704e-08</td><td>-0.4192357</td><td>0.074</td><td>0.260</td><td>4.104572e-04</td></tr>\n",
       "\t<tr><th scope=row>Ak5</th><td>1.886473e-08</td><td>-0.4193187</td><td>0.160</td><td>0.362</td><td>5.279294e-04</td></tr>\n",
       "\t<tr><th scope=row>Kcnd3</th><td>5.789284e-08</td><td>-0.4270880</td><td>0.197</td><td>0.390</td><td>1.620131e-03</td></tr>\n",
       "\t<tr><th scope=row>Sox5</th><td>1.073513e-07</td><td>-0.4437291</td><td>0.096</td><td>0.268</td><td>3.004225e-03</td></tr>\n",
       "\t<tr><th scope=row>Tshz3</th><td>2.691647e-09</td><td>-0.4494457</td><td>0.149</td><td>0.360</td><td>7.532574e-05</td></tr>\n",
       "\t<tr><th scope=row>Adarb2</th><td>7.925509e-08</td><td>-0.4594633</td><td>0.255</td><td>0.439</td><td>2.217954e-03</td></tr>\n",
       "\t<tr><th scope=row>Spock1</th><td>2.373750e-13</td><td>-0.4606636</td><td>0.415</td><td>0.657</td><td>6.642940e-09</td></tr>\n",
       "\t<tr><th scope=row>Cfap54</th><td>1.804156e-10</td><td>-0.4658420</td><td>0.074</td><td>0.296</td><td>5.048930e-06</td></tr>\n",
       "\t<tr><th scope=row>Cdh8</th><td>7.080934e-12</td><td>-0.4752342</td><td>0.330</td><td>0.583</td><td>1.981599e-07</td></tr>\n",
       "\t<tr><th scope=row>Hcn1</th><td>9.850880e-11</td><td>-0.4950787</td><td>0.181</td><td>0.409</td><td>2.756769e-06</td></tr>\n",
       "\t<tr><th scope=row>Fam19a1</th><td>1.750932e-08</td><td>-0.4974707</td><td>0.191</td><td>0.377</td><td>4.899982e-04</td></tr>\n",
       "\t<tr><th scope=row>Prr16</th><td>1.835251e-11</td><td>-0.5090236</td><td>0.165</td><td>0.412</td><td>5.135950e-07</td></tr>\n",
       "\t<tr><th scope=row>Necab1</th><td>1.207781e-11</td><td>-0.5188953</td><td>0.048</td><td>0.274</td><td>3.379975e-07</td></tr>\n",
       "\t<tr><th scope=row>Maml3</th><td>1.245781e-10</td><td>-0.5198710</td><td>0.165</td><td>0.402</td><td>3.486319e-06</td></tr>\n",
       "\t<tr><th scope=row>Cdh13</th><td>1.591539e-12</td><td>-0.5604964</td><td>0.165</td><td>0.431</td><td>4.453923e-08</td></tr>\n",
       "\t<tr><th scope=row>Cntnap5c</th><td>3.770440e-12</td><td>-0.6182278</td><td>0.138</td><td>0.379</td><td>1.055158e-07</td></tr>\n",
       "\t<tr><th scope=row>Dscam</th><td>3.142559e-21</td><td>-0.6294242</td><td>0.356</td><td>0.674</td><td>8.794451e-17</td></tr>\n",
       "\t<tr><th scope=row>Ebf1</th><td>7.681676e-26</td><td>-0.6441492</td><td>0.447</td><td>0.767</td><td>2.149717e-21</td></tr>\n",
       "\t<tr><th scope=row>Car10</th><td>3.976149e-32</td><td>-0.6539009</td><td>0.473</td><td>0.815</td><td>1.112725e-27</td></tr>\n",
       "\t<tr><th scope=row>Pde11a</th><td>2.154270e-12</td><td>-0.6638586</td><td>0.064</td><td>0.294</td><td>6.028724e-08</td></tr>\n",
       "\t<tr><th scope=row>Ebf3</th><td>4.714373e-18</td><td>-0.6686041</td><td>0.144</td><td>0.476</td><td>1.319317e-13</td></tr>\n",
       "\t<tr><th scope=row>Arhgap6</th><td>1.521233e-16</td><td>-0.7123679</td><td>0.122</td><td>0.417</td><td>4.257169e-12</td></tr>\n",
       "\t<tr><th scope=row>Ankfn1</th><td>1.709321e-18</td><td>-0.7623353</td><td>0.128</td><td>0.453</td><td>4.783536e-14</td></tr>\n",
       "\t<tr><th scope=row>Ebf2</th><td>6.345419e-18</td><td>-0.7701707</td><td>0.069</td><td>0.385</td><td>1.775765e-13</td></tr>\n",
       "\t<tr><th scope=row>Cacna2d1</th><td>2.904741e-20</td><td>-0.7755317</td><td>0.165</td><td>0.496</td><td>8.128917e-16</td></tr>\n",
       "</tbody>\n",
       "</table>\n"
      ],
      "text/latex": [
       "A data.frame: 185 × 5\n",
       "\\begin{tabular}{r|lllll}\n",
       "  & p\\_val & avg\\_log2FC & pct.1 & pct.2 & p\\_val\\_adj\\\\\n",
       "  & <dbl> & <dbl> & <dbl> & <dbl> & <dbl>\\\\\n",
       "\\hline\n",
       "\tNxph1 & 6.037261e-57 & 0.9007922 & 0.793 & 0.370 & 1.689527e-52\\\\\n",
       "\tChrm3 & 7.090453e-36 & 0.7740659 & 0.676 & 0.321 & 1.984263e-31\\\\\n",
       "\tCol25a1 & 5.424006e-32 & 0.6923594 & 0.372 & 0.106 & 1.517908e-27\\\\\n",
       "\tEya2 & 2.196489e-58 & 0.6758696 & 0.309 & 0.042 & 6.146874e-54\\\\\n",
       "\tNkain3 & 2.646620e-26 & 0.6534226 & 0.564 & 0.263 & 7.406565e-22\\\\\n",
       "\tClstn2 & 6.400821e-25 & 0.6332676 & 0.638 & 0.349 & 1.791270e-20\\\\\n",
       "\tDscaml1 & 1.297304e-22 & 0.5788472 & 0.660 & 0.348 & 3.630505e-18\\\\\n",
       "\tKcnmb2 & 5.892801e-18 & 0.5554775 & 0.457 & 0.211 & 1.649100e-13\\\\\n",
       "\tSgcd & 1.860058e-19 & 0.5155108 & 0.702 & 0.473 & 5.205372e-15\\\\\n",
       "\tMpped2 & 5.541064e-15 & 0.5068418 & 0.484 & 0.274 & 1.550667e-10\\\\\n",
       "\tSrrm4 & 2.125199e-16 & 0.5059270 & 0.479 & 0.244 & 5.947369e-12\\\\\n",
       "\tCadps2 & 7.955637e-14 & 0.4749704 & 0.314 & 0.134 & 2.226385e-09\\\\\n",
       "\tGrik2 & 1.460158e-30 & 0.4614255 & 0.862 & 0.673 & 4.086253e-26\\\\\n",
       "\tSlc6a1 & 1.741470e-14 & 0.4592521 & 0.356 & 0.158 & 4.873504e-10\\\\\n",
       "\tWbscr17 & 2.373848e-13 & 0.4565007 & 0.537 & 0.332 & 6.643213e-09\\\\\n",
       "\tNeto1 & 1.668714e-13 & 0.4504383 & 0.351 & 0.162 & 4.669897e-09\\\\\n",
       "\tCsmd2 & 1.077547e-18 & 0.4452492 & 0.734 & 0.525 & 3.015515e-14\\\\\n",
       "\tZfp804b & 3.002796e-11 & 0.4445570 & 0.628 & 0.455 & 8.403324e-07\\\\\n",
       "\tKcnb2 & 1.939643e-17 & 0.4254877 & 0.782 & 0.588 & 5.428091e-13\\\\\n",
       "\tTrps1 & 1.088620e-10 & 0.4098293 & 0.383 & 0.209 & 3.046504e-06\\\\\n",
       "\tNwd2 & 9.145108e-11 & 0.4056541 & 0.394 & 0.210 & 2.559258e-06\\\\\n",
       "\tEsr1 & 2.229300e-24 & 0.4038936 & 0.207 & 0.043 & 6.238695e-20\\\\\n",
       "\tFstl5 & 2.204967e-10 & 0.4009251 & 0.537 & 0.372 & 6.170600e-06\\\\\n",
       "\tRgs6 & 1.915009e-09 & 0.3978688 & 0.436 & 0.254 & 5.359152e-05\\\\\n",
       "\tZbtb16 & 4.462839e-14 & 0.3969025 & 0.250 & 0.089 & 1.248925e-09\\\\\n",
       "\tSntg1 & 5.249301e-27 & 0.3878268 & 0.872 & 0.739 & 1.469017e-22\\\\\n",
       "\tSv2c & 8.729292e-09 & 0.3835930 & 0.436 & 0.289 & 2.442892e-04\\\\\n",
       "\tGpc5 & 8.326676e-11 & 0.3777378 & 0.697 & 0.533 & 2.330220e-06\\\\\n",
       "\tActn2 & 1.554179e-12 & 0.3735211 & 0.202 & 0.068 & 4.349369e-08\\\\\n",
       "\tEtl4 & 1.363669e-12 & 0.3674192 & 0.793 & 0.601 & 3.816228e-08\\\\\n",
       "\t⋮ & ⋮ & ⋮ & ⋮ & ⋮ & ⋮\\\\\n",
       "\tMapk4 & 1.227850e-07 & -0.3893819 & 0.064 & 0.226 & 3.436139e-03\\\\\n",
       "\tKirrel3 & 1.395236e-12 & -0.3969267 & 0.569 & 0.769 & 3.904568e-08\\\\\n",
       "\tPlekha5 & 1.600860e-08 & -0.4013897 & 0.261 & 0.476 & 4.480007e-04\\\\\n",
       "\tArpp21 & 5.527207e-10 & -0.4014644 & 0.426 & 0.598 & 1.546789e-05\\\\\n",
       "\tCpne8 & 3.411626e-07 & -0.4109375 & 0.112 & 0.277 & 9.547436e-03\\\\\n",
       "\tGalnt18 & 1.466704e-08 & -0.4192357 & 0.074 & 0.260 & 4.104572e-04\\\\\n",
       "\tAk5 & 1.886473e-08 & -0.4193187 & 0.160 & 0.362 & 5.279294e-04\\\\\n",
       "\tKcnd3 & 5.789284e-08 & -0.4270880 & 0.197 & 0.390 & 1.620131e-03\\\\\n",
       "\tSox5 & 1.073513e-07 & -0.4437291 & 0.096 & 0.268 & 3.004225e-03\\\\\n",
       "\tTshz3 & 2.691647e-09 & -0.4494457 & 0.149 & 0.360 & 7.532574e-05\\\\\n",
       "\tAdarb2 & 7.925509e-08 & -0.4594633 & 0.255 & 0.439 & 2.217954e-03\\\\\n",
       "\tSpock1 & 2.373750e-13 & -0.4606636 & 0.415 & 0.657 & 6.642940e-09\\\\\n",
       "\tCfap54 & 1.804156e-10 & -0.4658420 & 0.074 & 0.296 & 5.048930e-06\\\\\n",
       "\tCdh8 & 7.080934e-12 & -0.4752342 & 0.330 & 0.583 & 1.981599e-07\\\\\n",
       "\tHcn1 & 9.850880e-11 & -0.4950787 & 0.181 & 0.409 & 2.756769e-06\\\\\n",
       "\tFam19a1 & 1.750932e-08 & -0.4974707 & 0.191 & 0.377 & 4.899982e-04\\\\\n",
       "\tPrr16 & 1.835251e-11 & -0.5090236 & 0.165 & 0.412 & 5.135950e-07\\\\\n",
       "\tNecab1 & 1.207781e-11 & -0.5188953 & 0.048 & 0.274 & 3.379975e-07\\\\\n",
       "\tMaml3 & 1.245781e-10 & -0.5198710 & 0.165 & 0.402 & 3.486319e-06\\\\\n",
       "\tCdh13 & 1.591539e-12 & -0.5604964 & 0.165 & 0.431 & 4.453923e-08\\\\\n",
       "\tCntnap5c & 3.770440e-12 & -0.6182278 & 0.138 & 0.379 & 1.055158e-07\\\\\n",
       "\tDscam & 3.142559e-21 & -0.6294242 & 0.356 & 0.674 & 8.794451e-17\\\\\n",
       "\tEbf1 & 7.681676e-26 & -0.6441492 & 0.447 & 0.767 & 2.149717e-21\\\\\n",
       "\tCar10 & 3.976149e-32 & -0.6539009 & 0.473 & 0.815 & 1.112725e-27\\\\\n",
       "\tPde11a & 2.154270e-12 & -0.6638586 & 0.064 & 0.294 & 6.028724e-08\\\\\n",
       "\tEbf3 & 4.714373e-18 & -0.6686041 & 0.144 & 0.476 & 1.319317e-13\\\\\n",
       "\tArhgap6 & 1.521233e-16 & -0.7123679 & 0.122 & 0.417 & 4.257169e-12\\\\\n",
       "\tAnkfn1 & 1.709321e-18 & -0.7623353 & 0.128 & 0.453 & 4.783536e-14\\\\\n",
       "\tEbf2 & 6.345419e-18 & -0.7701707 & 0.069 & 0.385 & 1.775765e-13\\\\\n",
       "\tCacna2d1 & 2.904741e-20 & -0.7755317 & 0.165 & 0.496 & 8.128917e-16\\\\\n",
       "\\end{tabular}\n"
      ],
      "text/markdown": [
       "\n",
       "A data.frame: 185 × 5\n",
       "\n",
       "| <!--/--> | p_val &lt;dbl&gt; | avg_log2FC &lt;dbl&gt; | pct.1 &lt;dbl&gt; | pct.2 &lt;dbl&gt; | p_val_adj &lt;dbl&gt; |\n",
       "|---|---|---|---|---|---|\n",
       "| Nxph1 | 6.037261e-57 | 0.9007922 | 0.793 | 0.370 | 1.689527e-52 |\n",
       "| Chrm3 | 7.090453e-36 | 0.7740659 | 0.676 | 0.321 | 1.984263e-31 |\n",
       "| Col25a1 | 5.424006e-32 | 0.6923594 | 0.372 | 0.106 | 1.517908e-27 |\n",
       "| Eya2 | 2.196489e-58 | 0.6758696 | 0.309 | 0.042 | 6.146874e-54 |\n",
       "| Nkain3 | 2.646620e-26 | 0.6534226 | 0.564 | 0.263 | 7.406565e-22 |\n",
       "| Clstn2 | 6.400821e-25 | 0.6332676 | 0.638 | 0.349 | 1.791270e-20 |\n",
       "| Dscaml1 | 1.297304e-22 | 0.5788472 | 0.660 | 0.348 | 3.630505e-18 |\n",
       "| Kcnmb2 | 5.892801e-18 | 0.5554775 | 0.457 | 0.211 | 1.649100e-13 |\n",
       "| Sgcd | 1.860058e-19 | 0.5155108 | 0.702 | 0.473 | 5.205372e-15 |\n",
       "| Mpped2 | 5.541064e-15 | 0.5068418 | 0.484 | 0.274 | 1.550667e-10 |\n",
       "| Srrm4 | 2.125199e-16 | 0.5059270 | 0.479 | 0.244 | 5.947369e-12 |\n",
       "| Cadps2 | 7.955637e-14 | 0.4749704 | 0.314 | 0.134 | 2.226385e-09 |\n",
       "| Grik2 | 1.460158e-30 | 0.4614255 | 0.862 | 0.673 | 4.086253e-26 |\n",
       "| Slc6a1 | 1.741470e-14 | 0.4592521 | 0.356 | 0.158 | 4.873504e-10 |\n",
       "| Wbscr17 | 2.373848e-13 | 0.4565007 | 0.537 | 0.332 | 6.643213e-09 |\n",
       "| Neto1 | 1.668714e-13 | 0.4504383 | 0.351 | 0.162 | 4.669897e-09 |\n",
       "| Csmd2 | 1.077547e-18 | 0.4452492 | 0.734 | 0.525 | 3.015515e-14 |\n",
       "| Zfp804b | 3.002796e-11 | 0.4445570 | 0.628 | 0.455 | 8.403324e-07 |\n",
       "| Kcnb2 | 1.939643e-17 | 0.4254877 | 0.782 | 0.588 | 5.428091e-13 |\n",
       "| Trps1 | 1.088620e-10 | 0.4098293 | 0.383 | 0.209 | 3.046504e-06 |\n",
       "| Nwd2 | 9.145108e-11 | 0.4056541 | 0.394 | 0.210 | 2.559258e-06 |\n",
       "| Esr1 | 2.229300e-24 | 0.4038936 | 0.207 | 0.043 | 6.238695e-20 |\n",
       "| Fstl5 | 2.204967e-10 | 0.4009251 | 0.537 | 0.372 | 6.170600e-06 |\n",
       "| Rgs6 | 1.915009e-09 | 0.3978688 | 0.436 | 0.254 | 5.359152e-05 |\n",
       "| Zbtb16 | 4.462839e-14 | 0.3969025 | 0.250 | 0.089 | 1.248925e-09 |\n",
       "| Sntg1 | 5.249301e-27 | 0.3878268 | 0.872 | 0.739 | 1.469017e-22 |\n",
       "| Sv2c | 8.729292e-09 | 0.3835930 | 0.436 | 0.289 | 2.442892e-04 |\n",
       "| Gpc5 | 8.326676e-11 | 0.3777378 | 0.697 | 0.533 | 2.330220e-06 |\n",
       "| Actn2 | 1.554179e-12 | 0.3735211 | 0.202 | 0.068 | 4.349369e-08 |\n",
       "| Etl4 | 1.363669e-12 | 0.3674192 | 0.793 | 0.601 | 3.816228e-08 |\n",
       "| ⋮ | ⋮ | ⋮ | ⋮ | ⋮ | ⋮ |\n",
       "| Mapk4 | 1.227850e-07 | -0.3893819 | 0.064 | 0.226 | 3.436139e-03 |\n",
       "| Kirrel3 | 1.395236e-12 | -0.3969267 | 0.569 | 0.769 | 3.904568e-08 |\n",
       "| Plekha5 | 1.600860e-08 | -0.4013897 | 0.261 | 0.476 | 4.480007e-04 |\n",
       "| Arpp21 | 5.527207e-10 | -0.4014644 | 0.426 | 0.598 | 1.546789e-05 |\n",
       "| Cpne8 | 3.411626e-07 | -0.4109375 | 0.112 | 0.277 | 9.547436e-03 |\n",
       "| Galnt18 | 1.466704e-08 | -0.4192357 | 0.074 | 0.260 | 4.104572e-04 |\n",
       "| Ak5 | 1.886473e-08 | -0.4193187 | 0.160 | 0.362 | 5.279294e-04 |\n",
       "| Kcnd3 | 5.789284e-08 | -0.4270880 | 0.197 | 0.390 | 1.620131e-03 |\n",
       "| Sox5 | 1.073513e-07 | -0.4437291 | 0.096 | 0.268 | 3.004225e-03 |\n",
       "| Tshz3 | 2.691647e-09 | -0.4494457 | 0.149 | 0.360 | 7.532574e-05 |\n",
       "| Adarb2 | 7.925509e-08 | -0.4594633 | 0.255 | 0.439 | 2.217954e-03 |\n",
       "| Spock1 | 2.373750e-13 | -0.4606636 | 0.415 | 0.657 | 6.642940e-09 |\n",
       "| Cfap54 | 1.804156e-10 | -0.4658420 | 0.074 | 0.296 | 5.048930e-06 |\n",
       "| Cdh8 | 7.080934e-12 | -0.4752342 | 0.330 | 0.583 | 1.981599e-07 |\n",
       "| Hcn1 | 9.850880e-11 | -0.4950787 | 0.181 | 0.409 | 2.756769e-06 |\n",
       "| Fam19a1 | 1.750932e-08 | -0.4974707 | 0.191 | 0.377 | 4.899982e-04 |\n",
       "| Prr16 | 1.835251e-11 | -0.5090236 | 0.165 | 0.412 | 5.135950e-07 |\n",
       "| Necab1 | 1.207781e-11 | -0.5188953 | 0.048 | 0.274 | 3.379975e-07 |\n",
       "| Maml3 | 1.245781e-10 | -0.5198710 | 0.165 | 0.402 | 3.486319e-06 |\n",
       "| Cdh13 | 1.591539e-12 | -0.5604964 | 0.165 | 0.431 | 4.453923e-08 |\n",
       "| Cntnap5c | 3.770440e-12 | -0.6182278 | 0.138 | 0.379 | 1.055158e-07 |\n",
       "| Dscam | 3.142559e-21 | -0.6294242 | 0.356 | 0.674 | 8.794451e-17 |\n",
       "| Ebf1 | 7.681676e-26 | -0.6441492 | 0.447 | 0.767 | 2.149717e-21 |\n",
       "| Car10 | 3.976149e-32 | -0.6539009 | 0.473 | 0.815 | 1.112725e-27 |\n",
       "| Pde11a | 2.154270e-12 | -0.6638586 | 0.064 | 0.294 | 6.028724e-08 |\n",
       "| Ebf3 | 4.714373e-18 | -0.6686041 | 0.144 | 0.476 | 1.319317e-13 |\n",
       "| Arhgap6 | 1.521233e-16 | -0.7123679 | 0.122 | 0.417 | 4.257169e-12 |\n",
       "| Ankfn1 | 1.709321e-18 | -0.7623353 | 0.128 | 0.453 | 4.783536e-14 |\n",
       "| Ebf2 | 6.345419e-18 | -0.7701707 | 0.069 | 0.385 | 1.775765e-13 |\n",
       "| Cacna2d1 | 2.904741e-20 | -0.7755317 | 0.165 | 0.496 | 8.128917e-16 |\n",
       "\n"
      ],
      "text/plain": [
       "         p_val        avg_log2FC pct.1 pct.2 p_val_adj   \n",
       "Nxph1    6.037261e-57 0.9007922  0.793 0.370 1.689527e-52\n",
       "Chrm3    7.090453e-36 0.7740659  0.676 0.321 1.984263e-31\n",
       "Col25a1  5.424006e-32 0.6923594  0.372 0.106 1.517908e-27\n",
       "Eya2     2.196489e-58 0.6758696  0.309 0.042 6.146874e-54\n",
       "Nkain3   2.646620e-26 0.6534226  0.564 0.263 7.406565e-22\n",
       "Clstn2   6.400821e-25 0.6332676  0.638 0.349 1.791270e-20\n",
       "Dscaml1  1.297304e-22 0.5788472  0.660 0.348 3.630505e-18\n",
       "Kcnmb2   5.892801e-18 0.5554775  0.457 0.211 1.649100e-13\n",
       "Sgcd     1.860058e-19 0.5155108  0.702 0.473 5.205372e-15\n",
       "Mpped2   5.541064e-15 0.5068418  0.484 0.274 1.550667e-10\n",
       "Srrm4    2.125199e-16 0.5059270  0.479 0.244 5.947369e-12\n",
       "Cadps2   7.955637e-14 0.4749704  0.314 0.134 2.226385e-09\n",
       "Grik2    1.460158e-30 0.4614255  0.862 0.673 4.086253e-26\n",
       "Slc6a1   1.741470e-14 0.4592521  0.356 0.158 4.873504e-10\n",
       "Wbscr17  2.373848e-13 0.4565007  0.537 0.332 6.643213e-09\n",
       "Neto1    1.668714e-13 0.4504383  0.351 0.162 4.669897e-09\n",
       "Csmd2    1.077547e-18 0.4452492  0.734 0.525 3.015515e-14\n",
       "Zfp804b  3.002796e-11 0.4445570  0.628 0.455 8.403324e-07\n",
       "Kcnb2    1.939643e-17 0.4254877  0.782 0.588 5.428091e-13\n",
       "Trps1    1.088620e-10 0.4098293  0.383 0.209 3.046504e-06\n",
       "Nwd2     9.145108e-11 0.4056541  0.394 0.210 2.559258e-06\n",
       "Esr1     2.229300e-24 0.4038936  0.207 0.043 6.238695e-20\n",
       "Fstl5    2.204967e-10 0.4009251  0.537 0.372 6.170600e-06\n",
       "Rgs6     1.915009e-09 0.3978688  0.436 0.254 5.359152e-05\n",
       "Zbtb16   4.462839e-14 0.3969025  0.250 0.089 1.248925e-09\n",
       "Sntg1    5.249301e-27 0.3878268  0.872 0.739 1.469017e-22\n",
       "Sv2c     8.729292e-09 0.3835930  0.436 0.289 2.442892e-04\n",
       "Gpc5     8.326676e-11 0.3777378  0.697 0.533 2.330220e-06\n",
       "Actn2    1.554179e-12 0.3735211  0.202 0.068 4.349369e-08\n",
       "Etl4     1.363669e-12 0.3674192  0.793 0.601 3.816228e-08\n",
       "⋮        ⋮            ⋮          ⋮     ⋮     ⋮           \n",
       "Mapk4    1.227850e-07 -0.3893819 0.064 0.226 3.436139e-03\n",
       "Kirrel3  1.395236e-12 -0.3969267 0.569 0.769 3.904568e-08\n",
       "Plekha5  1.600860e-08 -0.4013897 0.261 0.476 4.480007e-04\n",
       "Arpp21   5.527207e-10 -0.4014644 0.426 0.598 1.546789e-05\n",
       "Cpne8    3.411626e-07 -0.4109375 0.112 0.277 9.547436e-03\n",
       "Galnt18  1.466704e-08 -0.4192357 0.074 0.260 4.104572e-04\n",
       "Ak5      1.886473e-08 -0.4193187 0.160 0.362 5.279294e-04\n",
       "Kcnd3    5.789284e-08 -0.4270880 0.197 0.390 1.620131e-03\n",
       "Sox5     1.073513e-07 -0.4437291 0.096 0.268 3.004225e-03\n",
       "Tshz3    2.691647e-09 -0.4494457 0.149 0.360 7.532574e-05\n",
       "Adarb2   7.925509e-08 -0.4594633 0.255 0.439 2.217954e-03\n",
       "Spock1   2.373750e-13 -0.4606636 0.415 0.657 6.642940e-09\n",
       "Cfap54   1.804156e-10 -0.4658420 0.074 0.296 5.048930e-06\n",
       "Cdh8     7.080934e-12 -0.4752342 0.330 0.583 1.981599e-07\n",
       "Hcn1     9.850880e-11 -0.4950787 0.181 0.409 2.756769e-06\n",
       "Fam19a1  1.750932e-08 -0.4974707 0.191 0.377 4.899982e-04\n",
       "Prr16    1.835251e-11 -0.5090236 0.165 0.412 5.135950e-07\n",
       "Necab1   1.207781e-11 -0.5188953 0.048 0.274 3.379975e-07\n",
       "Maml3    1.245781e-10 -0.5198710 0.165 0.402 3.486319e-06\n",
       "Cdh13    1.591539e-12 -0.5604964 0.165 0.431 4.453923e-08\n",
       "Cntnap5c 3.770440e-12 -0.6182278 0.138 0.379 1.055158e-07\n",
       "Dscam    3.142559e-21 -0.6294242 0.356 0.674 8.794451e-17\n",
       "Ebf1     7.681676e-26 -0.6441492 0.447 0.767 2.149717e-21\n",
       "Car10    3.976149e-32 -0.6539009 0.473 0.815 1.112725e-27\n",
       "Pde11a   2.154270e-12 -0.6638586 0.064 0.294 6.028724e-08\n",
       "Ebf3     4.714373e-18 -0.6686041 0.144 0.476 1.319317e-13\n",
       "Arhgap6  1.521233e-16 -0.7123679 0.122 0.417 4.257169e-12\n",
       "Ankfn1   1.709321e-18 -0.7623353 0.128 0.453 4.783536e-14\n",
       "Ebf2     6.345419e-18 -0.7701707 0.069 0.385 1.775765e-13\n",
       "Cacna2d1 2.904741e-20 -0.7755317 0.165 0.496 8.128917e-16"
      ]
     },
     "metadata": {},
     "output_type": "display_data"
    }
   ],
   "source": [
    "GABA4_2.vsAllmarkers.mouse[order(GABA4_2.vsAllmarkers.mouse$avg_log2FC, decreasing = TRUE),]"
   ]
  },
  {
   "cell_type": "markdown",
   "id": "b1d78d4e-adef-485a-95bf-e88cbfb069ab",
   "metadata": {
    "tags": []
   },
   "source": [
    "# 2. Explore marker genes, just macaque mouse for glut11"
   ]
  },
  {
   "cell_type": "markdown",
   "id": "21f62baf-e004-4583-8a41-25ef57fd8699",
   "metadata": {},
   "source": [
    "# 2.5 just macaque for gaba2_1 and 2_2 markers"
   ]
  },
  {
   "cell_type": "code",
   "execution_count": 11,
   "id": "35621551-39bd-482f-9979-4bebae6da490",
   "metadata": {},
   "outputs": [],
   "source": [
    "# just macaque markers (look for gaba2_1 and gaba2_2)\n",
    "\n",
    "filename1 = here(paste0('data/tidy_data/tables/macaque_marker_genes','2023-08-16','.csv'))\n",
    "all.markers.macaque <- read.csv(filename1)\n"
   ]
  },
  {
   "cell_type": "code",
   "execution_count": 14,
   "id": "3877cf09-0f4a-4170-ab46-901f97ff4e71",
   "metadata": {},
   "outputs": [
    {
     "data": {
      "text/html": [
       "<table class=\"dataframe\">\n",
       "<caption>A data.frame: 495 × 7</caption>\n",
       "<thead>\n",
       "\t<tr><th></th><th scope=col>p_val</th><th scope=col>avg_log2FC</th><th scope=col>pct.1</th><th scope=col>pct.2</th><th scope=col>p_val_adj</th><th scope=col>cluster</th><th scope=col>gene</th></tr>\n",
       "\t<tr><th></th><th scope=col>&lt;dbl&gt;</th><th scope=col>&lt;dbl&gt;</th><th scope=col>&lt;dbl&gt;</th><th scope=col>&lt;dbl&gt;</th><th scope=col>&lt;dbl&gt;</th><th scope=col>&lt;chr&gt;</th><th scope=col>&lt;chr&gt;</th></tr>\n",
       "</thead>\n",
       "<tbody>\n",
       "\t<tr><th scope=row>6524</th><td>2.432009e-35</td><td>1.0491516</td><td>0.969</td><td>0.363</td><td>1.335027e-30</td><td>GABA2_1</td><td>MIR34AHG  </td></tr>\n",
       "\t<tr><th scope=row>6523</th><td>1.501758e-39</td><td>1.0484559</td><td>0.846</td><td>0.191</td><td>8.243748e-35</td><td>GABA2_1</td><td>RORB      </td></tr>\n",
       "\t<tr><th scope=row>6528</th><td>2.160571e-28</td><td>0.9811850</td><td>0.938</td><td>0.415</td><td>1.186024e-23</td><td>GABA2_1</td><td>SDK1      </td></tr>\n",
       "\t<tr><th scope=row>6533</th><td>8.630554e-25</td><td>0.8943787</td><td>0.877</td><td>0.339</td><td>4.737657e-20</td><td>GABA2_1</td><td>RGS6      </td></tr>\n",
       "\t<tr><th scope=row>6550</th><td>4.782724e-20</td><td>0.8598084</td><td>0.846</td><td>0.370</td><td>2.625428e-15</td><td>GABA2_1</td><td>CLSTN2    </td></tr>\n",
       "\t<tr><th scope=row>6540</th><td>2.982783e-22</td><td>0.8356851</td><td>0.985</td><td>0.556</td><td>1.637369e-17</td><td>GABA2_1</td><td>CACNA2D3  </td></tr>\n",
       "\t<tr><th scope=row>6526</th><td>1.741740e-32</td><td>0.8259451</td><td>0.831</td><td>0.223</td><td>9.561109e-28</td><td>GABA2_1</td><td>SULF2     </td></tr>\n",
       "\t<tr><th scope=row>6531</th><td>4.036353e-26</td><td>0.8250089</td><td>0.877</td><td>0.349</td><td>2.215716e-21</td><td>GABA2_1</td><td>AC005906.2</td></tr>\n",
       "\t<tr><th scope=row>6559</th><td>5.896716e-18</td><td>0.8086602</td><td>0.862</td><td>0.461</td><td>3.236943e-13</td><td>GABA2_1</td><td>CDH12     </td></tr>\n",
       "\t<tr><th scope=row>6557</th><td>1.128792e-18</td><td>0.7894571</td><td>0.938</td><td>0.681</td><td>6.196389e-14</td><td>GABA2_1</td><td>ROBO1     </td></tr>\n",
       "\t<tr><th scope=row>6538</th><td>6.196560e-23</td><td>0.7601505</td><td>0.538</td><td>0.132</td><td>3.401540e-18</td><td>GABA2_1</td><td>NR2F2-AS1 </td></tr>\n",
       "\t<tr><th scope=row>6542</th><td>7.339922e-22</td><td>0.7419156</td><td>0.831</td><td>0.285</td><td>4.029177e-17</td><td>GABA2_1</td><td>ABTB2     </td></tr>\n",
       "\t<tr><th scope=row>6536</th><td>3.606401e-24</td><td>0.7410793</td><td>0.877</td><td>0.277</td><td>1.979698e-19</td><td>GABA2_1</td><td>PAX8      </td></tr>\n",
       "\t<tr><th scope=row>6566</th><td>6.132558e-17</td><td>0.7331882</td><td>0.923</td><td>0.555</td><td>3.366406e-12</td><td>GABA2_1</td><td>PDE10A    </td></tr>\n",
       "\t<tr><th scope=row>6547</th><td>2.687444e-20</td><td>0.7185191</td><td>0.831</td><td>0.354</td><td>1.475246e-15</td><td>GABA2_1</td><td>SV2C      </td></tr>\n",
       "\t<tr><th scope=row>6576</th><td>1.515999e-15</td><td>0.7185116</td><td>0.754</td><td>0.387</td><td>8.321923e-11</td><td>GABA2_1</td><td>PRR16     </td></tr>\n",
       "\t<tr><th scope=row>6541</th><td>6.335012e-22</td><td>0.7177509</td><td>0.815</td><td>0.325</td><td>3.477542e-17</td><td>GABA2_1</td><td>SILC1     </td></tr>\n",
       "\t<tr><th scope=row>6570</th><td>3.909937e-16</td><td>0.7177349</td><td>1.000</td><td>0.524</td><td>2.146321e-11</td><td>GABA2_1</td><td>DSCAML1   </td></tr>\n",
       "\t<tr><th scope=row>6545</th><td>7.984730e-21</td><td>0.7006510</td><td>0.754</td><td>0.265</td><td>4.383138e-16</td><td>GABA2_1</td><td>SORCS2    </td></tr>\n",
       "\t<tr><th scope=row>6556</th><td>1.124889e-18</td><td>0.6891626</td><td>0.985</td><td>0.636</td><td>6.174967e-14</td><td>GABA2_1</td><td>CALN1     </td></tr>\n",
       "\t<tr><th scope=row>6551</th><td>8.845073e-20</td><td>0.6629426</td><td>0.846</td><td>0.308</td><td>4.855414e-15</td><td>GABA2_1</td><td>NKAIN3    </td></tr>\n",
       "\t<tr><th scope=row>6565</th><td>5.067959e-17</td><td>0.6596210</td><td>0.954</td><td>0.589</td><td>2.782005e-12</td><td>GABA2_1</td><td>MGAT4C    </td></tr>\n",
       "\t<tr><th scope=row>6580</th><td>8.467872e-15</td><td>0.6510133</td><td>0.908</td><td>0.542</td><td>4.648354e-10</td><td>GABA2_1</td><td>CDH13     </td></tr>\n",
       "\t<tr><th scope=row>6579</th><td>6.937735e-15</td><td>0.6479428</td><td>0.908</td><td>0.536</td><td>3.808400e-10</td><td>GABA2_1</td><td>SORCS1    </td></tr>\n",
       "\t<tr><th scope=row>6553</th><td>5.038637e-19</td><td>0.6465872</td><td>1.000</td><td>0.789</td><td>2.765909e-14</td><td>GABA2_1</td><td>NRXN3     </td></tr>\n",
       "\t<tr><th scope=row>6529</th><td>1.515187e-26</td><td>0.6246660</td><td>0.754</td><td>0.214</td><td>8.317466e-22</td><td>GABA2_1</td><td>SYT2      </td></tr>\n",
       "\t<tr><th scope=row>6569</th><td>3.494421e-16</td><td>0.5805931</td><td>0.985</td><td>0.745</td><td>1.918227e-11</td><td>GABA2_1</td><td>GRIK2     </td></tr>\n",
       "\t<tr><th scope=row>6590</th><td>8.514573e-14</td><td>0.5783369</td><td>0.923</td><td>0.661</td><td>4.673990e-09</td><td>GABA2_1</td><td>PCDH7     </td></tr>\n",
       "\t<tr><th scope=row>6610</th><td>3.975991e-12</td><td>0.5759965</td><td>0.892</td><td>0.544</td><td>2.182581e-07</td><td>GABA2_1</td><td>PLCB1     </td></tr>\n",
       "\t<tr><th scope=row>6521</th><td>7.275739e-56</td><td>0.5636108</td><td>0.523</td><td>0.047</td><td>3.993944e-51</td><td>GABA2_1</td><td>GDNF-AS1  </td></tr>\n",
       "\t<tr><th scope=row>⋮</th><td>⋮</td><td>⋮</td><td>⋮</td><td>⋮</td><td>⋮</td><td>⋮</td><td>⋮</td></tr>\n",
       "\t<tr><th scope=row>6653</th><td>7.535243e-10</td><td>-0.6366846</td><td>0.492</td><td>0.713</td><td>4.136396e-05</td><td>GABA2_1</td><td>SEMA6D     </td></tr>\n",
       "\t<tr><th scope=row>6658</th><td>1.134572e-09</td><td>-0.6383811</td><td>0.400</td><td>0.657</td><td>6.228120e-05</td><td>GABA2_1</td><td>NEDD4L     </td></tr>\n",
       "\t<tr><th scope=row>6667</th><td>2.601050e-09</td><td>-0.6410212</td><td>0.538</td><td>0.713</td><td>1.427820e-04</td><td>GABA2_1</td><td>AK5        </td></tr>\n",
       "\t<tr><th scope=row>6729</th><td>2.720604e-07</td><td>-0.6531466</td><td>0.215</td><td>0.478</td><td>1.493448e-02</td><td>GABA2_1</td><td>TAFA2      </td></tr>\n",
       "\t<tr><th scope=row>6649</th><td>6.320038e-10</td><td>-0.6662990</td><td>0.200</td><td>0.551</td><td>3.469322e-05</td><td>GABA2_1</td><td>AC005747.1 </td></tr>\n",
       "\t<tr><th scope=row>6718</th><td>1.791466e-07</td><td>-0.6673315</td><td>0.015</td><td>0.323</td><td>9.834074e-03</td><td>GABA2_1</td><td>CASZ1      </td></tr>\n",
       "\t<tr><th scope=row>6830</th><td>1.932214e-05</td><td>-0.6769489</td><td>0.338</td><td>0.502</td><td>1.000000e+00</td><td>GABA2_1</td><td>EGFEM1P    </td></tr>\n",
       "\t<tr><th scope=row>6721</th><td>2.120839e-07</td><td>-0.6812755</td><td>0.062</td><td>0.366</td><td>1.164214e-02</td><td>GABA2_1</td><td>ZNF536     </td></tr>\n",
       "\t<tr><th scope=row>6571</th><td>5.406861e-16</td><td>-0.6893950</td><td>0.615</td><td>0.882</td><td>2.968042e-11</td><td>GABA2_1</td><td>NAV3       </td></tr>\n",
       "\t<tr><th scope=row>6562</th><td>2.398408e-17</td><td>-0.6983598</td><td>0.708</td><td>0.903</td><td>1.316582e-12</td><td>GABA2_1</td><td>EBF3       </td></tr>\n",
       "\t<tr><th scope=row>6767</th><td>1.510013e-06</td><td>-0.7036319</td><td>0.585</td><td>0.690</td><td>8.289066e-02</td><td>GABA2_1</td><td>TSHZ2      </td></tr>\n",
       "\t<tr><th scope=row>6652</th><td>7.335042e-10</td><td>-0.7050549</td><td>0.523</td><td>0.734</td><td>4.026498e-05</td><td>GABA2_1</td><td>RALYL      </td></tr>\n",
       "\t<tr><th scope=row>6727</th><td>2.453543e-07</td><td>-0.7355861</td><td>0.077</td><td>0.372</td><td>1.346848e-02</td><td>GABA2_1</td><td>ADAMTS9-AS2</td></tr>\n",
       "\t<tr><th scope=row>6574</th><td>1.094277e-15</td><td>-0.7392864</td><td>0.508</td><td>0.846</td><td>6.006922e-11</td><td>GABA2_1</td><td>KCNJ6      </td></tr>\n",
       "\t<tr><th scope=row>6766</th><td>1.493645e-06</td><td>-0.7432506</td><td>0.538</td><td>0.643</td><td>8.199213e-02</td><td>GABA2_1</td><td>GALNTL6    </td></tr>\n",
       "\t<tr><th scope=row>6636</th><td>1.006899e-10</td><td>-0.7538827</td><td>0.108</td><td>0.493</td><td>5.527273e-06</td><td>GABA2_1</td><td>RASGRF2    </td></tr>\n",
       "\t<tr><th scope=row>6640</th><td>1.904301e-10</td><td>-0.7653702</td><td>0.169</td><td>0.537</td><td>1.045347e-05</td><td>GABA2_1</td><td>BCL2       </td></tr>\n",
       "\t<tr><th scope=row>6552</th><td>2.108885e-19</td><td>-0.7852937</td><td>0.800</td><td>0.945</td><td>1.157651e-14</td><td>GABA2_1</td><td>KCNIP4     </td></tr>\n",
       "\t<tr><th scope=row>6592</th><td>1.113070e-13</td><td>-0.8200086</td><td>0.323</td><td>0.738</td><td>6.110086e-09</td><td>GABA2_1</td><td>CACNG4     </td></tr>\n",
       "\t<tr><th scope=row>6558</th><td>3.020549e-18</td><td>-0.8266840</td><td>0.615</td><td>0.846</td><td>1.658100e-13</td><td>GABA2_1</td><td>SPOCK1     </td></tr>\n",
       "\t<tr><th scope=row>6674</th><td>6.075242e-09</td><td>-0.8730262</td><td>0.077</td><td>0.422</td><td>3.334943e-04</td><td>GABA2_1</td><td>EBF2       </td></tr>\n",
       "\t<tr><th scope=row>6609</th><td>2.756608e-12</td><td>-0.8733987</td><td>0.123</td><td>0.557</td><td>1.513212e-07</td><td>GABA2_1</td><td>LUZP2      </td></tr>\n",
       "\t<tr><th scope=row>6626</th><td>3.101030e-11</td><td>-0.8941979</td><td>0.138</td><td>0.532</td><td>1.702279e-06</td><td>GABA2_1</td><td>SLC24A4    </td></tr>\n",
       "\t<tr><th scope=row>6573</th><td>8.787248e-16</td><td>-0.9063064</td><td>0.400</td><td>0.755</td><td>4.823672e-11</td><td>GABA2_1</td><td>KCNQ5      </td></tr>\n",
       "\t<tr><th scope=row>6648</th><td>5.799841e-10</td><td>-0.9324046</td><td>0.338</td><td>0.616</td><td>3.183765e-05</td><td>GABA2_1</td><td>SHISA6     </td></tr>\n",
       "\t<tr><th scope=row>6549</th><td>4.462107e-20</td><td>-0.9747754</td><td>0.538</td><td>0.868</td><td>2.449429e-15</td><td>GABA2_1</td><td>EBF1       </td></tr>\n",
       "\t<tr><th scope=row>6568</th><td>2.409999e-16</td><td>-1.0313674</td><td>0.046</td><td>0.595</td><td>1.322945e-11</td><td>GABA2_1</td><td>LMX1B      </td></tr>\n",
       "\t<tr><th scope=row>6554</th><td>5.470597e-19</td><td>-1.0398918</td><td>0.292</td><td>0.791</td><td>3.003029e-14</td><td>GABA2_1</td><td>ANKFN1     </td></tr>\n",
       "\t<tr><th scope=row>6532</th><td>9.925374e-26</td><td>-1.1419419</td><td>0.523</td><td>0.937</td><td>5.448435e-21</td><td>GABA2_1</td><td>PTPRD      </td></tr>\n",
       "\t<tr><th scope=row>6575</th><td>1.134962e-15</td><td>-1.1487731</td><td>0.154</td><td>0.632</td><td>6.230262e-11</td><td>GABA2_1</td><td>CACNA2D1   </td></tr>\n",
       "</tbody>\n",
       "</table>\n"
      ],
      "text/latex": [
       "A data.frame: 495 × 7\n",
       "\\begin{tabular}{r|lllllll}\n",
       "  & p\\_val & avg\\_log2FC & pct.1 & pct.2 & p\\_val\\_adj & cluster & gene\\\\\n",
       "  & <dbl> & <dbl> & <dbl> & <dbl> & <dbl> & <chr> & <chr>\\\\\n",
       "\\hline\n",
       "\t6524 & 2.432009e-35 & 1.0491516 & 0.969 & 0.363 & 1.335027e-30 & GABA2\\_1 & MIR34AHG  \\\\\n",
       "\t6523 & 1.501758e-39 & 1.0484559 & 0.846 & 0.191 & 8.243748e-35 & GABA2\\_1 & RORB      \\\\\n",
       "\t6528 & 2.160571e-28 & 0.9811850 & 0.938 & 0.415 & 1.186024e-23 & GABA2\\_1 & SDK1      \\\\\n",
       "\t6533 & 8.630554e-25 & 0.8943787 & 0.877 & 0.339 & 4.737657e-20 & GABA2\\_1 & RGS6      \\\\\n",
       "\t6550 & 4.782724e-20 & 0.8598084 & 0.846 & 0.370 & 2.625428e-15 & GABA2\\_1 & CLSTN2    \\\\\n",
       "\t6540 & 2.982783e-22 & 0.8356851 & 0.985 & 0.556 & 1.637369e-17 & GABA2\\_1 & CACNA2D3  \\\\\n",
       "\t6526 & 1.741740e-32 & 0.8259451 & 0.831 & 0.223 & 9.561109e-28 & GABA2\\_1 & SULF2     \\\\\n",
       "\t6531 & 4.036353e-26 & 0.8250089 & 0.877 & 0.349 & 2.215716e-21 & GABA2\\_1 & AC005906.2\\\\\n",
       "\t6559 & 5.896716e-18 & 0.8086602 & 0.862 & 0.461 & 3.236943e-13 & GABA2\\_1 & CDH12     \\\\\n",
       "\t6557 & 1.128792e-18 & 0.7894571 & 0.938 & 0.681 & 6.196389e-14 & GABA2\\_1 & ROBO1     \\\\\n",
       "\t6538 & 6.196560e-23 & 0.7601505 & 0.538 & 0.132 & 3.401540e-18 & GABA2\\_1 & NR2F2-AS1 \\\\\n",
       "\t6542 & 7.339922e-22 & 0.7419156 & 0.831 & 0.285 & 4.029177e-17 & GABA2\\_1 & ABTB2     \\\\\n",
       "\t6536 & 3.606401e-24 & 0.7410793 & 0.877 & 0.277 & 1.979698e-19 & GABA2\\_1 & PAX8      \\\\\n",
       "\t6566 & 6.132558e-17 & 0.7331882 & 0.923 & 0.555 & 3.366406e-12 & GABA2\\_1 & PDE10A    \\\\\n",
       "\t6547 & 2.687444e-20 & 0.7185191 & 0.831 & 0.354 & 1.475246e-15 & GABA2\\_1 & SV2C      \\\\\n",
       "\t6576 & 1.515999e-15 & 0.7185116 & 0.754 & 0.387 & 8.321923e-11 & GABA2\\_1 & PRR16     \\\\\n",
       "\t6541 & 6.335012e-22 & 0.7177509 & 0.815 & 0.325 & 3.477542e-17 & GABA2\\_1 & SILC1     \\\\\n",
       "\t6570 & 3.909937e-16 & 0.7177349 & 1.000 & 0.524 & 2.146321e-11 & GABA2\\_1 & DSCAML1   \\\\\n",
       "\t6545 & 7.984730e-21 & 0.7006510 & 0.754 & 0.265 & 4.383138e-16 & GABA2\\_1 & SORCS2    \\\\\n",
       "\t6556 & 1.124889e-18 & 0.6891626 & 0.985 & 0.636 & 6.174967e-14 & GABA2\\_1 & CALN1     \\\\\n",
       "\t6551 & 8.845073e-20 & 0.6629426 & 0.846 & 0.308 & 4.855414e-15 & GABA2\\_1 & NKAIN3    \\\\\n",
       "\t6565 & 5.067959e-17 & 0.6596210 & 0.954 & 0.589 & 2.782005e-12 & GABA2\\_1 & MGAT4C    \\\\\n",
       "\t6580 & 8.467872e-15 & 0.6510133 & 0.908 & 0.542 & 4.648354e-10 & GABA2\\_1 & CDH13     \\\\\n",
       "\t6579 & 6.937735e-15 & 0.6479428 & 0.908 & 0.536 & 3.808400e-10 & GABA2\\_1 & SORCS1    \\\\\n",
       "\t6553 & 5.038637e-19 & 0.6465872 & 1.000 & 0.789 & 2.765909e-14 & GABA2\\_1 & NRXN3     \\\\\n",
       "\t6529 & 1.515187e-26 & 0.6246660 & 0.754 & 0.214 & 8.317466e-22 & GABA2\\_1 & SYT2      \\\\\n",
       "\t6569 & 3.494421e-16 & 0.5805931 & 0.985 & 0.745 & 1.918227e-11 & GABA2\\_1 & GRIK2     \\\\\n",
       "\t6590 & 8.514573e-14 & 0.5783369 & 0.923 & 0.661 & 4.673990e-09 & GABA2\\_1 & PCDH7     \\\\\n",
       "\t6610 & 3.975991e-12 & 0.5759965 & 0.892 & 0.544 & 2.182581e-07 & GABA2\\_1 & PLCB1     \\\\\n",
       "\t6521 & 7.275739e-56 & 0.5636108 & 0.523 & 0.047 & 3.993944e-51 & GABA2\\_1 & GDNF-AS1  \\\\\n",
       "\t⋮ & ⋮ & ⋮ & ⋮ & ⋮ & ⋮ & ⋮ & ⋮\\\\\n",
       "\t6653 & 7.535243e-10 & -0.6366846 & 0.492 & 0.713 & 4.136396e-05 & GABA2\\_1 & SEMA6D     \\\\\n",
       "\t6658 & 1.134572e-09 & -0.6383811 & 0.400 & 0.657 & 6.228120e-05 & GABA2\\_1 & NEDD4L     \\\\\n",
       "\t6667 & 2.601050e-09 & -0.6410212 & 0.538 & 0.713 & 1.427820e-04 & GABA2\\_1 & AK5        \\\\\n",
       "\t6729 & 2.720604e-07 & -0.6531466 & 0.215 & 0.478 & 1.493448e-02 & GABA2\\_1 & TAFA2      \\\\\n",
       "\t6649 & 6.320038e-10 & -0.6662990 & 0.200 & 0.551 & 3.469322e-05 & GABA2\\_1 & AC005747.1 \\\\\n",
       "\t6718 & 1.791466e-07 & -0.6673315 & 0.015 & 0.323 & 9.834074e-03 & GABA2\\_1 & CASZ1      \\\\\n",
       "\t6830 & 1.932214e-05 & -0.6769489 & 0.338 & 0.502 & 1.000000e+00 & GABA2\\_1 & EGFEM1P    \\\\\n",
       "\t6721 & 2.120839e-07 & -0.6812755 & 0.062 & 0.366 & 1.164214e-02 & GABA2\\_1 & ZNF536     \\\\\n",
       "\t6571 & 5.406861e-16 & -0.6893950 & 0.615 & 0.882 & 2.968042e-11 & GABA2\\_1 & NAV3       \\\\\n",
       "\t6562 & 2.398408e-17 & -0.6983598 & 0.708 & 0.903 & 1.316582e-12 & GABA2\\_1 & EBF3       \\\\\n",
       "\t6767 & 1.510013e-06 & -0.7036319 & 0.585 & 0.690 & 8.289066e-02 & GABA2\\_1 & TSHZ2      \\\\\n",
       "\t6652 & 7.335042e-10 & -0.7050549 & 0.523 & 0.734 & 4.026498e-05 & GABA2\\_1 & RALYL      \\\\\n",
       "\t6727 & 2.453543e-07 & -0.7355861 & 0.077 & 0.372 & 1.346848e-02 & GABA2\\_1 & ADAMTS9-AS2\\\\\n",
       "\t6574 & 1.094277e-15 & -0.7392864 & 0.508 & 0.846 & 6.006922e-11 & GABA2\\_1 & KCNJ6      \\\\\n",
       "\t6766 & 1.493645e-06 & -0.7432506 & 0.538 & 0.643 & 8.199213e-02 & GABA2\\_1 & GALNTL6    \\\\\n",
       "\t6636 & 1.006899e-10 & -0.7538827 & 0.108 & 0.493 & 5.527273e-06 & GABA2\\_1 & RASGRF2    \\\\\n",
       "\t6640 & 1.904301e-10 & -0.7653702 & 0.169 & 0.537 & 1.045347e-05 & GABA2\\_1 & BCL2       \\\\\n",
       "\t6552 & 2.108885e-19 & -0.7852937 & 0.800 & 0.945 & 1.157651e-14 & GABA2\\_1 & KCNIP4     \\\\\n",
       "\t6592 & 1.113070e-13 & -0.8200086 & 0.323 & 0.738 & 6.110086e-09 & GABA2\\_1 & CACNG4     \\\\\n",
       "\t6558 & 3.020549e-18 & -0.8266840 & 0.615 & 0.846 & 1.658100e-13 & GABA2\\_1 & SPOCK1     \\\\\n",
       "\t6674 & 6.075242e-09 & -0.8730262 & 0.077 & 0.422 & 3.334943e-04 & GABA2\\_1 & EBF2       \\\\\n",
       "\t6609 & 2.756608e-12 & -0.8733987 & 0.123 & 0.557 & 1.513212e-07 & GABA2\\_1 & LUZP2      \\\\\n",
       "\t6626 & 3.101030e-11 & -0.8941979 & 0.138 & 0.532 & 1.702279e-06 & GABA2\\_1 & SLC24A4    \\\\\n",
       "\t6573 & 8.787248e-16 & -0.9063064 & 0.400 & 0.755 & 4.823672e-11 & GABA2\\_1 & KCNQ5      \\\\\n",
       "\t6648 & 5.799841e-10 & -0.9324046 & 0.338 & 0.616 & 3.183765e-05 & GABA2\\_1 & SHISA6     \\\\\n",
       "\t6549 & 4.462107e-20 & -0.9747754 & 0.538 & 0.868 & 2.449429e-15 & GABA2\\_1 & EBF1       \\\\\n",
       "\t6568 & 2.409999e-16 & -1.0313674 & 0.046 & 0.595 & 1.322945e-11 & GABA2\\_1 & LMX1B      \\\\\n",
       "\t6554 & 5.470597e-19 & -1.0398918 & 0.292 & 0.791 & 3.003029e-14 & GABA2\\_1 & ANKFN1     \\\\\n",
       "\t6532 & 9.925374e-26 & -1.1419419 & 0.523 & 0.937 & 5.448435e-21 & GABA2\\_1 & PTPRD      \\\\\n",
       "\t6575 & 1.134962e-15 & -1.1487731 & 0.154 & 0.632 & 6.230262e-11 & GABA2\\_1 & CACNA2D1   \\\\\n",
       "\\end{tabular}\n"
      ],
      "text/markdown": [
       "\n",
       "A data.frame: 495 × 7\n",
       "\n",
       "| <!--/--> | p_val &lt;dbl&gt; | avg_log2FC &lt;dbl&gt; | pct.1 &lt;dbl&gt; | pct.2 &lt;dbl&gt; | p_val_adj &lt;dbl&gt; | cluster &lt;chr&gt; | gene &lt;chr&gt; |\n",
       "|---|---|---|---|---|---|---|---|\n",
       "| 6524 | 2.432009e-35 | 1.0491516 | 0.969 | 0.363 | 1.335027e-30 | GABA2_1 | MIR34AHG   |\n",
       "| 6523 | 1.501758e-39 | 1.0484559 | 0.846 | 0.191 | 8.243748e-35 | GABA2_1 | RORB       |\n",
       "| 6528 | 2.160571e-28 | 0.9811850 | 0.938 | 0.415 | 1.186024e-23 | GABA2_1 | SDK1       |\n",
       "| 6533 | 8.630554e-25 | 0.8943787 | 0.877 | 0.339 | 4.737657e-20 | GABA2_1 | RGS6       |\n",
       "| 6550 | 4.782724e-20 | 0.8598084 | 0.846 | 0.370 | 2.625428e-15 | GABA2_1 | CLSTN2     |\n",
       "| 6540 | 2.982783e-22 | 0.8356851 | 0.985 | 0.556 | 1.637369e-17 | GABA2_1 | CACNA2D3   |\n",
       "| 6526 | 1.741740e-32 | 0.8259451 | 0.831 | 0.223 | 9.561109e-28 | GABA2_1 | SULF2      |\n",
       "| 6531 | 4.036353e-26 | 0.8250089 | 0.877 | 0.349 | 2.215716e-21 | GABA2_1 | AC005906.2 |\n",
       "| 6559 | 5.896716e-18 | 0.8086602 | 0.862 | 0.461 | 3.236943e-13 | GABA2_1 | CDH12      |\n",
       "| 6557 | 1.128792e-18 | 0.7894571 | 0.938 | 0.681 | 6.196389e-14 | GABA2_1 | ROBO1      |\n",
       "| 6538 | 6.196560e-23 | 0.7601505 | 0.538 | 0.132 | 3.401540e-18 | GABA2_1 | NR2F2-AS1  |\n",
       "| 6542 | 7.339922e-22 | 0.7419156 | 0.831 | 0.285 | 4.029177e-17 | GABA2_1 | ABTB2      |\n",
       "| 6536 | 3.606401e-24 | 0.7410793 | 0.877 | 0.277 | 1.979698e-19 | GABA2_1 | PAX8       |\n",
       "| 6566 | 6.132558e-17 | 0.7331882 | 0.923 | 0.555 | 3.366406e-12 | GABA2_1 | PDE10A     |\n",
       "| 6547 | 2.687444e-20 | 0.7185191 | 0.831 | 0.354 | 1.475246e-15 | GABA2_1 | SV2C       |\n",
       "| 6576 | 1.515999e-15 | 0.7185116 | 0.754 | 0.387 | 8.321923e-11 | GABA2_1 | PRR16      |\n",
       "| 6541 | 6.335012e-22 | 0.7177509 | 0.815 | 0.325 | 3.477542e-17 | GABA2_1 | SILC1      |\n",
       "| 6570 | 3.909937e-16 | 0.7177349 | 1.000 | 0.524 | 2.146321e-11 | GABA2_1 | DSCAML1    |\n",
       "| 6545 | 7.984730e-21 | 0.7006510 | 0.754 | 0.265 | 4.383138e-16 | GABA2_1 | SORCS2     |\n",
       "| 6556 | 1.124889e-18 | 0.6891626 | 0.985 | 0.636 | 6.174967e-14 | GABA2_1 | CALN1      |\n",
       "| 6551 | 8.845073e-20 | 0.6629426 | 0.846 | 0.308 | 4.855414e-15 | GABA2_1 | NKAIN3     |\n",
       "| 6565 | 5.067959e-17 | 0.6596210 | 0.954 | 0.589 | 2.782005e-12 | GABA2_1 | MGAT4C     |\n",
       "| 6580 | 8.467872e-15 | 0.6510133 | 0.908 | 0.542 | 4.648354e-10 | GABA2_1 | CDH13      |\n",
       "| 6579 | 6.937735e-15 | 0.6479428 | 0.908 | 0.536 | 3.808400e-10 | GABA2_1 | SORCS1     |\n",
       "| 6553 | 5.038637e-19 | 0.6465872 | 1.000 | 0.789 | 2.765909e-14 | GABA2_1 | NRXN3      |\n",
       "| 6529 | 1.515187e-26 | 0.6246660 | 0.754 | 0.214 | 8.317466e-22 | GABA2_1 | SYT2       |\n",
       "| 6569 | 3.494421e-16 | 0.5805931 | 0.985 | 0.745 | 1.918227e-11 | GABA2_1 | GRIK2      |\n",
       "| 6590 | 8.514573e-14 | 0.5783369 | 0.923 | 0.661 | 4.673990e-09 | GABA2_1 | PCDH7      |\n",
       "| 6610 | 3.975991e-12 | 0.5759965 | 0.892 | 0.544 | 2.182581e-07 | GABA2_1 | PLCB1      |\n",
       "| 6521 | 7.275739e-56 | 0.5636108 | 0.523 | 0.047 | 3.993944e-51 | GABA2_1 | GDNF-AS1   |\n",
       "| ⋮ | ⋮ | ⋮ | ⋮ | ⋮ | ⋮ | ⋮ | ⋮ |\n",
       "| 6653 | 7.535243e-10 | -0.6366846 | 0.492 | 0.713 | 4.136396e-05 | GABA2_1 | SEMA6D      |\n",
       "| 6658 | 1.134572e-09 | -0.6383811 | 0.400 | 0.657 | 6.228120e-05 | GABA2_1 | NEDD4L      |\n",
       "| 6667 | 2.601050e-09 | -0.6410212 | 0.538 | 0.713 | 1.427820e-04 | GABA2_1 | AK5         |\n",
       "| 6729 | 2.720604e-07 | -0.6531466 | 0.215 | 0.478 | 1.493448e-02 | GABA2_1 | TAFA2       |\n",
       "| 6649 | 6.320038e-10 | -0.6662990 | 0.200 | 0.551 | 3.469322e-05 | GABA2_1 | AC005747.1  |\n",
       "| 6718 | 1.791466e-07 | -0.6673315 | 0.015 | 0.323 | 9.834074e-03 | GABA2_1 | CASZ1       |\n",
       "| 6830 | 1.932214e-05 | -0.6769489 | 0.338 | 0.502 | 1.000000e+00 | GABA2_1 | EGFEM1P     |\n",
       "| 6721 | 2.120839e-07 | -0.6812755 | 0.062 | 0.366 | 1.164214e-02 | GABA2_1 | ZNF536      |\n",
       "| 6571 | 5.406861e-16 | -0.6893950 | 0.615 | 0.882 | 2.968042e-11 | GABA2_1 | NAV3        |\n",
       "| 6562 | 2.398408e-17 | -0.6983598 | 0.708 | 0.903 | 1.316582e-12 | GABA2_1 | EBF3        |\n",
       "| 6767 | 1.510013e-06 | -0.7036319 | 0.585 | 0.690 | 8.289066e-02 | GABA2_1 | TSHZ2       |\n",
       "| 6652 | 7.335042e-10 | -0.7050549 | 0.523 | 0.734 | 4.026498e-05 | GABA2_1 | RALYL       |\n",
       "| 6727 | 2.453543e-07 | -0.7355861 | 0.077 | 0.372 | 1.346848e-02 | GABA2_1 | ADAMTS9-AS2 |\n",
       "| 6574 | 1.094277e-15 | -0.7392864 | 0.508 | 0.846 | 6.006922e-11 | GABA2_1 | KCNJ6       |\n",
       "| 6766 | 1.493645e-06 | -0.7432506 | 0.538 | 0.643 | 8.199213e-02 | GABA2_1 | GALNTL6     |\n",
       "| 6636 | 1.006899e-10 | -0.7538827 | 0.108 | 0.493 | 5.527273e-06 | GABA2_1 | RASGRF2     |\n",
       "| 6640 | 1.904301e-10 | -0.7653702 | 0.169 | 0.537 | 1.045347e-05 | GABA2_1 | BCL2        |\n",
       "| 6552 | 2.108885e-19 | -0.7852937 | 0.800 | 0.945 | 1.157651e-14 | GABA2_1 | KCNIP4      |\n",
       "| 6592 | 1.113070e-13 | -0.8200086 | 0.323 | 0.738 | 6.110086e-09 | GABA2_1 | CACNG4      |\n",
       "| 6558 | 3.020549e-18 | -0.8266840 | 0.615 | 0.846 | 1.658100e-13 | GABA2_1 | SPOCK1      |\n",
       "| 6674 | 6.075242e-09 | -0.8730262 | 0.077 | 0.422 | 3.334943e-04 | GABA2_1 | EBF2        |\n",
       "| 6609 | 2.756608e-12 | -0.8733987 | 0.123 | 0.557 | 1.513212e-07 | GABA2_1 | LUZP2       |\n",
       "| 6626 | 3.101030e-11 | -0.8941979 | 0.138 | 0.532 | 1.702279e-06 | GABA2_1 | SLC24A4     |\n",
       "| 6573 | 8.787248e-16 | -0.9063064 | 0.400 | 0.755 | 4.823672e-11 | GABA2_1 | KCNQ5       |\n",
       "| 6648 | 5.799841e-10 | -0.9324046 | 0.338 | 0.616 | 3.183765e-05 | GABA2_1 | SHISA6      |\n",
       "| 6549 | 4.462107e-20 | -0.9747754 | 0.538 | 0.868 | 2.449429e-15 | GABA2_1 | EBF1        |\n",
       "| 6568 | 2.409999e-16 | -1.0313674 | 0.046 | 0.595 | 1.322945e-11 | GABA2_1 | LMX1B       |\n",
       "| 6554 | 5.470597e-19 | -1.0398918 | 0.292 | 0.791 | 3.003029e-14 | GABA2_1 | ANKFN1      |\n",
       "| 6532 | 9.925374e-26 | -1.1419419 | 0.523 | 0.937 | 5.448435e-21 | GABA2_1 | PTPRD       |\n",
       "| 6575 | 1.134962e-15 | -1.1487731 | 0.154 | 0.632 | 6.230262e-11 | GABA2_1 | CACNA2D1    |\n",
       "\n"
      ],
      "text/plain": [
       "     p_val        avg_log2FC pct.1 pct.2 p_val_adj    cluster gene       \n",
       "6524 2.432009e-35 1.0491516  0.969 0.363 1.335027e-30 GABA2_1 MIR34AHG   \n",
       "6523 1.501758e-39 1.0484559  0.846 0.191 8.243748e-35 GABA2_1 RORB       \n",
       "6528 2.160571e-28 0.9811850  0.938 0.415 1.186024e-23 GABA2_1 SDK1       \n",
       "6533 8.630554e-25 0.8943787  0.877 0.339 4.737657e-20 GABA2_1 RGS6       \n",
       "6550 4.782724e-20 0.8598084  0.846 0.370 2.625428e-15 GABA2_1 CLSTN2     \n",
       "6540 2.982783e-22 0.8356851  0.985 0.556 1.637369e-17 GABA2_1 CACNA2D3   \n",
       "6526 1.741740e-32 0.8259451  0.831 0.223 9.561109e-28 GABA2_1 SULF2      \n",
       "6531 4.036353e-26 0.8250089  0.877 0.349 2.215716e-21 GABA2_1 AC005906.2 \n",
       "6559 5.896716e-18 0.8086602  0.862 0.461 3.236943e-13 GABA2_1 CDH12      \n",
       "6557 1.128792e-18 0.7894571  0.938 0.681 6.196389e-14 GABA2_1 ROBO1      \n",
       "6538 6.196560e-23 0.7601505  0.538 0.132 3.401540e-18 GABA2_1 NR2F2-AS1  \n",
       "6542 7.339922e-22 0.7419156  0.831 0.285 4.029177e-17 GABA2_1 ABTB2      \n",
       "6536 3.606401e-24 0.7410793  0.877 0.277 1.979698e-19 GABA2_1 PAX8       \n",
       "6566 6.132558e-17 0.7331882  0.923 0.555 3.366406e-12 GABA2_1 PDE10A     \n",
       "6547 2.687444e-20 0.7185191  0.831 0.354 1.475246e-15 GABA2_1 SV2C       \n",
       "6576 1.515999e-15 0.7185116  0.754 0.387 8.321923e-11 GABA2_1 PRR16      \n",
       "6541 6.335012e-22 0.7177509  0.815 0.325 3.477542e-17 GABA2_1 SILC1      \n",
       "6570 3.909937e-16 0.7177349  1.000 0.524 2.146321e-11 GABA2_1 DSCAML1    \n",
       "6545 7.984730e-21 0.7006510  0.754 0.265 4.383138e-16 GABA2_1 SORCS2     \n",
       "6556 1.124889e-18 0.6891626  0.985 0.636 6.174967e-14 GABA2_1 CALN1      \n",
       "6551 8.845073e-20 0.6629426  0.846 0.308 4.855414e-15 GABA2_1 NKAIN3     \n",
       "6565 5.067959e-17 0.6596210  0.954 0.589 2.782005e-12 GABA2_1 MGAT4C     \n",
       "6580 8.467872e-15 0.6510133  0.908 0.542 4.648354e-10 GABA2_1 CDH13      \n",
       "6579 6.937735e-15 0.6479428  0.908 0.536 3.808400e-10 GABA2_1 SORCS1     \n",
       "6553 5.038637e-19 0.6465872  1.000 0.789 2.765909e-14 GABA2_1 NRXN3      \n",
       "6529 1.515187e-26 0.6246660  0.754 0.214 8.317466e-22 GABA2_1 SYT2       \n",
       "6569 3.494421e-16 0.5805931  0.985 0.745 1.918227e-11 GABA2_1 GRIK2      \n",
       "6590 8.514573e-14 0.5783369  0.923 0.661 4.673990e-09 GABA2_1 PCDH7      \n",
       "6610 3.975991e-12 0.5759965  0.892 0.544 2.182581e-07 GABA2_1 PLCB1      \n",
       "6521 7.275739e-56 0.5636108  0.523 0.047 3.993944e-51 GABA2_1 GDNF-AS1   \n",
       "⋮    ⋮            ⋮          ⋮     ⋮     ⋮            ⋮       ⋮          \n",
       "6653 7.535243e-10 -0.6366846 0.492 0.713 4.136396e-05 GABA2_1 SEMA6D     \n",
       "6658 1.134572e-09 -0.6383811 0.400 0.657 6.228120e-05 GABA2_1 NEDD4L     \n",
       "6667 2.601050e-09 -0.6410212 0.538 0.713 1.427820e-04 GABA2_1 AK5        \n",
       "6729 2.720604e-07 -0.6531466 0.215 0.478 1.493448e-02 GABA2_1 TAFA2      \n",
       "6649 6.320038e-10 -0.6662990 0.200 0.551 3.469322e-05 GABA2_1 AC005747.1 \n",
       "6718 1.791466e-07 -0.6673315 0.015 0.323 9.834074e-03 GABA2_1 CASZ1      \n",
       "6830 1.932214e-05 -0.6769489 0.338 0.502 1.000000e+00 GABA2_1 EGFEM1P    \n",
       "6721 2.120839e-07 -0.6812755 0.062 0.366 1.164214e-02 GABA2_1 ZNF536     \n",
       "6571 5.406861e-16 -0.6893950 0.615 0.882 2.968042e-11 GABA2_1 NAV3       \n",
       "6562 2.398408e-17 -0.6983598 0.708 0.903 1.316582e-12 GABA2_1 EBF3       \n",
       "6767 1.510013e-06 -0.7036319 0.585 0.690 8.289066e-02 GABA2_1 TSHZ2      \n",
       "6652 7.335042e-10 -0.7050549 0.523 0.734 4.026498e-05 GABA2_1 RALYL      \n",
       "6727 2.453543e-07 -0.7355861 0.077 0.372 1.346848e-02 GABA2_1 ADAMTS9-AS2\n",
       "6574 1.094277e-15 -0.7392864 0.508 0.846 6.006922e-11 GABA2_1 KCNJ6      \n",
       "6766 1.493645e-06 -0.7432506 0.538 0.643 8.199213e-02 GABA2_1 GALNTL6    \n",
       "6636 1.006899e-10 -0.7538827 0.108 0.493 5.527273e-06 GABA2_1 RASGRF2    \n",
       "6640 1.904301e-10 -0.7653702 0.169 0.537 1.045347e-05 GABA2_1 BCL2       \n",
       "6552 2.108885e-19 -0.7852937 0.800 0.945 1.157651e-14 GABA2_1 KCNIP4     \n",
       "6592 1.113070e-13 -0.8200086 0.323 0.738 6.110086e-09 GABA2_1 CACNG4     \n",
       "6558 3.020549e-18 -0.8266840 0.615 0.846 1.658100e-13 GABA2_1 SPOCK1     \n",
       "6674 6.075242e-09 -0.8730262 0.077 0.422 3.334943e-04 GABA2_1 EBF2       \n",
       "6609 2.756608e-12 -0.8733987 0.123 0.557 1.513212e-07 GABA2_1 LUZP2      \n",
       "6626 3.101030e-11 -0.8941979 0.138 0.532 1.702279e-06 GABA2_1 SLC24A4    \n",
       "6573 8.787248e-16 -0.9063064 0.400 0.755 4.823672e-11 GABA2_1 KCNQ5      \n",
       "6648 5.799841e-10 -0.9324046 0.338 0.616 3.183765e-05 GABA2_1 SHISA6     \n",
       "6549 4.462107e-20 -0.9747754 0.538 0.868 2.449429e-15 GABA2_1 EBF1       \n",
       "6568 2.409999e-16 -1.0313674 0.046 0.595 1.322945e-11 GABA2_1 LMX1B      \n",
       "6554 5.470597e-19 -1.0398918 0.292 0.791 3.003029e-14 GABA2_1 ANKFN1     \n",
       "6532 9.925374e-26 -1.1419419 0.523 0.937 5.448435e-21 GABA2_1 PTPRD      \n",
       "6575 1.134962e-15 -1.1487731 0.154 0.632 6.230262e-11 GABA2_1 CACNA2D1   "
      ]
     },
     "metadata": {},
     "output_type": "display_data"
    }
   ],
   "source": [
    "just_gaba2_1_macaque = all.markers.macaque[all.markers.macaque$cluster == 'GABA2_1',]\n",
    "just_gaba2_1_macaque[order(just_gaba2_1_macaque$avg_log2FC, decreasing = TRUE),]"
   ]
  },
  {
   "cell_type": "markdown",
   "id": "fb64d5d4-fa37-4068-b205-97eab60b4c57",
   "metadata": {
    "tags": []
   },
   "source": [
    "# 3. Explore cell type specific marker genes"
   ]
  },
  {
   "cell_type": "code",
   "execution_count": null,
   "id": "412ffa0d-127d-44be-bfe8-80f2771baf6a",
   "metadata": {},
   "outputs": [],
   "source": []
  },
  {
   "cell_type": "code",
   "execution_count": 1,
   "id": "df159108-9433-4bff-8abc-da8493eab482",
   "metadata": {},
   "outputs": [
    {
     "name": "stderr",
     "output_type": "stream",
     "text": [
      "Warning message:\n",
      "“package ‘here’ was built under R version 4.1.3”\n",
      "here() starts at /projects/pfenninggroup/singleCell/Macaque_SealDorsalHorn_snATAC-seq\n",
      "\n"
     ]
    }
   ],
   "source": [
    "# load previously generate marker genes\n",
    "library(here)\n",
    "filename1 = here(paste0('data/tidy_data/tables/xspecies_marker_genes','2023-08-16','.csv'))\n",
    "filename2 = here(paste0('data/tidy_data/tables/xspecies_unique_marker_genes','2023-08-16','.csv'))\n",
    "macaque_human_mouse <- read.csv(filename1)\n",
    "macaque_human_mouse_specific <- read.csv(filename2)\n",
    "\n",
    "filename3 = here(paste0('data/tidy_data/tables/macaque_mouse_marker_genes','2023-08-16','.csv'))\n",
    "filename4 = here(paste0('data/tidy_data/tables/macaque_mouse_unique_marker_genes','2023-08-16','.csv'))\n",
    "macaque_mouse <- read.csv(filename3)\n",
    "macaque_mouse_specific <- read.csv(filename4)"
   ]
  },
  {
   "cell_type": "code",
   "execution_count": 77,
   "id": "1a91dca3-bd6b-4734-9bda-375f3ea0177a",
   "metadata": {},
   "outputs": [
    {
     "data": {
      "text/html": [
       "<style>\n",
       ".list-inline {list-style: none; margin:0; padding: 0}\n",
       ".list-inline>li {display: inline-block}\n",
       ".list-inline>li:not(:last-child)::after {content: \"\\00b7\"; padding: 0 .5ex}\n",
       "</style>\n",
       "<ol class=list-inline><li>'PBX3'</li><li>'SLIT2'</li><li>'VWC2'</li></ol>\n"
      ],
      "text/latex": [
       "\\begin{enumerate*}\n",
       "\\item 'PBX3'\n",
       "\\item 'SLIT2'\n",
       "\\item 'VWC2'\n",
       "\\end{enumerate*}\n"
      ],
      "text/markdown": [
       "1. 'PBX3'\n",
       "2. 'SLIT2'\n",
       "3. 'VWC2'\n",
       "\n",
       "\n"
      ],
      "text/plain": [
       "[1] \"PBX3\"  \"SLIT2\" \"VWC2\" "
      ]
     },
     "metadata": {},
     "output_type": "display_data"
    }
   ],
   "source": [
    "### first get glut11\n",
    "stringent_macaque_mouse = macaque_mouse_specific[macaque_mouse_specific$avg_log2FC.macaque > .5,]\n",
    "stringent_macaque_mouse[stringent_macaque_mouse$cluster == 'GLUT11',]$gene"
   ]
  },
  {
   "cell_type": "code",
   "execution_count": 3,
   "id": "e8fe7b35-303e-40f4-acb6-43354b024a6c",
   "metadata": {},
   "outputs": [],
   "source": [
    "stringent = macaque_human_mouse_specific[macaque_human_mouse_specific$avg_log2FC > 0.6,]"
   ]
  },
  {
   "cell_type": "code",
   "execution_count": 48,
   "id": "bafd7b44-40e7-485e-8217-9803de12e9d3",
   "metadata": {},
   "outputs": [
    {
     "data": {
      "text/html": [
       "<style>\n",
       ".list-inline {list-style: none; margin:0; padding: 0}\n",
       ".list-inline>li {display: inline-block}\n",
       ".list-inline>li:not(:last-child)::after {content: \"\\00b7\"; padding: 0 .5ex}\n",
       "</style>\n",
       "<ol class=list-inline><li>'GABRG3'</li><li>'HMGA2'</li></ol>\n"
      ],
      "text/latex": [
       "\\begin{enumerate*}\n",
       "\\item 'GABRG3'\n",
       "\\item 'HMGA2'\n",
       "\\end{enumerate*}\n"
      ],
      "text/markdown": [
       "1. 'GABRG3'\n",
       "2. 'HMGA2'\n",
       "\n",
       "\n"
      ],
      "text/plain": [
       "[1] \"GABRG3\" \"HMGA2\" "
      ]
     },
     "metadata": {},
     "output_type": "display_data"
    }
   ],
   "source": [
    "\n",
    "stringent[stringent$cluster == 'GLUT1',]$gene"
   ]
  },
  {
   "cell_type": "code",
   "execution_count": 49,
   "id": "35dd30fb-9186-40f7-baa0-189a76e38657",
   "metadata": {},
   "outputs": [
    {
     "data": {
      "text/html": [
       "<style>\n",
       ".list-inline {list-style: none; margin:0; padding: 0}\n",
       ".list-inline>li {display: inline-block}\n",
       ".list-inline>li:not(:last-child)::after {content: \"\\00b7\"; padding: 0 .5ex}\n",
       "</style>\n",
       "<ol class=list-inline><li>'C8orf34'</li><li>'NMUR2'</li></ol>\n"
      ],
      "text/latex": [
       "\\begin{enumerate*}\n",
       "\\item 'C8orf34'\n",
       "\\item 'NMUR2'\n",
       "\\end{enumerate*}\n"
      ],
      "text/markdown": [
       "1. 'C8orf34'\n",
       "2. 'NMUR2'\n",
       "\n",
       "\n"
      ],
      "text/plain": [
       "[1] \"C8orf34\" \"NMUR2\"  "
      ]
     },
     "metadata": {},
     "output_type": "display_data"
    }
   ],
   "source": [
    "stringent[stringent$cluster == 'GLUT2',]$gene"
   ]
  },
  {
   "cell_type": "code",
   "execution_count": 50,
   "id": "52927d92-48cc-40b3-a78d-f810001a93fc",
   "metadata": {},
   "outputs": [
    {
     "data": {
      "text/html": [
       "<style>\n",
       ".list-inline {list-style: none; margin:0; padding: 0}\n",
       ".list-inline>li {display: inline-block}\n",
       ".list-inline>li:not(:last-child)::after {content: \"\\00b7\"; padding: 0 .5ex}\n",
       "</style>\n",
       "<ol class=list-inline><li>'CDH10'</li><li>'GRID1'</li><li>'NMU'</li><li>'SEMA3C'</li><li>'TAC3'</li></ol>\n"
      ],
      "text/latex": [
       "\\begin{enumerate*}\n",
       "\\item 'CDH10'\n",
       "\\item 'GRID1'\n",
       "\\item 'NMU'\n",
       "\\item 'SEMA3C'\n",
       "\\item 'TAC3'\n",
       "\\end{enumerate*}\n"
      ],
      "text/markdown": [
       "1. 'CDH10'\n",
       "2. 'GRID1'\n",
       "3. 'NMU'\n",
       "4. 'SEMA3C'\n",
       "5. 'TAC3'\n",
       "\n",
       "\n"
      ],
      "text/plain": [
       "[1] \"CDH10\"  \"GRID1\"  \"NMU\"    \"SEMA3C\" \"TAC3\"  "
      ]
     },
     "metadata": {},
     "output_type": "display_data"
    }
   ],
   "source": [
    "stringent[stringent$cluster == 'GLUT3',]$gene"
   ]
  },
  {
   "cell_type": "code",
   "execution_count": 51,
   "id": "f1a16066-8d50-4d98-a273-85414d2e109d",
   "metadata": {},
   "outputs": [
    {
     "data": {
      "text/html": [
       "<style>\n",
       ".list-inline {list-style: none; margin:0; padding: 0}\n",
       ".list-inline>li {display: inline-block}\n",
       ".list-inline>li:not(:last-child)::after {content: \"\\00b7\"; padding: 0 .5ex}\n",
       "</style>\n",
       "<ol class=list-inline><li>'KCND3'</li><li>'KCTD8'</li><li>'LMO3'</li><li>'OTOF'</li><li>'PCDH15'</li><li>'PDE1C'</li></ol>\n"
      ],
      "text/latex": [
       "\\begin{enumerate*}\n",
       "\\item 'KCND3'\n",
       "\\item 'KCTD8'\n",
       "\\item 'LMO3'\n",
       "\\item 'OTOF'\n",
       "\\item 'PCDH15'\n",
       "\\item 'PDE1C'\n",
       "\\end{enumerate*}\n"
      ],
      "text/markdown": [
       "1. 'KCND3'\n",
       "2. 'KCTD8'\n",
       "3. 'LMO3'\n",
       "4. 'OTOF'\n",
       "5. 'PCDH15'\n",
       "6. 'PDE1C'\n",
       "\n",
       "\n"
      ],
      "text/plain": [
       "[1] \"KCND3\"  \"KCTD8\"  \"LMO3\"   \"OTOF\"   \"PCDH15\" \"PDE1C\" "
      ]
     },
     "metadata": {},
     "output_type": "display_data"
    }
   ],
   "source": [
    "stringent[stringent$cluster == 'GLUT5',]$gene"
   ]
  },
  {
   "cell_type": "code",
   "execution_count": 52,
   "id": "e7d5b2f4-1cec-4ff0-91e1-90ac8faac6c0",
   "metadata": {},
   "outputs": [
    {
     "data": {
      "text/html": [],
      "text/latex": [],
      "text/markdown": [],
      "text/plain": [
       "character(0)"
      ]
     },
     "metadata": {},
     "output_type": "display_data"
    }
   ],
   "source": [
    "stringent[stringent$cluster == 'GLUT6',]$gene"
   ]
  },
  {
   "cell_type": "code",
   "execution_count": 53,
   "id": "f56b05cd-4461-46cd-aabc-14c01737e9b2",
   "metadata": {},
   "outputs": [
    {
     "data": {
      "text/html": [
       "<style>\n",
       ".list-inline {list-style: none; margin:0; padding: 0}\n",
       ".list-inline>li {display: inline-block}\n",
       ".list-inline>li:not(:last-child)::after {content: \"\\00b7\"; padding: 0 .5ex}\n",
       "</style>\n",
       "<ol class=list-inline><li>'CDH22'</li><li>'MAF'</li></ol>\n"
      ],
      "text/latex": [
       "\\begin{enumerate*}\n",
       "\\item 'CDH22'\n",
       "\\item 'MAF'\n",
       "\\end{enumerate*}\n"
      ],
      "text/markdown": [
       "1. 'CDH22'\n",
       "2. 'MAF'\n",
       "\n",
       "\n"
      ],
      "text/plain": [
       "[1] \"CDH22\" \"MAF\"  "
      ]
     },
     "metadata": {},
     "output_type": "display_data"
    }
   ],
   "source": [
    "stringent[stringent$cluster == 'GLUT7',]$gene"
   ]
  },
  {
   "cell_type": "code",
   "execution_count": 54,
   "id": "6184d70d-7392-4e0a-949a-1c73546ad81c",
   "metadata": {},
   "outputs": [
    {
     "data": {
      "text/html": [
       "<style>\n",
       ".list-inline {list-style: none; margin:0; padding: 0}\n",
       ".list-inline>li {display: inline-block}\n",
       ".list-inline>li:not(:last-child)::after {content: \"\\00b7\"; padding: 0 .5ex}\n",
       "</style>\n",
       "<ol class=list-inline><li>'ADCY2'</li><li>'CHGB'</li></ol>\n"
      ],
      "text/latex": [
       "\\begin{enumerate*}\n",
       "\\item 'ADCY2'\n",
       "\\item 'CHGB'\n",
       "\\end{enumerate*}\n"
      ],
      "text/markdown": [
       "1. 'ADCY2'\n",
       "2. 'CHGB'\n",
       "\n",
       "\n"
      ],
      "text/plain": [
       "[1] \"ADCY2\" \"CHGB\" "
      ]
     },
     "metadata": {},
     "output_type": "display_data"
    }
   ],
   "source": [
    "stringent[stringent$cluster == 'GLUT8',]$gene"
   ]
  },
  {
   "cell_type": "code",
   "execution_count": 55,
   "id": "bd082bbb-c3b3-4516-b0b5-efd5642c5c95",
   "metadata": {},
   "outputs": [
    {
     "data": {
      "text/html": [
       "'NTS'"
      ],
      "text/latex": [
       "'NTS'"
      ],
      "text/markdown": [
       "'NTS'"
      ],
      "text/plain": [
       "[1] \"NTS\""
      ]
     },
     "metadata": {},
     "output_type": "display_data"
    }
   ],
   "source": [
    "stringent[stringent$cluster == 'GLUT9',]$gene"
   ]
  },
  {
   "cell_type": "code",
   "execution_count": 56,
   "id": "ae55c6e6-3ba3-4320-8739-3dccd23c5624",
   "metadata": {},
   "outputs": [
    {
     "data": {
      "text/html": [
       "<style>\n",
       ".list-inline {list-style: none; margin:0; padding: 0}\n",
       ".list-inline>li {display: inline-block}\n",
       ".list-inline>li:not(:last-child)::after {content: \"\\00b7\"; padding: 0 .5ex}\n",
       "</style>\n",
       "<ol class=list-inline><li>'KCNH8'</li><li>'NR2F1'</li><li>'PRKCG'</li><li>'SNTB1'</li></ol>\n"
      ],
      "text/latex": [
       "\\begin{enumerate*}\n",
       "\\item 'KCNH8'\n",
       "\\item 'NR2F1'\n",
       "\\item 'PRKCG'\n",
       "\\item 'SNTB1'\n",
       "\\end{enumerate*}\n"
      ],
      "text/markdown": [
       "1. 'KCNH8'\n",
       "2. 'NR2F1'\n",
       "3. 'PRKCG'\n",
       "4. 'SNTB1'\n",
       "\n",
       "\n"
      ],
      "text/plain": [
       "[1] \"KCNH8\" \"NR2F1\" \"PRKCG\" \"SNTB1\""
      ]
     },
     "metadata": {},
     "output_type": "display_data"
    }
   ],
   "source": [
    "stringent[stringent$cluster == 'GLUT10',]$gene"
   ]
  },
  {
   "cell_type": "code",
   "execution_count": 57,
   "id": "81ac0036-0e06-4866-84ec-357284d147d8",
   "metadata": {},
   "outputs": [
    {
     "data": {
      "text/html": [],
      "text/latex": [],
      "text/markdown": [],
      "text/plain": [
       "character(0)"
      ]
     },
     "metadata": {},
     "output_type": "display_data"
    }
   ],
   "source": [
    "stringent[stringent$cluster == 'GLUT11',]$gene"
   ]
  },
  {
   "cell_type": "code",
   "execution_count": null,
   "id": "95c5e2a0-4164-4991-b9ab-e3dd7a7caa62",
   "metadata": {},
   "outputs": [
    {
     "data": {
      "text/html": [
       "<style>\n",
       ".list-inline {list-style: none; margin:0; padding: 0}\n",
       ".list-inline>li {display: inline-block}\n",
       ".list-inline>li:not(:last-child)::after {content: \"\\00b7\"; padding: 0 .5ex}\n",
       "</style>\n",
       "<ol class=list-inline><li>'HCN1'</li><li>'TCF4'</li><li>'ZNF385B'</li></ol>\n"
      ],
      "text/latex": [
       "\\begin{enumerate*}\n",
       "\\item 'HCN1'\n",
       "\\item 'TCF4'\n",
       "\\item 'ZNF385B'\n",
       "\\end{enumerate*}\n"
      ],
      "text/markdown": [
       "1. 'HCN1'\n",
       "2. 'TCF4'\n",
       "3. 'ZNF385B'\n",
       "\n",
       "\n"
      ],
      "text/plain": [
       "[1] \"HCN1\"    \"TCF4\"    \"ZNF385B\""
      ]
     },
     "metadata": {},
     "output_type": "display_data"
    }
   ],
   "source": [
    "stringent[stringent$cluster == 'GABA1',]$gene"
   ]
  },
  {
   "cell_type": "code",
   "execution_count": 59,
   "id": "57ed70ef-c53a-4d27-a5e2-00f7923f3c0a",
   "metadata": {},
   "outputs": [
    {
     "data": {
      "text/html": [
       "<style>\n",
       ".list-inline {list-style: none; margin:0; padding: 0}\n",
       ".list-inline>li {display: inline-block}\n",
       ".list-inline>li:not(:last-child)::after {content: \"\\00b7\"; padding: 0 .5ex}\n",
       "</style>\n",
       "<ol class=list-inline><li>'MGAT4C'</li><li>'SORCS3'</li><li>'SV2C'</li></ol>\n"
      ],
      "text/latex": [
       "\\begin{enumerate*}\n",
       "\\item 'MGAT4C'\n",
       "\\item 'SORCS3'\n",
       "\\item 'SV2C'\n",
       "\\end{enumerate*}\n"
      ],
      "text/markdown": [
       "1. 'MGAT4C'\n",
       "2. 'SORCS3'\n",
       "3. 'SV2C'\n",
       "\n",
       "\n"
      ],
      "text/plain": [
       "[1] \"MGAT4C\" \"SORCS3\" \"SV2C\"  "
      ]
     },
     "metadata": {},
     "output_type": "display_data"
    }
   ],
   "source": [
    "stringent[stringent$cluster == 'GABA2_1',]$gene"
   ]
  },
  {
   "cell_type": "code",
   "execution_count": 60,
   "id": "d3c54483-3c58-4ebe-aea6-4551d8c5ebf2",
   "metadata": {},
   "outputs": [
    {
     "data": {
      "text/html": [
       "'RYR3'"
      ],
      "text/latex": [
       "'RYR3'"
      ],
      "text/markdown": [
       "'RYR3'"
      ],
      "text/plain": [
       "[1] \"RYR3\""
      ]
     },
     "metadata": {},
     "output_type": "display_data"
    }
   ],
   "source": [
    "stringent[stringent$cluster == 'GABA2_2',]$gene"
   ]
  },
  {
   "cell_type": "code",
   "execution_count": 61,
   "id": "cb9f5e47-acf3-4dd9-b6a1-b7cd7558fa41",
   "metadata": {},
   "outputs": [
    {
     "data": {
      "text/html": [],
      "text/latex": [],
      "text/markdown": [],
      "text/plain": [
       "character(0)"
      ]
     },
     "metadata": {},
     "output_type": "display_data"
    }
   ],
   "source": [
    "stringent[stringent$cluster == 'GABA3',]$gene"
   ]
  },
  {
   "cell_type": "code",
   "execution_count": 4,
   "id": "bc155fcd-f29e-497c-a0b4-1a3e557fe622",
   "metadata": {},
   "outputs": [
    {
     "data": {
      "text/html": [
       "'GPC5'"
      ],
      "text/latex": [
       "'GPC5'"
      ],
      "text/markdown": [
       "'GPC5'"
      ],
      "text/plain": [
       "[1] \"GPC5\""
      ]
     },
     "metadata": {},
     "output_type": "display_data"
    }
   ],
   "source": [
    "stringent[stringent$cluster == 'GABA4_1',]$gene"
   ]
  },
  {
   "cell_type": "code",
   "execution_count": 5,
   "id": "5e6527ef-046d-41e0-b164-6e142b602403",
   "metadata": {},
   "outputs": [
    {
     "data": {
      "text/html": [
       "<style>\n",
       ".list-inline {list-style: none; margin:0; padding: 0}\n",
       ".list-inline>li {display: inline-block}\n",
       ".list-inline>li:not(:last-child)::after {content: \"\\00b7\"; padding: 0 .5ex}\n",
       "</style>\n",
       "<ol class=list-inline><li>'BCL11A'</li><li>'BRINP3'</li><li>'GPC5'</li><li>'LY6H'</li><li>'MEF2C'</li><li>'NETO2'</li><li>'SERPINE2'</li></ol>\n"
      ],
      "text/latex": [
       "\\begin{enumerate*}\n",
       "\\item 'BCL11A'\n",
       "\\item 'BRINP3'\n",
       "\\item 'GPC5'\n",
       "\\item 'LY6H'\n",
       "\\item 'MEF2C'\n",
       "\\item 'NETO2'\n",
       "\\item 'SERPINE2'\n",
       "\\end{enumerate*}\n"
      ],
      "text/markdown": [
       "1. 'BCL11A'\n",
       "2. 'BRINP3'\n",
       "3. 'GPC5'\n",
       "4. 'LY6H'\n",
       "5. 'MEF2C'\n",
       "6. 'NETO2'\n",
       "7. 'SERPINE2'\n",
       "\n",
       "\n"
      ],
      "text/plain": [
       "[1] \"BCL11A\"   \"BRINP3\"   \"GPC5\"     \"LY6H\"     \"MEF2C\"    \"NETO2\"    \"SERPINE2\""
      ]
     },
     "metadata": {},
     "output_type": "display_data"
    }
   ],
   "source": [
    "macaque_human_mouse_specific[macaque_human_mouse_specific$cluster == 'GABA4_1',]$gene"
   ]
  },
  {
   "cell_type": "code",
   "execution_count": 62,
   "id": "64da7726-5666-455c-bb90-24d6c698d991",
   "metadata": {},
   "outputs": [
    {
     "data": {
      "text/html": [
       "'ZEB2'"
      ],
      "text/latex": [
       "'ZEB2'"
      ],
      "text/markdown": [
       "'ZEB2'"
      ],
      "text/plain": [
       "[1] \"ZEB2\""
      ]
     },
     "metadata": {},
     "output_type": "display_data"
    }
   ],
   "source": [
    "stringent[stringent$cluster == 'GABA5',]$gene"
   ]
  },
  {
   "cell_type": "code",
   "execution_count": 40,
   "id": "34b91dfa-3216-4053-a98e-e9aa2a05b290",
   "metadata": {},
   "outputs": [
    {
     "data": {
      "text/html": [
       "<style>\n",
       ".list-inline {list-style: none; margin:0; padding: 0}\n",
       ".list-inline>li {display: inline-block}\n",
       ".list-inline>li:not(:last-child)::after {content: \"\\00b7\"; padding: 0 .5ex}\n",
       "</style>\n",
       "<ol class=list-inline><li>'APBA2'</li><li>'ASAP1'</li><li>'BICC1'</li><li>'CDH20'</li><li>'CLMP'</li><li>'CRTAC1'</li><li>'ELAVL2'</li><li>'FAM20A'</li><li>'GRM8'</li><li>'HCN1'</li><li>'PLCL1'</li><li>'PRKCQ'</li><li>'TCF4'</li><li>'TLL1'</li><li>'TMTC2'</li><li>'ZNF385B'</li></ol>\n"
      ],
      "text/latex": [
       "\\begin{enumerate*}\n",
       "\\item 'APBA2'\n",
       "\\item 'ASAP1'\n",
       "\\item 'BICC1'\n",
       "\\item 'CDH20'\n",
       "\\item 'CLMP'\n",
       "\\item 'CRTAC1'\n",
       "\\item 'ELAVL2'\n",
       "\\item 'FAM20A'\n",
       "\\item 'GRM8'\n",
       "\\item 'HCN1'\n",
       "\\item 'PLCL1'\n",
       "\\item 'PRKCQ'\n",
       "\\item 'TCF4'\n",
       "\\item 'TLL1'\n",
       "\\item 'TMTC2'\n",
       "\\item 'ZNF385B'\n",
       "\\end{enumerate*}\n"
      ],
      "text/markdown": [
       "1. 'APBA2'\n",
       "2. 'ASAP1'\n",
       "3. 'BICC1'\n",
       "4. 'CDH20'\n",
       "5. 'CLMP'\n",
       "6. 'CRTAC1'\n",
       "7. 'ELAVL2'\n",
       "8. 'FAM20A'\n",
       "9. 'GRM8'\n",
       "10. 'HCN1'\n",
       "11. 'PLCL1'\n",
       "12. 'PRKCQ'\n",
       "13. 'TCF4'\n",
       "14. 'TLL1'\n",
       "15. 'TMTC2'\n",
       "16. 'ZNF385B'\n",
       "\n",
       "\n"
      ],
      "text/plain": [
       " [1] \"APBA2\"   \"ASAP1\"   \"BICC1\"   \"CDH20\"   \"CLMP\"    \"CRTAC1\"  \"ELAVL2\" \n",
       " [8] \"FAM20A\"  \"GRM8\"    \"HCN1\"    \"PLCL1\"   \"PRKCQ\"   \"TCF4\"    \"TLL1\"   \n",
       "[15] \"TMTC2\"   \"ZNF385B\""
      ]
     },
     "metadata": {},
     "output_type": "display_data"
    }
   ],
   "source": [
    "# GABA2_1\n",
    "macaque_human_mouse_specific[macaque_human_mouse_specific$cluster == 'GABA1',]$gene"
   ]
  },
  {
   "cell_type": "code",
   "execution_count": 42,
   "id": "3c1ebab4-d4c8-4700-97e1-b05c7551c751",
   "metadata": {},
   "outputs": [
    {
     "data": {
      "text/html": [
       "<style>\n",
       ".list-inline {list-style: none; margin:0; padding: 0}\n",
       ".list-inline>li {display: inline-block}\n",
       ".list-inline>li:not(:last-child)::after {content: \"\\00b7\"; padding: 0 .5ex}\n",
       "</style>\n",
       "<ol class=list-inline><li>'CDH6'</li><li>'DNER'</li><li>'LRP1B'</li><li>'NWD2'</li><li>'PROX1'</li><li>'RPH3A'</li><li>'SCG2'</li><li>'SGCZ'</li><li>'STAC'</li><li>'ZEB2'</li></ol>\n"
      ],
      "text/latex": [
       "\\begin{enumerate*}\n",
       "\\item 'CDH6'\n",
       "\\item 'DNER'\n",
       "\\item 'LRP1B'\n",
       "\\item 'NWD2'\n",
       "\\item 'PROX1'\n",
       "\\item 'RPH3A'\n",
       "\\item 'SCG2'\n",
       "\\item 'SGCZ'\n",
       "\\item 'STAC'\n",
       "\\item 'ZEB2'\n",
       "\\end{enumerate*}\n"
      ],
      "text/markdown": [
       "1. 'CDH6'\n",
       "2. 'DNER'\n",
       "3. 'LRP1B'\n",
       "4. 'NWD2'\n",
       "5. 'PROX1'\n",
       "6. 'RPH3A'\n",
       "7. 'SCG2'\n",
       "8. 'SGCZ'\n",
       "9. 'STAC'\n",
       "10. 'ZEB2'\n",
       "\n",
       "\n"
      ],
      "text/plain": [
       " [1] \"CDH6\"  \"DNER\"  \"LRP1B\" \"NWD2\"  \"PROX1\" \"RPH3A\" \"SCG2\"  \"SGCZ\"  \"STAC\" \n",
       "[10] \"ZEB2\" "
      ]
     },
     "metadata": {},
     "output_type": "display_data"
    }
   ],
   "source": [
    "macaque_human_mouse_specific[macaque_human_mouse_specific$cluster == 'GABA5',]$gene"
   ]
  },
  {
   "cell_type": "code",
   "execution_count": 43,
   "id": "8513b004-4ba2-4983-9523-25870bada1a5",
   "metadata": {},
   "outputs": [
    {
     "data": {
      "text/html": [
       "<style>\n",
       ".list-inline {list-style: none; margin:0; padding: 0}\n",
       ".list-inline>li {display: inline-block}\n",
       ".list-inline>li:not(:last-child)::after {content: \"\\00b7\"; padding: 0 .5ex}\n",
       "</style>\n",
       "<ol class=list-inline><li>'ATP2B2'</li><li>'CACNA1I'</li><li>'CAMTA1'</li><li>'COL19A1'</li><li>'DGKG'</li><li>'IL1RAPL1'</li><li>'MGAT4C'</li><li>'MSI2'</li><li>'NFIA'</li><li>'PRR16'</li><li>'RHBDL3'</li><li>'SORCS3'</li><li>'SV2C'</li><li>'SYN3'</li></ol>\n"
      ],
      "text/latex": [
       "\\begin{enumerate*}\n",
       "\\item 'ATP2B2'\n",
       "\\item 'CACNA1I'\n",
       "\\item 'CAMTA1'\n",
       "\\item 'COL19A1'\n",
       "\\item 'DGKG'\n",
       "\\item 'IL1RAPL1'\n",
       "\\item 'MGAT4C'\n",
       "\\item 'MSI2'\n",
       "\\item 'NFIA'\n",
       "\\item 'PRR16'\n",
       "\\item 'RHBDL3'\n",
       "\\item 'SORCS3'\n",
       "\\item 'SV2C'\n",
       "\\item 'SYN3'\n",
       "\\end{enumerate*}\n"
      ],
      "text/markdown": [
       "1. 'ATP2B2'\n",
       "2. 'CACNA1I'\n",
       "3. 'CAMTA1'\n",
       "4. 'COL19A1'\n",
       "5. 'DGKG'\n",
       "6. 'IL1RAPL1'\n",
       "7. 'MGAT4C'\n",
       "8. 'MSI2'\n",
       "9. 'NFIA'\n",
       "10. 'PRR16'\n",
       "11. 'RHBDL3'\n",
       "12. 'SORCS3'\n",
       "13. 'SV2C'\n",
       "14. 'SYN3'\n",
       "\n",
       "\n"
      ],
      "text/plain": [
       " [1] \"ATP2B2\"   \"CACNA1I\"  \"CAMTA1\"   \"COL19A1\"  \"DGKG\"     \"IL1RAPL1\"\n",
       " [7] \"MGAT4C\"   \"MSI2\"     \"NFIA\"     \"PRR16\"    \"RHBDL3\"   \"SORCS3\"  \n",
       "[13] \"SV2C\"     \"SYN3\"    "
      ]
     },
     "metadata": {},
     "output_type": "display_data"
    }
   ],
   "source": [
    "# GABA2_1\n",
    "macaque_human_mouse_specific[macaque_human_mouse_specific$cluster == 'GABA2_1',]$gene"
   ]
  },
  {
   "cell_type": "code",
   "execution_count": 44,
   "id": "23adb6ba-d37f-412d-abb9-7b521e20c6a2",
   "metadata": {},
   "outputs": [
    {
     "data": {
      "text/html": [
       "<style>\n",
       ".list-inline {list-style: none; margin:0; padding: 0}\n",
       ".list-inline>li {display: inline-block}\n",
       ".list-inline>li:not(:last-child)::after {content: \"\\00b7\"; padding: 0 .5ex}\n",
       "</style>\n",
       "<ol class=list-inline><li>'NETO1'</li><li>'NOVA1'</li><li>'RYR3'</li><li>'TENM2'</li></ol>\n"
      ],
      "text/latex": [
       "\\begin{enumerate*}\n",
       "\\item 'NETO1'\n",
       "\\item 'NOVA1'\n",
       "\\item 'RYR3'\n",
       "\\item 'TENM2'\n",
       "\\end{enumerate*}\n"
      ],
      "text/markdown": [
       "1. 'NETO1'\n",
       "2. 'NOVA1'\n",
       "3. 'RYR3'\n",
       "4. 'TENM2'\n",
       "\n",
       "\n"
      ],
      "text/plain": [
       "[1] \"NETO1\" \"NOVA1\" \"RYR3\"  \"TENM2\""
      ]
     },
     "metadata": {},
     "output_type": "display_data"
    },
    {
     "data": {
      "text/html": [
       "<table class=\"dataframe\">\n",
       "<caption>A data.frame: 4 × 17</caption>\n",
       "<thead>\n",
       "\t<tr><th></th><th scope=col>gene</th><th scope=col>cluster</th><th scope=col>p_val.macaque</th><th scope=col>avg_log2FC.macaque</th><th scope=col>pct.1.macaque</th><th scope=col>pct.2.macaque</th><th scope=col>p_val_adj.macaque</th><th scope=col>p_val.human</th><th scope=col>avg_log2FC.human</th><th scope=col>pct.1.human</th><th scope=col>pct.2.human</th><th scope=col>p_val_adj.human</th><th scope=col>p_val</th><th scope=col>avg_log2FC</th><th scope=col>pct.1</th><th scope=col>pct.2</th><th scope=col>p_val_adj</th></tr>\n",
       "\t<tr><th></th><th scope=col>&lt;chr&gt;</th><th scope=col>&lt;chr&gt;</th><th scope=col>&lt;dbl&gt;</th><th scope=col>&lt;dbl&gt;</th><th scope=col>&lt;dbl&gt;</th><th scope=col>&lt;dbl&gt;</th><th scope=col>&lt;dbl&gt;</th><th scope=col>&lt;dbl&gt;</th><th scope=col>&lt;dbl&gt;</th><th scope=col>&lt;dbl&gt;</th><th scope=col>&lt;dbl&gt;</th><th scope=col>&lt;dbl&gt;</th><th scope=col>&lt;dbl&gt;</th><th scope=col>&lt;dbl&gt;</th><th scope=col>&lt;dbl&gt;</th><th scope=col>&lt;dbl&gt;</th><th scope=col>&lt;dbl&gt;</th></tr>\n",
       "</thead>\n",
       "<tbody>\n",
       "\t<tr><th scope=row>95</th><td>NETO1</td><td>GABA2_2</td><td>2.991175e-10</td><td>0.3497554</td><td>0.521</td><td>0.219</td><td>1.641976e-05</td><td>8.162515e-03</td><td>0.5113544</td><td>0.500</td><td>0.230</td><td>1.0000000</td><td>2.129765e-21</td><td>0.4931912</td><td>0.434</td><td>0.159</td><td>5.960147e-17</td></tr>\n",
       "\t<tr><th scope=row>100</th><td>NOVA1</td><td>GABA2_2</td><td>8.680097e-09</td><td>0.4470763</td><td>0.803</td><td>0.563</td><td>4.764853e-04</td><td>2.033623e-05</td><td>0.9954634</td><td>0.929</td><td>0.852</td><td>0.4522371</td><td>1.277139e-08</td><td>0.3021760</td><td>0.400</td><td>0.210</td><td>3.574073e-04</td></tr>\n",
       "\t<tr><th scope=row>129</th><td>RYR3 </td><td>GABA2_2</td><td>5.299454e-22</td><td>0.7637845</td><td>0.944</td><td>0.509</td><td>2.909082e-17</td><td>9.589158e-06</td><td>1.2310913</td><td>0.929</td><td>0.520</td><td>0.2132437</td><td>4.245175e-47</td><td>0.7190427</td><td>0.920</td><td>0.516</td><td>1.188012e-42</td></tr>\n",
       "\t<tr><th scope=row>154</th><td>TENM2</td><td>GABA2_2</td><td>2.362240e-10</td><td>0.3654246</td><td>1.000</td><td>0.854</td><td>1.296728e-05</td><td>4.024489e-04</td><td>1.3713604</td><td>0.929</td><td>0.862</td><td>1.0000000</td><td>3.388245e-70</td><td>0.5706557</td><td>0.989</td><td>0.780</td><td>9.482005e-66</td></tr>\n",
       "</tbody>\n",
       "</table>\n"
      ],
      "text/latex": [
       "A data.frame: 4 × 17\n",
       "\\begin{tabular}{r|lllllllllllllllll}\n",
       "  & gene & cluster & p\\_val.macaque & avg\\_log2FC.macaque & pct.1.macaque & pct.2.macaque & p\\_val\\_adj.macaque & p\\_val.human & avg\\_log2FC.human & pct.1.human & pct.2.human & p\\_val\\_adj.human & p\\_val & avg\\_log2FC & pct.1 & pct.2 & p\\_val\\_adj\\\\\n",
       "  & <chr> & <chr> & <dbl> & <dbl> & <dbl> & <dbl> & <dbl> & <dbl> & <dbl> & <dbl> & <dbl> & <dbl> & <dbl> & <dbl> & <dbl> & <dbl> & <dbl>\\\\\n",
       "\\hline\n",
       "\t95 & NETO1 & GABA2\\_2 & 2.991175e-10 & 0.3497554 & 0.521 & 0.219 & 1.641976e-05 & 8.162515e-03 & 0.5113544 & 0.500 & 0.230 & 1.0000000 & 2.129765e-21 & 0.4931912 & 0.434 & 0.159 & 5.960147e-17\\\\\n",
       "\t100 & NOVA1 & GABA2\\_2 & 8.680097e-09 & 0.4470763 & 0.803 & 0.563 & 4.764853e-04 & 2.033623e-05 & 0.9954634 & 0.929 & 0.852 & 0.4522371 & 1.277139e-08 & 0.3021760 & 0.400 & 0.210 & 3.574073e-04\\\\\n",
       "\t129 & RYR3  & GABA2\\_2 & 5.299454e-22 & 0.7637845 & 0.944 & 0.509 & 2.909082e-17 & 9.589158e-06 & 1.2310913 & 0.929 & 0.520 & 0.2132437 & 4.245175e-47 & 0.7190427 & 0.920 & 0.516 & 1.188012e-42\\\\\n",
       "\t154 & TENM2 & GABA2\\_2 & 2.362240e-10 & 0.3654246 & 1.000 & 0.854 & 1.296728e-05 & 4.024489e-04 & 1.3713604 & 0.929 & 0.862 & 1.0000000 & 3.388245e-70 & 0.5706557 & 0.989 & 0.780 & 9.482005e-66\\\\\n",
       "\\end{tabular}\n"
      ],
      "text/markdown": [
       "\n",
       "A data.frame: 4 × 17\n",
       "\n",
       "| <!--/--> | gene &lt;chr&gt; | cluster &lt;chr&gt; | p_val.macaque &lt;dbl&gt; | avg_log2FC.macaque &lt;dbl&gt; | pct.1.macaque &lt;dbl&gt; | pct.2.macaque &lt;dbl&gt; | p_val_adj.macaque &lt;dbl&gt; | p_val.human &lt;dbl&gt; | avg_log2FC.human &lt;dbl&gt; | pct.1.human &lt;dbl&gt; | pct.2.human &lt;dbl&gt; | p_val_adj.human &lt;dbl&gt; | p_val &lt;dbl&gt; | avg_log2FC &lt;dbl&gt; | pct.1 &lt;dbl&gt; | pct.2 &lt;dbl&gt; | p_val_adj &lt;dbl&gt; |\n",
       "|---|---|---|---|---|---|---|---|---|---|---|---|---|---|---|---|---|---|\n",
       "| 95 | NETO1 | GABA2_2 | 2.991175e-10 | 0.3497554 | 0.521 | 0.219 | 1.641976e-05 | 8.162515e-03 | 0.5113544 | 0.500 | 0.230 | 1.0000000 | 2.129765e-21 | 0.4931912 | 0.434 | 0.159 | 5.960147e-17 |\n",
       "| 100 | NOVA1 | GABA2_2 | 8.680097e-09 | 0.4470763 | 0.803 | 0.563 | 4.764853e-04 | 2.033623e-05 | 0.9954634 | 0.929 | 0.852 | 0.4522371 | 1.277139e-08 | 0.3021760 | 0.400 | 0.210 | 3.574073e-04 |\n",
       "| 129 | RYR3  | GABA2_2 | 5.299454e-22 | 0.7637845 | 0.944 | 0.509 | 2.909082e-17 | 9.589158e-06 | 1.2310913 | 0.929 | 0.520 | 0.2132437 | 4.245175e-47 | 0.7190427 | 0.920 | 0.516 | 1.188012e-42 |\n",
       "| 154 | TENM2 | GABA2_2 | 2.362240e-10 | 0.3654246 | 1.000 | 0.854 | 1.296728e-05 | 4.024489e-04 | 1.3713604 | 0.929 | 0.862 | 1.0000000 | 3.388245e-70 | 0.5706557 | 0.989 | 0.780 | 9.482005e-66 |\n",
       "\n"
      ],
      "text/plain": [
       "    gene  cluster p_val.macaque avg_log2FC.macaque pct.1.macaque pct.2.macaque\n",
       "95  NETO1 GABA2_2 2.991175e-10  0.3497554          0.521         0.219        \n",
       "100 NOVA1 GABA2_2 8.680097e-09  0.4470763          0.803         0.563        \n",
       "129 RYR3  GABA2_2 5.299454e-22  0.7637845          0.944         0.509        \n",
       "154 TENM2 GABA2_2 2.362240e-10  0.3654246          1.000         0.854        \n",
       "    p_val_adj.macaque p_val.human  avg_log2FC.human pct.1.human pct.2.human\n",
       "95  1.641976e-05      8.162515e-03 0.5113544        0.500       0.230      \n",
       "100 4.764853e-04      2.033623e-05 0.9954634        0.929       0.852      \n",
       "129 2.909082e-17      9.589158e-06 1.2310913        0.929       0.520      \n",
       "154 1.296728e-05      4.024489e-04 1.3713604        0.929       0.862      \n",
       "    p_val_adj.human p_val        avg_log2FC pct.1 pct.2 p_val_adj   \n",
       "95  1.0000000       2.129765e-21 0.4931912  0.434 0.159 5.960147e-17\n",
       "100 0.4522371       1.277139e-08 0.3021760  0.400 0.210 3.574073e-04\n",
       "129 0.2132437       4.245175e-47 0.7190427  0.920 0.516 1.188012e-42\n",
       "154 1.0000000       3.388245e-70 0.5706557  0.989 0.780 9.482005e-66"
      ]
     },
     "metadata": {},
     "output_type": "display_data"
    }
   ],
   "source": [
    "# GABA2_2\n",
    "macaque_human_mouse_specific[macaque_human_mouse_specific$cluster == 'GABA2_2',]$gene\n",
    "macaque_human_mouse_specific[macaque_human_mouse_specific$cluster == 'GABA2_2',]"
   ]
  },
  {
   "cell_type": "code",
   "execution_count": null,
   "id": "ab742de9-4fe9-4a54-adb9-fe5f9d71bd6a",
   "metadata": {},
   "outputs": [],
   "source": []
  }
 ],
 "metadata": {
  "kernelspec": {
   "display_name": "R",
   "language": "R",
   "name": "ir"
  },
  "language_info": {
   "codemirror_mode": "r",
   "file_extension": ".r",
   "mimetype": "text/x-r-source",
   "name": "R",
   "pygments_lexer": "r",
   "version": "4.3.1"
  }
 },
 "nbformat": 4,
 "nbformat_minor": 5
}
